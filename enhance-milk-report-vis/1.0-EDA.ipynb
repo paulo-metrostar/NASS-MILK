{
 "cells": [
  {
   "cell_type": "markdown",
   "metadata": {},
   "source": [
    "# EDA\n",
    "Exploratory Data Analysis\n",
    "\n",
    "## Enhancing Milk-Report Visualizations\n",
    "_Paulo G. Martinez_ 9/21/2020"
   ]
  },
  {
   "cell_type": "code",
   "execution_count": 1,
   "metadata": {},
   "outputs": [],
   "source": [
    "# import packages\n",
    "# for json loading and dumping\n",
    "import json\n",
    "# for os/platform independent path handling\n",
    "from pathlib import Path\n",
    "# for table manipulations\n",
    "import pandas as pd\n",
    "# for html friendly interactive visualizations\n",
    "import plotly.graph_objects as go\n",
    "# for pretty printing\n",
    "import pprint\n",
    "# for string manipulations\n",
    "import re"
   ]
  },
  {
   "cell_type": "markdown",
   "metadata": {},
   "source": [
    "\n",
    "## Target Visualization to Enhance:\n",
    "![Monthly Milk Production 24 Selected States](pictures/monthly-milk-prod-24-states.png)"
   ]
  },
  {
   "cell_type": "markdown",
   "metadata": {},
   "source": [
    "**I'll actually pull in more data to attempt to demo the summarizing power and flexibility of an interactive vis**\n",
    "- Instead of pulling National Estimates for two years at monthly periods\n",
    "- I pulled State estimates for all available years (1924 - 2020)\n",
    "    - hoping to represent national estimates as aggregated sum of states\n",
    "    - And grouping estimates by year so as to plot them as differently \"hued\" traces on a single line chart\n",
    "    \n",
    "## Download local copy of QS CSV for Monthly Milk Production Viz from QS like so:\n",
    "![Monthly Milk Production All States 1924 - 9-10-2020](pictures/milk-prod-all-states-1924-9-10-2020-QS.png)"
   ]
  },
  {
   "cell_type": "code",
   "execution_count": 2,
   "metadata": {},
   "outputs": [
    {
     "data": {
      "text/plain": [
       "'(I think I may have even saved the query at:\\n[DEFAULT]\\nURL=https://quickstats.nass.usda.gov/results/1DBE1F03-7EDB-36CD-8F5E-ED46D069872C\\n[InternetShortcut]\\nURL=https://quickstats.nass.usda.gov/results/1DBE1F03-7EDB-36CD-8F5E-ED46D069872C'"
      ]
     },
     "execution_count": 2,
     "metadata": {},
     "output_type": "execute_result"
    }
   ],
   "source": [
    "'''(I think I may have even saved the query at:\n",
    "[DEFAULT]\n",
    "URL=https://quickstats.nass.usda.gov/results/1DBE1F03-7EDB-36CD-8F5E-ED46D069872C\n",
    "[InternetShortcut]\n",
    "URL=https://quickstats.nass.usda.gov/results/1DBE1F03-7EDB-36CD-8F5E-ED46D069872C'''"
   ]
  },
  {
   "cell_type": "markdown",
   "metadata": {},
   "source": [
    "## Read csv into data frame"
   ]
  },
  {
   "cell_type": "code",
   "execution_count": 3,
   "metadata": {},
   "outputs": [
    {
     "data": {
      "text/html": [
       "<div>\n",
       "<style scoped>\n",
       "    .dataframe tbody tr th:only-of-type {\n",
       "        vertical-align: middle;\n",
       "    }\n",
       "\n",
       "    .dataframe tbody tr th {\n",
       "        vertical-align: top;\n",
       "    }\n",
       "\n",
       "    .dataframe thead th {\n",
       "        text-align: right;\n",
       "    }\n",
       "</style>\n",
       "<table border=\"1\" class=\"dataframe\">\n",
       "  <thead>\n",
       "    <tr style=\"text-align: right;\">\n",
       "      <th></th>\n",
       "      <th>Program</th>\n",
       "      <th>Year</th>\n",
       "      <th>Period</th>\n",
       "      <th>Week Ending</th>\n",
       "      <th>Geo Level</th>\n",
       "      <th>State</th>\n",
       "      <th>State ANSI</th>\n",
       "      <th>Ag District</th>\n",
       "      <th>Ag District Code</th>\n",
       "      <th>County</th>\n",
       "      <th>...</th>\n",
       "      <th>Zip Code</th>\n",
       "      <th>Region</th>\n",
       "      <th>watershed_code</th>\n",
       "      <th>Watershed</th>\n",
       "      <th>Commodity</th>\n",
       "      <th>Data Item</th>\n",
       "      <th>Domain</th>\n",
       "      <th>Domain Category</th>\n",
       "      <th>Value</th>\n",
       "      <th>CV (%)</th>\n",
       "    </tr>\n",
       "  </thead>\n",
       "  <tbody>\n",
       "    <tr>\n",
       "      <th>0</th>\n",
       "      <td>SURVEY</td>\n",
       "      <td>2020</td>\n",
       "      <td>JAN</td>\n",
       "      <td>NaN</td>\n",
       "      <td>STATE</td>\n",
       "      <td>ARIZONA</td>\n",
       "      <td>4.0</td>\n",
       "      <td>NaN</td>\n",
       "      <td>NaN</td>\n",
       "      <td>NaN</td>\n",
       "      <td>...</td>\n",
       "      <td>NaN</td>\n",
       "      <td>NaN</td>\n",
       "      <td>0</td>\n",
       "      <td>NaN</td>\n",
       "      <td>MILK</td>\n",
       "      <td>MILK - PRODUCTION, MEASURED IN LB</td>\n",
       "      <td>TOTAL</td>\n",
       "      <td>NOT SPECIFIED</td>\n",
       "      <td>412,000,000</td>\n",
       "      <td>NaN</td>\n",
       "    </tr>\n",
       "    <tr>\n",
       "      <th>1</th>\n",
       "      <td>SURVEY</td>\n",
       "      <td>2020</td>\n",
       "      <td>JAN</td>\n",
       "      <td>NaN</td>\n",
       "      <td>STATE</td>\n",
       "      <td>CALIFORNIA</td>\n",
       "      <td>6.0</td>\n",
       "      <td>NaN</td>\n",
       "      <td>NaN</td>\n",
       "      <td>NaN</td>\n",
       "      <td>...</td>\n",
       "      <td>NaN</td>\n",
       "      <td>NaN</td>\n",
       "      <td>0</td>\n",
       "      <td>NaN</td>\n",
       "      <td>MILK</td>\n",
       "      <td>MILK - PRODUCTION, MEASURED IN LB</td>\n",
       "      <td>TOTAL</td>\n",
       "      <td>NOT SPECIFIED</td>\n",
       "      <td>3,526,000,000</td>\n",
       "      <td>NaN</td>\n",
       "    </tr>\n",
       "    <tr>\n",
       "      <th>2</th>\n",
       "      <td>SURVEY</td>\n",
       "      <td>2020</td>\n",
       "      <td>JAN</td>\n",
       "      <td>NaN</td>\n",
       "      <td>STATE</td>\n",
       "      <td>COLORADO</td>\n",
       "      <td>8.0</td>\n",
       "      <td>NaN</td>\n",
       "      <td>NaN</td>\n",
       "      <td>NaN</td>\n",
       "      <td>...</td>\n",
       "      <td>NaN</td>\n",
       "      <td>NaN</td>\n",
       "      <td>0</td>\n",
       "      <td>NaN</td>\n",
       "      <td>MILK</td>\n",
       "      <td>MILK - PRODUCTION, MEASURED IN LB</td>\n",
       "      <td>TOTAL</td>\n",
       "      <td>NOT SPECIFIED</td>\n",
       "      <td>422,000,000</td>\n",
       "      <td>NaN</td>\n",
       "    </tr>\n",
       "  </tbody>\n",
       "</table>\n",
       "<p>3 rows × 21 columns</p>\n",
       "</div>"
      ],
      "text/plain": [
       "  Program  Year Period  Week Ending Geo Level       State  State ANSI  \\\n",
       "0  SURVEY  2020    JAN          NaN     STATE     ARIZONA         4.0   \n",
       "1  SURVEY  2020    JAN          NaN     STATE  CALIFORNIA         6.0   \n",
       "2  SURVEY  2020    JAN          NaN     STATE    COLORADO         8.0   \n",
       "\n",
       "   Ag District  Ag District Code  County  ...  Zip Code  Region  \\\n",
       "0          NaN               NaN     NaN  ...       NaN     NaN   \n",
       "1          NaN               NaN     NaN  ...       NaN     NaN   \n",
       "2          NaN               NaN     NaN  ...       NaN     NaN   \n",
       "\n",
       "   watershed_code  Watershed  Commodity                          Data Item  \\\n",
       "0               0        NaN       MILK  MILK - PRODUCTION, MEASURED IN LB   \n",
       "1               0        NaN       MILK  MILK - PRODUCTION, MEASURED IN LB   \n",
       "2               0        NaN       MILK  MILK - PRODUCTION, MEASURED IN LB   \n",
       "\n",
       "  Domain Domain Category          Value CV (%)  \n",
       "0  TOTAL   NOT SPECIFIED    412,000,000    NaN  \n",
       "1  TOTAL   NOT SPECIFIED  3,526,000,000    NaN  \n",
       "2  TOTAL   NOT SPECIFIED    422,000,000    NaN  \n",
       "\n",
       "[3 rows x 21 columns]"
      ]
     },
     "execution_count": 3,
     "metadata": {},
     "output_type": "execute_result"
    }
   ],
   "source": [
    "# declare and handle path to data for local os\n",
    "path_to_data = Path('data/milk-prod-all-states-1924-9-10-2020-1DBE1F03-7EDB-36CD-8F5E-ED46D069872C.csv')\n",
    "# read raw QS table into pandas\n",
    "qs_df = pd.read_csv(path_to_data)\n",
    "# show first rows\n",
    "qs_df.head(3)"
   ]
  },
  {
   "cell_type": "code",
   "execution_count": 4,
   "metadata": {},
   "outputs": [
    {
     "name": "stdout",
     "output_type": "stream",
     "text": [
      "<class 'pandas.core.frame.DataFrame'>\n",
      "RangeIndex: 46375 entries, 0 to 46374\n",
      "Data columns (total 21 columns):\n",
      " #   Column            Non-Null Count  Dtype  \n",
      "---  ------            --------------  -----  \n",
      " 0   Program           46375 non-null  object \n",
      " 1   Year              46375 non-null  int64  \n",
      " 2   Period            46375 non-null  object \n",
      " 3   Week Ending       0 non-null      float64\n",
      " 4   Geo Level         46375 non-null  object \n",
      " 5   State             46375 non-null  object \n",
      " 6   State ANSI        46368 non-null  float64\n",
      " 7   Ag District       0 non-null      float64\n",
      " 8   Ag District Code  0 non-null      float64\n",
      " 9   County            0 non-null      float64\n",
      " 10  County ANSI       0 non-null      float64\n",
      " 11  Zip Code          0 non-null      float64\n",
      " 12  Region            0 non-null      float64\n",
      " 13  watershed_code    46375 non-null  int64  \n",
      " 14  Watershed         0 non-null      float64\n",
      " 15  Commodity         46375 non-null  object \n",
      " 16  Data Item         46375 non-null  object \n",
      " 17  Domain            46375 non-null  object \n",
      " 18  Domain Category   46375 non-null  object \n",
      " 19  Value             46375 non-null  object \n",
      " 20  CV (%)            0 non-null      float64\n",
      "dtypes: float64(10), int64(2), object(9)\n",
      "memory usage: 7.4+ MB\n"
     ]
    }
   ],
   "source": [
    "# show basic info\n",
    "qs_df.info()"
   ]
  },
  {
   "cell_type": "markdown",
   "metadata": {},
   "source": [
    "**correct the datatype for the 'Value' column**"
   ]
  },
  {
   "cell_type": "code",
   "execution_count": 5,
   "metadata": {},
   "outputs": [
    {
     "data": {
      "text/plain": [
       "array(['412,000,000', '3,526,000,000', '422,000,000', '215,000,000',\n",
       "       '161,000,000'], dtype=object)"
      ]
     },
     "execution_count": 5,
     "metadata": {},
     "output_type": "execute_result"
    }
   ],
   "source": [
    "# see what the values look like\n",
    "qs_df.Value.head().values"
   ]
  },
  {
   "cell_type": "code",
   "execution_count": 6,
   "metadata": {},
   "outputs": [
    {
     "data": {
      "text/plain": [
       "'412000000'"
      ]
     },
     "execution_count": 6,
     "metadata": {},
     "output_type": "execute_result"
    }
   ],
   "source": [
    "# test out comma substitution\n",
    "re.sub(',', '', qs_df.Value[0])"
   ]
  },
  {
   "cell_type": "code",
   "execution_count": 7,
   "metadata": {},
   "outputs": [
    {
     "data": {
      "text/plain": [
       "0          412000000\n",
       "1         3526000000\n",
       "2          422000000\n",
       "3          215000000\n",
       "4          161000000\n",
       "            ...     \n",
       "46370     1287000000\n",
       "46371     1540000000\n",
       "46372      709000000\n",
       "46373    10127000000\n",
       "46374      223000000\n",
       "Name: Value, Length: 46375, dtype: object"
      ]
     },
     "execution_count": 7,
     "metadata": {},
     "output_type": "execute_result"
    }
   ],
   "source": [
    "# apply the comma stripping to the whole column\n",
    "qs_df.Value.apply(\n",
    "    lambda s: re.sub(',', '', s)\n",
    ")"
   ]
  },
  {
   "cell_type": "markdown",
   "metadata": {},
   "source": [
    "**That's strange, how many non-numeric values are in there?**"
   ]
  },
  {
   "cell_type": "code",
   "execution_count": 8,
   "metadata": {},
   "outputs": [
    {
     "data": {
      "text/plain": [
       "{' (D)'}"
      ]
     },
     "execution_count": 8,
     "metadata": {},
     "output_type": "execute_result"
    }
   ],
   "source": [
    "# set comprehension to collect all the strings that aren't numeric\n",
    "{s for s in qs_df.Value if not re.sub(',', '', s).isnumeric()}"
   ]
  },
  {
   "cell_type": "markdown",
   "metadata": {},
   "source": [
    "Ok. So, there's only one value, is it a sentinell for NULL? How many times does it appear?"
   ]
  },
  {
   "cell_type": "code",
   "execution_count": 9,
   "metadata": {},
   "outputs": [
    {
     "data": {
      "text/html": [
       "<div>\n",
       "<style scoped>\n",
       "    .dataframe tbody tr th:only-of-type {\n",
       "        vertical-align: middle;\n",
       "    }\n",
       "\n",
       "    .dataframe tbody tr th {\n",
       "        vertical-align: top;\n",
       "    }\n",
       "\n",
       "    .dataframe thead th {\n",
       "        text-align: right;\n",
       "    }\n",
       "</style>\n",
       "<table border=\"1\" class=\"dataframe\">\n",
       "  <thead>\n",
       "    <tr style=\"text-align: right;\">\n",
       "      <th></th>\n",
       "      <th>Program</th>\n",
       "      <th>Year</th>\n",
       "      <th>Period</th>\n",
       "      <th>Week Ending</th>\n",
       "      <th>Geo Level</th>\n",
       "      <th>State</th>\n",
       "      <th>State ANSI</th>\n",
       "      <th>Ag District</th>\n",
       "      <th>Ag District Code</th>\n",
       "      <th>County</th>\n",
       "      <th>...</th>\n",
       "      <th>Zip Code</th>\n",
       "      <th>Region</th>\n",
       "      <th>watershed_code</th>\n",
       "      <th>Watershed</th>\n",
       "      <th>Commodity</th>\n",
       "      <th>Data Item</th>\n",
       "      <th>Domain</th>\n",
       "      <th>Domain Category</th>\n",
       "      <th>Value</th>\n",
       "      <th>CV (%)</th>\n",
       "    </tr>\n",
       "  </thead>\n",
       "  <tbody>\n",
       "    <tr>\n",
       "      <th>25</th>\n",
       "      <td>SURVEY</td>\n",
       "      <td>2020</td>\n",
       "      <td>JAN THRU MAR</td>\n",
       "      <td>NaN</td>\n",
       "      <td>STATE</td>\n",
       "      <td>ALASKA</td>\n",
       "      <td>2.0</td>\n",
       "      <td>NaN</td>\n",
       "      <td>NaN</td>\n",
       "      <td>NaN</td>\n",
       "      <td>...</td>\n",
       "      <td>NaN</td>\n",
       "      <td>NaN</td>\n",
       "      <td>0</td>\n",
       "      <td>NaN</td>\n",
       "      <td>MILK</td>\n",
       "      <td>MILK - PRODUCTION, MEASURED IN LB</td>\n",
       "      <td>TOTAL</td>\n",
       "      <td>NOT SPECIFIED</td>\n",
       "      <td>(D)</td>\n",
       "      <td>NaN</td>\n",
       "    </tr>\n",
       "    <tr>\n",
       "      <th>34</th>\n",
       "      <td>SURVEY</td>\n",
       "      <td>2020</td>\n",
       "      <td>JAN THRU MAR</td>\n",
       "      <td>NaN</td>\n",
       "      <td>STATE</td>\n",
       "      <td>HAWAII</td>\n",
       "      <td>15.0</td>\n",
       "      <td>NaN</td>\n",
       "      <td>NaN</td>\n",
       "      <td>NaN</td>\n",
       "      <td>...</td>\n",
       "      <td>NaN</td>\n",
       "      <td>NaN</td>\n",
       "      <td>0</td>\n",
       "      <td>NaN</td>\n",
       "      <td>MILK</td>\n",
       "      <td>MILK - PRODUCTION, MEASURED IN LB</td>\n",
       "      <td>TOTAL</td>\n",
       "      <td>NOT SPECIFIED</td>\n",
       "      <td>(D)</td>\n",
       "      <td>NaN</td>\n",
       "    </tr>\n",
       "    <tr>\n",
       "      <th>148</th>\n",
       "      <td>SURVEY</td>\n",
       "      <td>2020</td>\n",
       "      <td>APR THRU JUN</td>\n",
       "      <td>NaN</td>\n",
       "      <td>STATE</td>\n",
       "      <td>ALASKA</td>\n",
       "      <td>2.0</td>\n",
       "      <td>NaN</td>\n",
       "      <td>NaN</td>\n",
       "      <td>NaN</td>\n",
       "      <td>...</td>\n",
       "      <td>NaN</td>\n",
       "      <td>NaN</td>\n",
       "      <td>0</td>\n",
       "      <td>NaN</td>\n",
       "      <td>MILK</td>\n",
       "      <td>MILK - PRODUCTION, MEASURED IN LB</td>\n",
       "      <td>TOTAL</td>\n",
       "      <td>NOT SPECIFIED</td>\n",
       "      <td>(D)</td>\n",
       "      <td>NaN</td>\n",
       "    </tr>\n",
       "    <tr>\n",
       "      <th>157</th>\n",
       "      <td>SURVEY</td>\n",
       "      <td>2020</td>\n",
       "      <td>APR THRU JUN</td>\n",
       "      <td>NaN</td>\n",
       "      <td>STATE</td>\n",
       "      <td>HAWAII</td>\n",
       "      <td>15.0</td>\n",
       "      <td>NaN</td>\n",
       "      <td>NaN</td>\n",
       "      <td>NaN</td>\n",
       "      <td>...</td>\n",
       "      <td>NaN</td>\n",
       "      <td>NaN</td>\n",
       "      <td>0</td>\n",
       "      <td>NaN</td>\n",
       "      <td>MILK</td>\n",
       "      <td>MILK - PRODUCTION, MEASURED IN LB</td>\n",
       "      <td>TOTAL</td>\n",
       "      <td>NOT SPECIFIED</td>\n",
       "      <td>(D)</td>\n",
       "      <td>NaN</td>\n",
       "    </tr>\n",
       "    <tr>\n",
       "      <th>707</th>\n",
       "      <td>SURVEY</td>\n",
       "      <td>2019</td>\n",
       "      <td>OCT THRU DEC</td>\n",
       "      <td>NaN</td>\n",
       "      <td>STATE</td>\n",
       "      <td>ALASKA</td>\n",
       "      <td>2.0</td>\n",
       "      <td>NaN</td>\n",
       "      <td>NaN</td>\n",
       "      <td>NaN</td>\n",
       "      <td>...</td>\n",
       "      <td>NaN</td>\n",
       "      <td>NaN</td>\n",
       "      <td>0</td>\n",
       "      <td>NaN</td>\n",
       "      <td>MILK</td>\n",
       "      <td>MILK - PRODUCTION, MEASURED IN LB</td>\n",
       "      <td>TOTAL</td>\n",
       "      <td>NOT SPECIFIED</td>\n",
       "      <td>(D)</td>\n",
       "      <td>NaN</td>\n",
       "    </tr>\n",
       "    <tr>\n",
       "      <th>716</th>\n",
       "      <td>SURVEY</td>\n",
       "      <td>2019</td>\n",
       "      <td>OCT THRU DEC</td>\n",
       "      <td>NaN</td>\n",
       "      <td>STATE</td>\n",
       "      <td>HAWAII</td>\n",
       "      <td>15.0</td>\n",
       "      <td>NaN</td>\n",
       "      <td>NaN</td>\n",
       "      <td>NaN</td>\n",
       "      <td>...</td>\n",
       "      <td>NaN</td>\n",
       "      <td>NaN</td>\n",
       "      <td>0</td>\n",
       "      <td>NaN</td>\n",
       "      <td>MILK</td>\n",
       "      <td>MILK - PRODUCTION, MEASURED IN LB</td>\n",
       "      <td>TOTAL</td>\n",
       "      <td>NOT SPECIFIED</td>\n",
       "      <td>(D)</td>\n",
       "      <td>NaN</td>\n",
       "    </tr>\n",
       "  </tbody>\n",
       "</table>\n",
       "<p>6 rows × 21 columns</p>\n",
       "</div>"
      ],
      "text/plain": [
       "    Program  Year        Period  Week Ending Geo Level   State  State ANSI  \\\n",
       "25   SURVEY  2020  JAN THRU MAR          NaN     STATE  ALASKA         2.0   \n",
       "34   SURVEY  2020  JAN THRU MAR          NaN     STATE  HAWAII        15.0   \n",
       "148  SURVEY  2020  APR THRU JUN          NaN     STATE  ALASKA         2.0   \n",
       "157  SURVEY  2020  APR THRU JUN          NaN     STATE  HAWAII        15.0   \n",
       "707  SURVEY  2019  OCT THRU DEC          NaN     STATE  ALASKA         2.0   \n",
       "716  SURVEY  2019  OCT THRU DEC          NaN     STATE  HAWAII        15.0   \n",
       "\n",
       "     Ag District  Ag District Code  County  ...  Zip Code  Region  \\\n",
       "25           NaN               NaN     NaN  ...       NaN     NaN   \n",
       "34           NaN               NaN     NaN  ...       NaN     NaN   \n",
       "148          NaN               NaN     NaN  ...       NaN     NaN   \n",
       "157          NaN               NaN     NaN  ...       NaN     NaN   \n",
       "707          NaN               NaN     NaN  ...       NaN     NaN   \n",
       "716          NaN               NaN     NaN  ...       NaN     NaN   \n",
       "\n",
       "     watershed_code  Watershed  Commodity                          Data Item  \\\n",
       "25                0        NaN       MILK  MILK - PRODUCTION, MEASURED IN LB   \n",
       "34                0        NaN       MILK  MILK - PRODUCTION, MEASURED IN LB   \n",
       "148               0        NaN       MILK  MILK - PRODUCTION, MEASURED IN LB   \n",
       "157               0        NaN       MILK  MILK - PRODUCTION, MEASURED IN LB   \n",
       "707               0        NaN       MILK  MILK - PRODUCTION, MEASURED IN LB   \n",
       "716               0        NaN       MILK  MILK - PRODUCTION, MEASURED IN LB   \n",
       "\n",
       "    Domain Domain Category Value CV (%)  \n",
       "25   TOTAL   NOT SPECIFIED   (D)    NaN  \n",
       "34   TOTAL   NOT SPECIFIED   (D)    NaN  \n",
       "148  TOTAL   NOT SPECIFIED   (D)    NaN  \n",
       "157  TOTAL   NOT SPECIFIED   (D)    NaN  \n",
       "707  TOTAL   NOT SPECIFIED   (D)    NaN  \n",
       "716  TOTAL   NOT SPECIFIED   (D)    NaN  \n",
       "\n",
       "[6 rows x 21 columns]"
      ]
     },
     "execution_count": 9,
     "metadata": {},
     "output_type": "execute_result"
    }
   ],
   "source": [
    "qs_df[qs_df.Value == ' (D)']"
   ]
  },
  {
   "cell_type": "code",
   "execution_count": 10,
   "metadata": {},
   "outputs": [
    {
     "name": "stdout",
     "output_type": "stream",
     "text": [
      "<class 'pandas.core.frame.DataFrame'>\n",
      "Int64Index: 6 entries, 25 to 716\n",
      "Data columns (total 21 columns):\n",
      " #   Column            Non-Null Count  Dtype  \n",
      "---  ------            --------------  -----  \n",
      " 0   Program           6 non-null      object \n",
      " 1   Year              6 non-null      int64  \n",
      " 2   Period            6 non-null      object \n",
      " 3   Week Ending       0 non-null      float64\n",
      " 4   Geo Level         6 non-null      object \n",
      " 5   State             6 non-null      object \n",
      " 6   State ANSI        6 non-null      float64\n",
      " 7   Ag District       0 non-null      float64\n",
      " 8   Ag District Code  0 non-null      float64\n",
      " 9   County            0 non-null      float64\n",
      " 10  County ANSI       0 non-null      float64\n",
      " 11  Zip Code          0 non-null      float64\n",
      " 12  Region            0 non-null      float64\n",
      " 13  watershed_code    6 non-null      int64  \n",
      " 14  Watershed         0 non-null      float64\n",
      " 15  Commodity         6 non-null      object \n",
      " 16  Data Item         6 non-null      object \n",
      " 17  Domain            6 non-null      object \n",
      " 18  Domain Category   6 non-null      object \n",
      " 19  Value             6 non-null      object \n",
      " 20  CV (%)            0 non-null      float64\n",
      "dtypes: float64(10), int64(2), object(9)\n",
      "memory usage: 1.0+ KB\n"
     ]
    }
   ],
   "source": [
    "qs_df[qs_df.Value == ' (D)'].info()"
   ]
  },
  {
   "cell_type": "markdown",
   "metadata": {},
   "source": [
    "**Come back to this later, for now the bug appears to be contained to quarterly estimates which I'm not working on now**"
   ]
  },
  {
   "cell_type": "markdown",
   "metadata": {},
   "source": [
    "# Declutter the Pivotted Data\n",
    "### Drop empty columns"
   ]
  },
  {
   "cell_type": "code",
   "execution_count": 11,
   "metadata": {},
   "outputs": [],
   "source": [
    "# drop columns where all cells are empty (not a number, nan)\n",
    "qs_df = qs_df.dropna(\n",
    "    axis = 'columns', \n",
    "    how = 'all',\n",
    ")"
   ]
  },
  {
   "cell_type": "markdown",
   "metadata": {},
   "source": [
    "### Split non-varying columns into a metadata object"
   ]
  },
  {
   "cell_type": "code",
   "execution_count": 12,
   "metadata": {},
   "outputs": [
    {
     "name": "stdout",
     "output_type": "stream",
     "text": [
      "Program : SURVEY\n",
      "Geo Level : STATE\n",
      "watershed_code : 0\n",
      "Commodity : MILK\n",
      "Data Item : MILK - PRODUCTION, MEASURED IN LB\n",
      "Domain : TOTAL\n",
      "Domain Category : NOT SPECIFIED\n"
     ]
    }
   ],
   "source": [
    "# init a metadata object\n",
    "metadata_dct = {}\n",
    "\n",
    "# find columns where there is only one unique value\n",
    "for col in qs_df:\n",
    "    if len(qs_df[col].unique()) == 1:\n",
    "        # print column header and unique value counts\n",
    "        print(col, \":\", qs_df[col].unique()[0])\n",
    "        # add the column header and its unique value to the metadata\n",
    "        metadata_dct[col] = qs_df[col].unique()[0]\n",
    "        \n",
    "        # drop it from the data frame\n",
    "        qs_df = qs_df.drop(columns = [col])"
   ]
  },
  {
   "cell_type": "markdown",
   "metadata": {},
   "source": [
    "#### drop null-metadata\n",
    "\n",
    "**get dictionary of known null-sentinel-values**"
   ]
  },
  {
   "cell_type": "code",
   "execution_count": 13,
   "metadata": {},
   "outputs": [],
   "source": [
    "# check for the existence of null-sentinel-dictionary\n",
    "path_to_sentinel_nulls_dct = Path('sentinel-nulls.json')\n",
    "# if the file is in existence\n",
    "if path_to_sentinel_nulls_dct.is_file():\n",
    "    # read it into a dict\n",
    "    with open(path_to_sentinel_nulls_dct, 'r') as file_path:\n",
    "        sentinel_nulls_dct = json.load(file_path)\n",
    "    assert type(sentinel_nulls_dct) == dict\n",
    "# else, initialize the dict\n",
    "else:\n",
    "    sentinel_nulls_dct = {}\n",
    "\n",
    "# document the known sentinel values\n",
    "if 'watershed_code' not in sentinel_nulls_dct:\n",
    "    sentinel_nulls_dct['watershed_code'] = 0\n",
    "if 'Domain Category' not in sentinel_nulls_dct:\n",
    "    sentinel_nulls_dct['Domain Category'] = 'NOT SPECIFIED'\n",
    "\n",
    "# save the additions to the null-sentinel-dictionary\n",
    "with open(path_to_sentinel_nulls_dct, 'w') as file_path:\n",
    "    json.dump(sentinel_nulls_dct, file_path)"
   ]
  },
  {
   "cell_type": "markdown",
   "metadata": {},
   "source": [
    "**drop values known to be sentinels for NULL from the metadata**"
   ]
  },
  {
   "cell_type": "code",
   "execution_count": 14,
   "metadata": {},
   "outputs": [],
   "source": [
    "for attribute in sentinel_nulls_dct:\n",
    "    if attribute in metadata_dct:\n",
    "        if sentinel_nulls_dct[attribute] == metadata_dct[attribute]:\n",
    "            del metadata_dct[attribute]"
   ]
  },
  {
   "cell_type": "markdown",
   "metadata": {},
   "source": [
    "**display the metadata as dictionary (json)**"
   ]
  },
  {
   "cell_type": "code",
   "execution_count": 15,
   "metadata": {},
   "outputs": [
    {
     "name": "stdout",
     "output_type": "stream",
     "text": [
      "Auto-detected Meta-Data: (formatted as JSON)\n",
      "---------------------------------------------\n",
      "\n",
      "{'Commodity': 'MILK',\n",
      " 'Data Item': 'MILK - PRODUCTION, MEASURED IN LB',\n",
      " 'Domain': 'TOTAL',\n",
      " 'Geo Level': 'STATE',\n",
      " 'Program': 'SURVEY'}\n"
     ]
    }
   ],
   "source": [
    "# display the metadata\n",
    "feedback = 'Auto-detected Meta-Data: (formatted as JSON)\\n'\n",
    "feedback = feedback + '-'*len(feedback) + '\\n'\n",
    "print(feedback)\n",
    "pp = pprint.PrettyPrinter()\n",
    "pp.pprint(metadata_dct)"
   ]
  },
  {
   "cell_type": "markdown",
   "metadata": {},
   "source": [
    "**Display the metadata as a table**"
   ]
  },
  {
   "cell_type": "code",
   "execution_count": 16,
   "metadata": {},
   "outputs": [
    {
     "name": "stdout",
     "output_type": "stream",
     "text": [
      "Auto-detected Meta-Data: (formatted as table)\n",
      "----------------------------------------------\n",
      "\n"
     ]
    },
    {
     "data": {
      "text/html": [
       "<div>\n",
       "<style scoped>\n",
       "    .dataframe tbody tr th:only-of-type {\n",
       "        vertical-align: middle;\n",
       "    }\n",
       "\n",
       "    .dataframe tbody tr th {\n",
       "        vertical-align: top;\n",
       "    }\n",
       "\n",
       "    .dataframe thead th {\n",
       "        text-align: right;\n",
       "    }\n",
       "</style>\n",
       "<table border=\"1\" class=\"dataframe\">\n",
       "  <thead>\n",
       "    <tr style=\"text-align: right;\">\n",
       "      <th></th>\n",
       "      <th>Program</th>\n",
       "      <th>Geo Level</th>\n",
       "      <th>Commodity</th>\n",
       "      <th>Data Item</th>\n",
       "      <th>Domain</th>\n",
       "    </tr>\n",
       "  </thead>\n",
       "  <tbody>\n",
       "    <tr>\n",
       "      <th>0</th>\n",
       "      <td>SURVEY</td>\n",
       "      <td>STATE</td>\n",
       "      <td>MILK</td>\n",
       "      <td>MILK - PRODUCTION, MEASURED IN LB</td>\n",
       "      <td>TOTAL</td>\n",
       "    </tr>\n",
       "  </tbody>\n",
       "</table>\n",
       "</div>"
      ],
      "text/plain": [
       "  Program Geo Level Commodity                          Data Item Domain\n",
       "0  SURVEY     STATE      MILK  MILK - PRODUCTION, MEASURED IN LB  TOTAL"
      ]
     },
     "execution_count": 16,
     "metadata": {},
     "output_type": "execute_result"
    }
   ],
   "source": [
    "feedback = 'Auto-detected Meta-Data: (formatted as table)\\n'\n",
    "feedback = feedback + '-'*len(feedback) + '\\n'\n",
    "print(feedback)\n",
    "metadata_df = pd.DataFrame({k: [metadata_dct[k]] for k in metadata_dct})\n",
    "metadata_df"
   ]
  },
  {
   "cell_type": "markdown",
   "metadata": {},
   "source": [
    "**Display the first few rows of the pivotted data**"
   ]
  },
  {
   "cell_type": "code",
   "execution_count": 17,
   "metadata": {},
   "outputs": [
    {
     "data": {
      "text/html": [
       "<div>\n",
       "<style scoped>\n",
       "    .dataframe tbody tr th:only-of-type {\n",
       "        vertical-align: middle;\n",
       "    }\n",
       "\n",
       "    .dataframe tbody tr th {\n",
       "        vertical-align: top;\n",
       "    }\n",
       "\n",
       "    .dataframe thead th {\n",
       "        text-align: right;\n",
       "    }\n",
       "</style>\n",
       "<table border=\"1\" class=\"dataframe\">\n",
       "  <thead>\n",
       "    <tr style=\"text-align: right;\">\n",
       "      <th></th>\n",
       "      <th>Year</th>\n",
       "      <th>Period</th>\n",
       "      <th>State</th>\n",
       "      <th>State ANSI</th>\n",
       "      <th>Value</th>\n",
       "    </tr>\n",
       "  </thead>\n",
       "  <tbody>\n",
       "    <tr>\n",
       "      <th>0</th>\n",
       "      <td>2020</td>\n",
       "      <td>JAN</td>\n",
       "      <td>ARIZONA</td>\n",
       "      <td>4.0</td>\n",
       "      <td>412,000,000</td>\n",
       "    </tr>\n",
       "    <tr>\n",
       "      <th>1</th>\n",
       "      <td>2020</td>\n",
       "      <td>JAN</td>\n",
       "      <td>CALIFORNIA</td>\n",
       "      <td>6.0</td>\n",
       "      <td>3,526,000,000</td>\n",
       "    </tr>\n",
       "    <tr>\n",
       "      <th>2</th>\n",
       "      <td>2020</td>\n",
       "      <td>JAN</td>\n",
       "      <td>COLORADO</td>\n",
       "      <td>8.0</td>\n",
       "      <td>422,000,000</td>\n",
       "    </tr>\n",
       "    <tr>\n",
       "      <th>3</th>\n",
       "      <td>2020</td>\n",
       "      <td>JAN</td>\n",
       "      <td>FLORIDA</td>\n",
       "      <td>12.0</td>\n",
       "      <td>215,000,000</td>\n",
       "    </tr>\n",
       "    <tr>\n",
       "      <th>4</th>\n",
       "      <td>2020</td>\n",
       "      <td>JAN</td>\n",
       "      <td>GEORGIA</td>\n",
       "      <td>13.0</td>\n",
       "      <td>161,000,000</td>\n",
       "    </tr>\n",
       "  </tbody>\n",
       "</table>\n",
       "</div>"
      ],
      "text/plain": [
       "   Year Period       State  State ANSI          Value\n",
       "0  2020    JAN     ARIZONA         4.0    412,000,000\n",
       "1  2020    JAN  CALIFORNIA         6.0  3,526,000,000\n",
       "2  2020    JAN    COLORADO         8.0    422,000,000\n",
       "3  2020    JAN     FLORIDA        12.0    215,000,000\n",
       "4  2020    JAN     GEORGIA        13.0    161,000,000"
      ]
     },
     "execution_count": 17,
     "metadata": {},
     "output_type": "execute_result"
    }
   ],
   "source": [
    "qs_df.head()"
   ]
  },
  {
   "cell_type": "markdown",
   "metadata": {},
   "source": [
    "##### I SHOULD COME BACK TO THIS AND IMPLEMENT SOME \"BUSINESS RULES\" TO FURTHER AUGMENT USER FRIENDLINESS\n",
    "- add user friendly descriptions and data dictionary for 'Data Item'"
   ]
  },
  {
   "cell_type": "code",
   "execution_count": 18,
   "metadata": {},
   "outputs": [
    {
     "data": {
      "text/html": [
       "<div>\n",
       "<style scoped>\n",
       "    .dataframe tbody tr th:only-of-type {\n",
       "        vertical-align: middle;\n",
       "    }\n",
       "\n",
       "    .dataframe tbody tr th {\n",
       "        vertical-align: top;\n",
       "    }\n",
       "\n",
       "    .dataframe thead th {\n",
       "        text-align: right;\n",
       "    }\n",
       "</style>\n",
       "<table border=\"1\" class=\"dataframe\">\n",
       "  <thead>\n",
       "    <tr style=\"text-align: right;\">\n",
       "      <th></th>\n",
       "      <th>Period</th>\n",
       "      <th>Year</th>\n",
       "      <th>State</th>\n",
       "      <th>Milk Production (Lbs)</th>\n",
       "      <th>State ANSI</th>\n",
       "    </tr>\n",
       "  </thead>\n",
       "  <tbody>\n",
       "    <tr>\n",
       "      <th>0</th>\n",
       "      <td>JAN</td>\n",
       "      <td>2020</td>\n",
       "      <td>ARIZONA</td>\n",
       "      <td>412,000,000</td>\n",
       "      <td>4.0</td>\n",
       "    </tr>\n",
       "    <tr>\n",
       "      <th>1</th>\n",
       "      <td>JAN</td>\n",
       "      <td>2020</td>\n",
       "      <td>CALIFORNIA</td>\n",
       "      <td>3,526,000,000</td>\n",
       "      <td>6.0</td>\n",
       "    </tr>\n",
       "    <tr>\n",
       "      <th>2</th>\n",
       "      <td>JAN</td>\n",
       "      <td>2020</td>\n",
       "      <td>COLORADO</td>\n",
       "      <td>422,000,000</td>\n",
       "      <td>8.0</td>\n",
       "    </tr>\n",
       "    <tr>\n",
       "      <th>3</th>\n",
       "      <td>JAN</td>\n",
       "      <td>2020</td>\n",
       "      <td>FLORIDA</td>\n",
       "      <td>215,000,000</td>\n",
       "      <td>12.0</td>\n",
       "    </tr>\n",
       "    <tr>\n",
       "      <th>4</th>\n",
       "      <td>JAN</td>\n",
       "      <td>2020</td>\n",
       "      <td>GEORGIA</td>\n",
       "      <td>161,000,000</td>\n",
       "      <td>13.0</td>\n",
       "    </tr>\n",
       "  </tbody>\n",
       "</table>\n",
       "</div>"
      ],
      "text/plain": [
       "  Period  Year       State Milk Production (Lbs)  State ANSI\n",
       "0    JAN  2020     ARIZONA           412,000,000         4.0\n",
       "1    JAN  2020  CALIFORNIA         3,526,000,000         6.0\n",
       "2    JAN  2020    COLORADO           422,000,000         8.0\n",
       "3    JAN  2020     FLORIDA           215,000,000        12.0\n",
       "4    JAN  2020     GEORGIA           161,000,000        13.0"
      ]
     },
     "execution_count": 18,
     "metadata": {},
     "output_type": "execute_result"
    }
   ],
   "source": [
    "# rename 'Value' in the pivotted data into something more user friendly\n",
    "qs_df = qs_df.rename(columns = {'Value':'Milk Production (Lbs)'})\n",
    "# reorder the columns\n",
    "qs_df = qs_df[['Period', 'Year', 'State', 'Milk Production (Lbs)', 'State ANSI']]\n",
    "qs_df.head()"
   ]
  },
  {
   "cell_type": "markdown",
   "metadata": {},
   "source": [
    "## Check the pivotted data for periodicity inconsistencies"
   ]
  },
  {
   "cell_type": "code",
   "execution_count": 19,
   "metadata": {},
   "outputs": [
    {
     "name": "stdout",
     "output_type": "stream",
     "text": [
      "YEAR            4727\n",
      "JAN             2698\n",
      "FEB             2696\n",
      "MAR             2696\n",
      "JUL             2664\n",
      "MAY             2664\n",
      "APR             2664\n",
      "JUN             2664\n",
      "DEC             2642\n",
      "NOV             2640\n",
      "OCT             2640\n",
      "AUG             2640\n",
      "SEP             2640\n",
      "APR THRU JUN    2450\n",
      "JAN THRU MAR    2450\n",
      "OCT THRU DEC    2401\n",
      "JUL THRU SEP    2399\n",
      "Name: Period, dtype: int64\n"
     ]
    }
   ],
   "source": [
    "# display the value counts of the unique vlaues in the 'Period' column\n",
    "print(qs_df.Period.value_counts())"
   ]
  },
  {
   "cell_type": "markdown",
   "metadata": {},
   "source": [
    "## Split out the Annual Estimates into their own table\n",
    "- these are memory-redundant, we might not need to store these in the DB and instead just serve them as an aggregation of the monthly estimates"
   ]
  },
  {
   "cell_type": "code",
   "execution_count": 20,
   "metadata": {},
   "outputs": [
    {
     "data": {
      "text/html": [
       "<div>\n",
       "<style scoped>\n",
       "    .dataframe tbody tr th:only-of-type {\n",
       "        vertical-align: middle;\n",
       "    }\n",
       "\n",
       "    .dataframe tbody tr th {\n",
       "        vertical-align: top;\n",
       "    }\n",
       "\n",
       "    .dataframe thead th {\n",
       "        text-align: right;\n",
       "    }\n",
       "</style>\n",
       "<table border=\"1\" class=\"dataframe\">\n",
       "  <thead>\n",
       "    <tr style=\"text-align: right;\">\n",
       "      <th></th>\n",
       "      <th>Year</th>\n",
       "      <th>State</th>\n",
       "      <th>Milk Production (Lbs)</th>\n",
       "      <th>State ANSI</th>\n",
       "    </tr>\n",
       "  </thead>\n",
       "  <tbody>\n",
       "    <tr>\n",
       "      <th>0</th>\n",
       "      <td>2019</td>\n",
       "      <td>ALABAMA</td>\n",
       "      <td>60,000,000</td>\n",
       "      <td>1.0</td>\n",
       "    </tr>\n",
       "    <tr>\n",
       "      <th>1</th>\n",
       "      <td>2019</td>\n",
       "      <td>SOUTH CAROLINA</td>\n",
       "      <td>206,000,000</td>\n",
       "      <td>45.0</td>\n",
       "    </tr>\n",
       "    <tr>\n",
       "      <th>2</th>\n",
       "      <td>2019</td>\n",
       "      <td>NEW JERSEY</td>\n",
       "      <td>100,000,000</td>\n",
       "      <td>34.0</td>\n",
       "    </tr>\n",
       "    <tr>\n",
       "      <th>3</th>\n",
       "      <td>2019</td>\n",
       "      <td>NEW MEXICO</td>\n",
       "      <td>8,187,000,000</td>\n",
       "      <td>35.0</td>\n",
       "    </tr>\n",
       "    <tr>\n",
       "      <th>4</th>\n",
       "      <td>2019</td>\n",
       "      <td>NEW YORK</td>\n",
       "      <td>15,122,000,000</td>\n",
       "      <td>36.0</td>\n",
       "    </tr>\n",
       "  </tbody>\n",
       "</table>\n",
       "</div>"
      ],
      "text/plain": [
       "   Year           State Milk Production (Lbs)  State ANSI\n",
       "0  2019         ALABAMA            60,000,000         1.0\n",
       "1  2019  SOUTH CAROLINA           206,000,000        45.0\n",
       "2  2019      NEW JERSEY           100,000,000        34.0\n",
       "3  2019      NEW MEXICO         8,187,000,000        35.0\n",
       "4  2019        NEW YORK        15,122,000,000        36.0"
      ]
     },
     "execution_count": 20,
     "metadata": {},
     "output_type": "execute_result"
    }
   ],
   "source": [
    "# subset the annual estimates into its own table\n",
    "annual_df = qs_df[qs_df.Period == 'YEAR']\n",
    "# drop the now redundant 'Period' column\n",
    "annual_df = annual_df.drop(columns = ['Period'])\n",
    "# sort the data by descending year and ascending State\n",
    "annual_df = annual_df.sort_values(by = ['Year'], ascending = False)\n",
    "# reset the row index to avoid confusion\n",
    "annual_df = annual_df.reset_index(drop = True)\n",
    "# display the top few rows\n",
    "annual_df.head()"
   ]
  },
  {
   "cell_type": "markdown",
   "metadata": {},
   "source": [
    "## Split out the Quarterly Estimates into their own table\n",
    "- these are memory-redundant, we might not need to store these in the DB and instead just serve them as an aggregation of the monthly estimates"
   ]
  },
  {
   "cell_type": "markdown",
   "metadata": {},
   "source": [
    "## Split out the Monthly Estimates into their own table"
   ]
  },
  {
   "cell_type": "code",
   "execution_count": 21,
   "metadata": {},
   "outputs": [],
   "source": [
    "# subset the monthly estimates into its own table\n",
    "monthly_df = qs_df.loc[[\n",
    "    # this seems inneficcient but lets just get it done for now\n",
    "    i for i in qs_df.index if qs_df.Period[i] in {\n",
    "        'JAN', 'FEB', 'MAR', 'APR', 'MAY', 'JUN', \n",
    "        'JUL', 'AUG', 'SEP', 'OCT', 'NOV', 'DEC',\n",
    "    }\n",
    "]].reset_index(drop = True)"
   ]
  },
  {
   "cell_type": "code",
   "execution_count": 22,
   "metadata": {},
   "outputs": [
    {
     "data": {
      "text/plain": [
       "{'JAN': 1,\n",
       " 'FEB': 2,\n",
       " 'MAR': 3,\n",
       " 'APR': 4,\n",
       " 'MAY': 5,\n",
       " 'JUN': 6,\n",
       " 'JUL': 7,\n",
       " 'AUG': 8,\n",
       " 'SEP': 9,\n",
       " 'OCT': 10,\n",
       " 'NOV': 11,\n",
       " 'DEC': 12}"
      ]
     },
     "execution_count": 22,
     "metadata": {},
     "output_type": "execute_result"
    }
   ],
   "source": [
    "# create a map from month string to int\n",
    "month_to_int_dct = {\n",
    "    mo:i+1 for i,mo in enumerate([\n",
    "        'JAN', 'FEB', 'MAR', 'APR', 'MAY', 'JUN',\n",
    "        'JUL', 'AUG', 'SEP', 'OCT', 'NOV', 'DEC',])\n",
    "}\n",
    "month_to_int_dct"
   ]
  },
  {
   "cell_type": "code",
   "execution_count": 23,
   "metadata": {},
   "outputs": [
    {
     "data": {
      "text/html": [
       "<div>\n",
       "<style scoped>\n",
       "    .dataframe tbody tr th:only-of-type {\n",
       "        vertical-align: middle;\n",
       "    }\n",
       "\n",
       "    .dataframe tbody tr th {\n",
       "        vertical-align: top;\n",
       "    }\n",
       "\n",
       "    .dataframe thead th {\n",
       "        text-align: right;\n",
       "    }\n",
       "</style>\n",
       "<table border=\"1\" class=\"dataframe\">\n",
       "  <thead>\n",
       "    <tr style=\"text-align: right;\">\n",
       "      <th></th>\n",
       "      <th>Period</th>\n",
       "      <th>Year</th>\n",
       "      <th>State</th>\n",
       "      <th>Milk Production (Lbs)</th>\n",
       "      <th>State ANSI</th>\n",
       "      <th>Month</th>\n",
       "    </tr>\n",
       "  </thead>\n",
       "  <tbody>\n",
       "    <tr>\n",
       "      <th>0</th>\n",
       "      <td>JAN</td>\n",
       "      <td>2020</td>\n",
       "      <td>ARIZONA</td>\n",
       "      <td>412,000,000</td>\n",
       "      <td>4.0</td>\n",
       "      <td>1</td>\n",
       "    </tr>\n",
       "    <tr>\n",
       "      <th>1</th>\n",
       "      <td>JAN</td>\n",
       "      <td>2020</td>\n",
       "      <td>CALIFORNIA</td>\n",
       "      <td>3,526,000,000</td>\n",
       "      <td>6.0</td>\n",
       "      <td>1</td>\n",
       "    </tr>\n",
       "    <tr>\n",
       "      <th>2</th>\n",
       "      <td>JAN</td>\n",
       "      <td>2020</td>\n",
       "      <td>COLORADO</td>\n",
       "      <td>422,000,000</td>\n",
       "      <td>8.0</td>\n",
       "      <td>1</td>\n",
       "    </tr>\n",
       "    <tr>\n",
       "      <th>3</th>\n",
       "      <td>JAN</td>\n",
       "      <td>2020</td>\n",
       "      <td>FLORIDA</td>\n",
       "      <td>215,000,000</td>\n",
       "      <td>12.0</td>\n",
       "      <td>1</td>\n",
       "    </tr>\n",
       "    <tr>\n",
       "      <th>4</th>\n",
       "      <td>JAN</td>\n",
       "      <td>2020</td>\n",
       "      <td>GEORGIA</td>\n",
       "      <td>161,000,000</td>\n",
       "      <td>13.0</td>\n",
       "      <td>1</td>\n",
       "    </tr>\n",
       "  </tbody>\n",
       "</table>\n",
       "</div>"
      ],
      "text/plain": [
       "  Period  Year       State Milk Production (Lbs)  State ANSI  Month\n",
       "0    JAN  2020     ARIZONA           412,000,000         4.0      1\n",
       "1    JAN  2020  CALIFORNIA         3,526,000,000         6.0      1\n",
       "2    JAN  2020    COLORADO           422,000,000         8.0      1\n",
       "3    JAN  2020     FLORIDA           215,000,000        12.0      1\n",
       "4    JAN  2020     GEORGIA           161,000,000        13.0      1"
      ]
     },
     "execution_count": 23,
     "metadata": {},
     "output_type": "execute_result"
    }
   ],
   "source": [
    "# add the column of months as ints\n",
    "monthly_df['Month'] = monthly_df.Period.map(month_to_int_dct)\n",
    "monthly_df.head()"
   ]
  },
  {
   "cell_type": "markdown",
   "metadata": {},
   "source": [
    "**ensure datatypes are correct**"
   ]
  },
  {
   "cell_type": "code",
   "execution_count": 24,
   "metadata": {},
   "outputs": [
    {
     "name": "stdout",
     "output_type": "stream",
     "text": [
      "<class 'pandas.core.frame.DataFrame'>\n",
      "RangeIndex: 31948 entries, 0 to 31947\n",
      "Data columns (total 6 columns):\n",
      " #   Column                 Non-Null Count  Dtype  \n",
      "---  ------                 --------------  -----  \n",
      " 0   Period                 31948 non-null  object \n",
      " 1   Year                   31948 non-null  int64  \n",
      " 2   State                  31948 non-null  object \n",
      " 3   Milk Production (Lbs)  31948 non-null  object \n",
      " 4   State ANSI             31948 non-null  float64\n",
      " 5   Month                  31948 non-null  int64  \n",
      "dtypes: float64(1), int64(2), object(3)\n",
      "memory usage: 1.5+ MB\n"
     ]
    }
   ],
   "source": [
    "monthly_df.info()"
   ]
  },
  {
   "cell_type": "code",
   "execution_count": 25,
   "metadata": {},
   "outputs": [
    {
     "data": {
      "text/plain": [
       "array(['412,000,000', '3,526,000,000', '422,000,000', '215,000,000',\n",
       "       '161,000,000'], dtype=object)"
      ]
     },
     "execution_count": 25,
     "metadata": {},
     "output_type": "execute_result"
    }
   ],
   "source": [
    "# see what the values look like\n",
    "monthly_df['Milk Production (Lbs)'].head().values"
   ]
  },
  {
   "cell_type": "code",
   "execution_count": 26,
   "metadata": {},
   "outputs": [],
   "source": [
    "# correct the datatype for the value from string to numeric\n",
    "monthly_df['Milk Production (Lbs)'] = pd.to_numeric(\n",
    "    monthly_df['Milk Production (Lbs)'].apply(\n",
    "        lambda s: re.sub(',', '', s)\n",
    "    ),\n",
    "    #errors='coerce'\n",
    ")"
   ]
  },
  {
   "cell_type": "markdown",
   "metadata": {},
   "source": [
    "# Ok, let's make a State line plot\n",
    "Start with a simple reproduction for only one state"
   ]
  },
  {
   "cell_type": "code",
   "execution_count": 27,
   "metadata": {},
   "outputs": [
    {
     "data": {
      "application/vnd.jupyter.widget-view+json": {
       "model_id": "55e1563660c8428a9b2690f863ba182d",
       "version_major": 2,
       "version_minor": 0
      },
      "text/plain": [
       "FigureWidget({\n",
       "    'data': [{'mode': 'lines+markers',\n",
       "              'name': '2019',\n",
       "              'type': 'sca…"
      ]
     },
     "metadata": {},
     "output_type": "display_data"
    }
   ],
   "source": [
    "# init the figure\n",
    "fig = go.FigureWidget()\n",
    "# add some traces\n",
    "for yr in [2019, 2020]:\n",
    "    fig.add_trace(\n",
    "        go.Scatter(\n",
    "            x = monthly_df['Period'][monthly_df.Year == yr][monthly_df.State == 'VIRGINIA'],\n",
    "            y = monthly_df['Milk Production (Lbs)'][monthly_df.Year == yr][monthly_df.State == 'VIRGINIA'],\n",
    "            mode = 'lines+markers',\n",
    "            name = str(yr)\n",
    "        )\n",
    "    )\n",
    "# Add title\n",
    "fig.update_layout(\n",
    "    title = 'Monthly Milk Production - Virginia',\n",
    "    yaxis_title = 'Milk Production (Lbs)',\n",
    ")\n",
    "# display the figure\n",
    "fig"
   ]
  },
  {
   "cell_type": "markdown",
   "metadata": {},
   "source": [
    "### Display the visualization as json"
   ]
  },
  {
   "cell_type": "code",
   "execution_count": 28,
   "metadata": {},
   "outputs": [
    {
     "name": "stdout",
     "output_type": "stream",
     "text": [
      "{\"data\":[{\"mode\":\"lines+markers\",\"name\":\"2019\",\"type\":\"scatter\",\"x\":[\"JAN\",\"FEB\",\"MAR\",\"APR\",\"MAY\",\"JUN\",\"JUL\",\"AUG\",\"SEP\",\"OCT\",\"NOV\",\"DEC\"],\"y\":[132000000,121000000,134000000,131000000,133000000,122000000,119000000,118000000,115000000,120000000,119000000,126000000]},{\"mode\":\"lines+markers\",\"name\":\"2020\",\"type\":\"scatter\",\"x\":[\"JAN\",\"FEB\",\"MAR\",\"APR\",\"MAY\",\"JUN\",\"JUL\"],\"y\":[134000000,127000000,137000000,132000000,133000000,126000000,123000000]}],\"layout\":{\"template\":{\"data\":{\"bar\":[{\"error_x\":{\"color\":\"#2a3f5f\"},\"error_y\":{\"color\":\"#2a3f5f\"},\"marker\":{\"line\":{\"color\":\"#E5ECF6\",\"width\":0.5}},\"type\":\"bar\"}],\"barpolar\":[{\"marker\":{\"line\":{\"color\":\"#E5ECF6\",\"width\":0.5}},\"type\":\"barpolar\"}],\"carpet\":[{\"aaxis\":{\"endlinecolor\":\"#2a3f5f\",\"gridcolor\":\"white\",\"linecolor\":\"white\",\"minorgridcolor\":\"white\",\"startlinecolor\":\"#2a3f5f\"},\"baxis\":{\"endlinecolor\":\"#2a3f5f\",\"gridcolor\":\"white\",\"linecolor\":\"white\",\"minorgridcolor\":\"white\",\"startlinecolor\":\"#2a3f5f\"},\"type\":\"carpet\"}],\"choropleth\":[{\"colorbar\":{\"outlinewidth\":0,\"ticks\":\"\"},\"type\":\"choropleth\"}],\"contour\":[{\"colorbar\":{\"outlinewidth\":0,\"ticks\":\"\"},\"colorscale\":[[0.0,\"#0d0887\"],[0.1111111111111111,\"#46039f\"],[0.2222222222222222,\"#7201a8\"],[0.3333333333333333,\"#9c179e\"],[0.4444444444444444,\"#bd3786\"],[0.5555555555555556,\"#d8576b\"],[0.6666666666666666,\"#ed7953\"],[0.7777777777777778,\"#fb9f3a\"],[0.8888888888888888,\"#fdca26\"],[1.0,\"#f0f921\"]],\"type\":\"contour\"}],\"contourcarpet\":[{\"colorbar\":{\"outlinewidth\":0,\"ticks\":\"\"},\"type\":\"contourcarpet\"}],\"heatmap\":[{\"colorbar\":{\"outlinewidth\":0,\"ticks\":\"\"},\"colorscale\":[[0.0,\"#0d0887\"],[0.1111111111111111,\"#46039f\"],[0.2222222222222222,\"#7201a8\"],[0.3333333333333333,\"#9c179e\"],[0.4444444444444444,\"#bd3786\"],[0.5555555555555556,\"#d8576b\"],[0.6666666666666666,\"#ed7953\"],[0.7777777777777778,\"#fb9f3a\"],[0.8888888888888888,\"#fdca26\"],[1.0,\"#f0f921\"]],\"type\":\"heatmap\"}],\"heatmapgl\":[{\"colorbar\":{\"outlinewidth\":0,\"ticks\":\"\"},\"colorscale\":[[0.0,\"#0d0887\"],[0.1111111111111111,\"#46039f\"],[0.2222222222222222,\"#7201a8\"],[0.3333333333333333,\"#9c179e\"],[0.4444444444444444,\"#bd3786\"],[0.5555555555555556,\"#d8576b\"],[0.6666666666666666,\"#ed7953\"],[0.7777777777777778,\"#fb9f3a\"],[0.8888888888888888,\"#fdca26\"],[1.0,\"#f0f921\"]],\"type\":\"heatmapgl\"}],\"histogram\":[{\"marker\":{\"colorbar\":{\"outlinewidth\":0,\"ticks\":\"\"}},\"type\":\"histogram\"}],\"histogram2d\":[{\"colorbar\":{\"outlinewidth\":0,\"ticks\":\"\"},\"colorscale\":[[0.0,\"#0d0887\"],[0.1111111111111111,\"#46039f\"],[0.2222222222222222,\"#7201a8\"],[0.3333333333333333,\"#9c179e\"],[0.4444444444444444,\"#bd3786\"],[0.5555555555555556,\"#d8576b\"],[0.6666666666666666,\"#ed7953\"],[0.7777777777777778,\"#fb9f3a\"],[0.8888888888888888,\"#fdca26\"],[1.0,\"#f0f921\"]],\"type\":\"histogram2d\"}],\"histogram2dcontour\":[{\"colorbar\":{\"outlinewidth\":0,\"ticks\":\"\"},\"colorscale\":[[0.0,\"#0d0887\"],[0.1111111111111111,\"#46039f\"],[0.2222222222222222,\"#7201a8\"],[0.3333333333333333,\"#9c179e\"],[0.4444444444444444,\"#bd3786\"],[0.5555555555555556,\"#d8576b\"],[0.6666666666666666,\"#ed7953\"],[0.7777777777777778,\"#fb9f3a\"],[0.8888888888888888,\"#fdca26\"],[1.0,\"#f0f921\"]],\"type\":\"histogram2dcontour\"}],\"mesh3d\":[{\"colorbar\":{\"outlinewidth\":0,\"ticks\":\"\"},\"type\":\"mesh3d\"}],\"parcoords\":[{\"line\":{\"colorbar\":{\"outlinewidth\":0,\"ticks\":\"\"}},\"type\":\"parcoords\"}],\"pie\":[{\"automargin\":true,\"type\":\"pie\"}],\"scatter\":[{\"marker\":{\"colorbar\":{\"outlinewidth\":0,\"ticks\":\"\"}},\"type\":\"scatter\"}],\"scatter3d\":[{\"line\":{\"colorbar\":{\"outlinewidth\":0,\"ticks\":\"\"}},\"marker\":{\"colorbar\":{\"outlinewidth\":0,\"ticks\":\"\"}},\"type\":\"scatter3d\"}],\"scattercarpet\":[{\"marker\":{\"colorbar\":{\"outlinewidth\":0,\"ticks\":\"\"}},\"type\":\"scattercarpet\"}],\"scattergeo\":[{\"marker\":{\"colorbar\":{\"outlinewidth\":0,\"ticks\":\"\"}},\"type\":\"scattergeo\"}],\"scattergl\":[{\"marker\":{\"colorbar\":{\"outlinewidth\":0,\"ticks\":\"\"}},\"type\":\"scattergl\"}],\"scattermapbox\":[{\"marker\":{\"colorbar\":{\"outlinewidth\":0,\"ticks\":\"\"}},\"type\":\"scattermapbox\"}],\"scatterpolar\":[{\"marker\":{\"colorbar\":{\"outlinewidth\":0,\"ticks\":\"\"}},\"type\":\"scatterpolar\"}],\"scatterpolargl\":[{\"marker\":{\"colorbar\":{\"outlinewidth\":0,\"ticks\":\"\"}},\"type\":\"scatterpolargl\"}],\"scatterternary\":[{\"marker\":{\"colorbar\":{\"outlinewidth\":0,\"ticks\":\"\"}},\"type\":\"scatterternary\"}],\"surface\":[{\"colorbar\":{\"outlinewidth\":0,\"ticks\":\"\"},\"colorscale\":[[0.0,\"#0d0887\"],[0.1111111111111111,\"#46039f\"],[0.2222222222222222,\"#7201a8\"],[0.3333333333333333,\"#9c179e\"],[0.4444444444444444,\"#bd3786\"],[0.5555555555555556,\"#d8576b\"],[0.6666666666666666,\"#ed7953\"],[0.7777777777777778,\"#fb9f3a\"],[0.8888888888888888,\"#fdca26\"],[1.0,\"#f0f921\"]],\"type\":\"surface\"}],\"table\":[{\"cells\":{\"fill\":{\"color\":\"#EBF0F8\"},\"line\":{\"color\":\"white\"}},\"header\":{\"fill\":{\"color\":\"#C8D4E3\"},\"line\":{\"color\":\"white\"}},\"type\":\"table\"}]},\"layout\":{\"annotationdefaults\":{\"arrowcolor\":\"#2a3f5f\",\"arrowhead\":0,\"arrowwidth\":1},\"coloraxis\":{\"colorbar\":{\"outlinewidth\":0,\"ticks\":\"\"}},\"colorscale\":{\"diverging\":[[0,\"#8e0152\"],[0.1,\"#c51b7d\"],[0.2,\"#de77ae\"],[0.3,\"#f1b6da\"],[0.4,\"#fde0ef\"],[0.5,\"#f7f7f7\"],[0.6,\"#e6f5d0\"],[0.7,\"#b8e186\"],[0.8,\"#7fbc41\"],[0.9,\"#4d9221\"],[1,\"#276419\"]],\"sequential\":[[0.0,\"#0d0887\"],[0.1111111111111111,\"#46039f\"],[0.2222222222222222,\"#7201a8\"],[0.3333333333333333,\"#9c179e\"],[0.4444444444444444,\"#bd3786\"],[0.5555555555555556,\"#d8576b\"],[0.6666666666666666,\"#ed7953\"],[0.7777777777777778,\"#fb9f3a\"],[0.8888888888888888,\"#fdca26\"],[1.0,\"#f0f921\"]],\"sequentialminus\":[[0.0,\"#0d0887\"],[0.1111111111111111,\"#46039f\"],[0.2222222222222222,\"#7201a8\"],[0.3333333333333333,\"#9c179e\"],[0.4444444444444444,\"#bd3786\"],[0.5555555555555556,\"#d8576b\"],[0.6666666666666666,\"#ed7953\"],[0.7777777777777778,\"#fb9f3a\"],[0.8888888888888888,\"#fdca26\"],[1.0,\"#f0f921\"]]},\"colorway\":[\"#636efa\",\"#EF553B\",\"#00cc96\",\"#ab63fa\",\"#FFA15A\",\"#19d3f3\",\"#FF6692\",\"#B6E880\",\"#FF97FF\",\"#FECB52\"],\"font\":{\"color\":\"#2a3f5f\"},\"geo\":{\"bgcolor\":\"white\",\"lakecolor\":\"white\",\"landcolor\":\"#E5ECF6\",\"showlakes\":true,\"showland\":true,\"subunitcolor\":\"white\"},\"hoverlabel\":{\"align\":\"left\"},\"hovermode\":\"closest\",\"mapbox\":{\"style\":\"light\"},\"paper_bgcolor\":\"white\",\"plot_bgcolor\":\"#E5ECF6\",\"polar\":{\"angularaxis\":{\"gridcolor\":\"white\",\"linecolor\":\"white\",\"ticks\":\"\"},\"bgcolor\":\"#E5ECF6\",\"radialaxis\":{\"gridcolor\":\"white\",\"linecolor\":\"white\",\"ticks\":\"\"}},\"scene\":{\"xaxis\":{\"backgroundcolor\":\"#E5ECF6\",\"gridcolor\":\"white\",\"gridwidth\":2,\"linecolor\":\"white\",\"showbackground\":true,\"ticks\":\"\",\"zerolinecolor\":\"white\"},\"yaxis\":{\"backgroundcolor\":\"#E5ECF6\",\"gridcolor\":\"white\",\"gridwidth\":2,\"linecolor\":\"white\",\"showbackground\":true,\"ticks\":\"\",\"zerolinecolor\":\"white\"},\"zaxis\":{\"backgroundcolor\":\"#E5ECF6\",\"gridcolor\":\"white\",\"gridwidth\":2,\"linecolor\":\"white\",\"showbackground\":true,\"ticks\":\"\",\"zerolinecolor\":\"white\"}},\"shapedefaults\":{\"line\":{\"color\":\"#2a3f5f\"}},\"ternary\":{\"aaxis\":{\"gridcolor\":\"white\",\"linecolor\":\"white\",\"ticks\":\"\"},\"baxis\":{\"gridcolor\":\"white\",\"linecolor\":\"white\",\"ticks\":\"\"},\"bgcolor\":\"#E5ECF6\",\"caxis\":{\"gridcolor\":\"white\",\"linecolor\":\"white\",\"ticks\":\"\"}},\"title\":{\"x\":0.05},\"xaxis\":{\"automargin\":true,\"gridcolor\":\"white\",\"linecolor\":\"white\",\"ticks\":\"\",\"title\":{\"standoff\":15},\"zerolinecolor\":\"white\",\"zerolinewidth\":2},\"yaxis\":{\"automargin\":true,\"gridcolor\":\"white\",\"linecolor\":\"white\",\"ticks\":\"\",\"title\":{\"standoff\":15},\"zerolinecolor\":\"white\",\"zerolinewidth\":2}}},\"title\":{\"text\":\"Monthly Milk Production - Virginia\"},\"yaxis\":{\"title\":{\"text\":\"Milk Production (Lbs)\"}}}}\n"
     ]
    }
   ],
   "source": [
    "print(fig.to_json(pretty = False))"
   ]
  },
  {
   "cell_type": "markdown",
   "metadata": {},
   "source": [
    "**Let's go ahead and add in all the years** \n",
    "- Although I'll leave the older ones \"toggled off\" in the legend"
   ]
  },
  {
   "cell_type": "code",
   "execution_count": 29,
   "metadata": {},
   "outputs": [
    {
     "data": {
      "application/vnd.jupyter.widget-view+json": {
       "model_id": "2de8ee1691474375aff95dbe298991f6",
       "version_major": 2,
       "version_minor": 0
      },
      "text/plain": [
       "FigureWidget({\n",
       "    'data': [{'mode': 'lines+markers',\n",
       "              'name': '2020',\n",
       "              'type': 'sca…"
      ]
     },
     "metadata": {},
     "output_type": "display_data"
    }
   ],
   "source": [
    "# init the figure\n",
    "fig = go.FigureWidget()\n",
    "# add some traces\n",
    "for yr in monthly_df.Year.unique():\n",
    "    if yr in [2020, 2019]:\n",
    "        fig.add_trace(\n",
    "            go.Scatter(\n",
    "                x = monthly_df['Period'][monthly_df.Year == yr][monthly_df.State == 'VIRGINIA'],\n",
    "                y = monthly_df['Milk Production (Lbs)'][monthly_df.Year == yr][monthly_df.State == 'VIRGINIA'],\n",
    "                mode = 'lines+markers',\n",
    "                name = str(yr),\n",
    "            )\n",
    "        )\n",
    "    # add the rest of the traces toggled off\n",
    "    else:\n",
    "        fig.add_trace(\n",
    "            go.Scatter(\n",
    "                x = monthly_df['Period'][monthly_df.Year == yr][monthly_df.State == 'VIRGINIA'],\n",
    "                y = monthly_df['Milk Production (Lbs)'][monthly_df.Year == yr][monthly_df.State == 'VIRGINIA'],\n",
    "                mode = 'lines+markers',\n",
    "                name = str(yr),\n",
    "                visible='legendonly'\n",
    "            )\n",
    "        )\n",
    "# Add title\n",
    "fig.update_layout(\n",
    "    title = 'Monthly Milk Production, Virginia',\n",
    "    yaxis_title = 'Milk Production (Lbs)',\n",
    ")\n",
    "# display the figure\n",
    "fig"
   ]
  },
  {
   "cell_type": "markdown",
   "metadata": {},
   "source": [
    "### Save the vis to html and json"
   ]
  },
  {
   "cell_type": "code",
   "execution_count": 30,
   "metadata": {},
   "outputs": [],
   "source": [
    "# save to html\n",
    "with open(Path('visualizations/va-monthly-milk-prod-by-year.html'), 'w') as file_path:\n",
    "    file_path.write(fig.to_html())\n",
    "# save to json\n",
    "with open(Path('visualizations/va-monthly-milk-prod-by-year.json'), 'w') as file_path:\n",
    "    file_path.write(fig.to_json())  "
   ]
  },
  {
   "cell_type": "markdown",
   "metadata": {},
   "source": [
    "## Ok, Let's Aggregate the states into a national graph"
   ]
  },
  {
   "cell_type": "code",
   "execution_count": 31,
   "metadata": {},
   "outputs": [
    {
     "data": {
      "text/plain": [
       "\"monthly_df.groupby(['Year', 'Period']).apply(\\n    lambda df: df['Milk Production (Lbs)'].sum()\\n).to_frame()\""
      ]
     },
     "execution_count": 31,
     "metadata": {},
     "output_type": "execute_result"
    }
   ],
   "source": [
    "'''monthly_df.groupby(['Year', 'Period']).apply(\n",
    "    lambda df: df['Milk Production (Lbs)'].sum()\n",
    ").to_frame()'''"
   ]
  },
  {
   "cell_type": "code",
   "execution_count": 32,
   "metadata": {},
   "outputs": [
    {
     "data": {
      "text/plain": [
       "\"monthly_df.groupby(['Year', 'Period']).apply(\\n    lambda df: df['Milk Production (Lbs)'].sum()\\n).to_frame().unstack()\""
      ]
     },
     "execution_count": 32,
     "metadata": {},
     "output_type": "execute_result"
    }
   ],
   "source": [
    "'''monthly_df.groupby(['Year', 'Period']).apply(\n",
    "    lambda df: df['Milk Production (Lbs)'].sum()\n",
    ").to_frame().unstack()'''"
   ]
  },
  {
   "cell_type": "code",
   "execution_count": 33,
   "metadata": {},
   "outputs": [
    {
     "data": {
      "text/plain": [
       "\"monthly_df.groupby(['Year', 'Period']).apply(\\n    lambda df: df['Milk Production (Lbs)'].sum()\\n).to_frame().unstack().reset_index()\""
      ]
     },
     "execution_count": 33,
     "metadata": {},
     "output_type": "execute_result"
    }
   ],
   "source": [
    "'''monthly_df.groupby(['Year', 'Period']).apply(\n",
    "    lambda df: df['Milk Production (Lbs)'].sum()\n",
    ").to_frame().unstack().reset_index()'''"
   ]
  },
  {
   "cell_type": "code",
   "execution_count": 34,
   "metadata": {},
   "outputs": [
    {
     "data": {
      "text/html": [
       "<div>\n",
       "<style scoped>\n",
       "    .dataframe tbody tr th:only-of-type {\n",
       "        vertical-align: middle;\n",
       "    }\n",
       "\n",
       "    .dataframe tbody tr th {\n",
       "        vertical-align: top;\n",
       "    }\n",
       "\n",
       "    .dataframe thead th {\n",
       "        text-align: right;\n",
       "    }\n",
       "</style>\n",
       "<table border=\"1\" class=\"dataframe\">\n",
       "  <thead>\n",
       "    <tr style=\"text-align: right;\">\n",
       "      <th></th>\n",
       "      <th>Year</th>\n",
       "      <th>Period</th>\n",
       "      <th>Milk Production (Lbs)</th>\n",
       "      <th>Month</th>\n",
       "    </tr>\n",
       "  </thead>\n",
       "  <tbody>\n",
       "    <tr>\n",
       "      <th>0</th>\n",
       "      <td>2020</td>\n",
       "      <td>JUL</td>\n",
       "      <td>17800000000</td>\n",
       "      <td>7</td>\n",
       "    </tr>\n",
       "    <tr>\n",
       "      <th>1</th>\n",
       "      <td>2020</td>\n",
       "      <td>JUN</td>\n",
       "      <td>17486000000</td>\n",
       "      <td>6</td>\n",
       "    </tr>\n",
       "    <tr>\n",
       "      <th>2</th>\n",
       "      <td>2020</td>\n",
       "      <td>MAY</td>\n",
       "      <td>18049000000</td>\n",
       "      <td>5</td>\n",
       "    </tr>\n",
       "    <tr>\n",
       "      <th>3</th>\n",
       "      <td>2020</td>\n",
       "      <td>APR</td>\n",
       "      <td>17778000000</td>\n",
       "      <td>4</td>\n",
       "    </tr>\n",
       "    <tr>\n",
       "      <th>4</th>\n",
       "      <td>2020</td>\n",
       "      <td>MAR</td>\n",
       "      <td>18455000000</td>\n",
       "      <td>3</td>\n",
       "    </tr>\n",
       "    <tr>\n",
       "      <th>5</th>\n",
       "      <td>2020</td>\n",
       "      <td>FEB</td>\n",
       "      <td>17031000000</td>\n",
       "      <td>2</td>\n",
       "    </tr>\n",
       "    <tr>\n",
       "      <th>6</th>\n",
       "      <td>2020</td>\n",
       "      <td>JAN</td>\n",
       "      <td>17956000000</td>\n",
       "      <td>1</td>\n",
       "    </tr>\n",
       "    <tr>\n",
       "      <th>7</th>\n",
       "      <td>2019</td>\n",
       "      <td>DEC</td>\n",
       "      <td>17517000000</td>\n",
       "      <td>12</td>\n",
       "    </tr>\n",
       "    <tr>\n",
       "      <th>8</th>\n",
       "      <td>2019</td>\n",
       "      <td>NOV</td>\n",
       "      <td>16699000000</td>\n",
       "      <td>11</td>\n",
       "    </tr>\n",
       "    <tr>\n",
       "      <th>9</th>\n",
       "      <td>2019</td>\n",
       "      <td>OCT</td>\n",
       "      <td>17299000000</td>\n",
       "      <td>10</td>\n",
       "    </tr>\n",
       "    <tr>\n",
       "      <th>10</th>\n",
       "      <td>2019</td>\n",
       "      <td>SEP</td>\n",
       "      <td>16796000000</td>\n",
       "      <td>9</td>\n",
       "    </tr>\n",
       "    <tr>\n",
       "      <th>11</th>\n",
       "      <td>2019</td>\n",
       "      <td>AUG</td>\n",
       "      <td>17439000000</td>\n",
       "      <td>8</td>\n",
       "    </tr>\n",
       "    <tr>\n",
       "      <th>12</th>\n",
       "      <td>2019</td>\n",
       "      <td>JUL</td>\n",
       "      <td>17542000000</td>\n",
       "      <td>7</td>\n",
       "    </tr>\n",
       "    <tr>\n",
       "      <th>13</th>\n",
       "      <td>2019</td>\n",
       "      <td>JUN</td>\n",
       "      <td>17342000000</td>\n",
       "      <td>6</td>\n",
       "    </tr>\n",
       "    <tr>\n",
       "      <th>14</th>\n",
       "      <td>2019</td>\n",
       "      <td>MAY</td>\n",
       "      <td>18137000000</td>\n",
       "      <td>5</td>\n",
       "    </tr>\n",
       "  </tbody>\n",
       "</table>\n",
       "</div>"
      ],
      "text/plain": [
       "    Year Period  Milk Production (Lbs)  Month\n",
       "0   2020    JUL            17800000000      7\n",
       "1   2020    JUN            17486000000      6\n",
       "2   2020    MAY            18049000000      5\n",
       "3   2020    APR            17778000000      4\n",
       "4   2020    MAR            18455000000      3\n",
       "5   2020    FEB            17031000000      2\n",
       "6   2020    JAN            17956000000      1\n",
       "7   2019    DEC            17517000000     12\n",
       "8   2019    NOV            16699000000     11\n",
       "9   2019    OCT            17299000000     10\n",
       "10  2019    SEP            16796000000      9\n",
       "11  2019    AUG            17439000000      8\n",
       "12  2019    JUL            17542000000      7\n",
       "13  2019    JUN            17342000000      6\n",
       "14  2019    MAY            18137000000      5"
      ]
     },
     "execution_count": 34,
     "metadata": {},
     "output_type": "execute_result"
    }
   ],
   "source": [
    "# group by Year, Month, and aggregate all the states as a sum of the Milk Production\n",
    "national_df = monthly_df.groupby(['Year', 'Period']).apply(\n",
    "    lambda df: df['Milk Production (Lbs)'].sum()\n",
    ").reset_index().rename(columns = {0:'Milk Production (Lbs)'})\n",
    "# map the Period to a numerical month again\n",
    "national_df['Month'] = national_df.Period.map(month_to_int_dct)\n",
    "# display the first few rows\n",
    "national_df = national_df.sort_values(by = ['Year', 'Month'], ascending=False).reset_index(drop = True)\n",
    "national_df.head(15)"
   ]
  },
  {
   "cell_type": "markdown",
   "metadata": {},
   "source": [
    "# Display the line chart for the national aggregation"
   ]
  },
  {
   "cell_type": "code",
   "execution_count": 35,
   "metadata": {},
   "outputs": [
    {
     "data": {
      "application/vnd.jupyter.widget-view+json": {
       "model_id": "554304c4be77409480f16d780862ebad",
       "version_major": 2,
       "version_minor": 0
      },
      "text/plain": [
       "FigureWidget({\n",
       "    'data': [{'mode': 'lines+markers',\n",
       "              'name': '2020',\n",
       "              'type': 'sca…"
      ]
     },
     "metadata": {},
     "output_type": "display_data"
    }
   ],
   "source": [
    "# init the figure\n",
    "fig = go.FigureWidget()\n",
    "# add some traces\n",
    "for yr in national_df.Year.unique():\n",
    "    if yr in [2020, 2019]:\n",
    "        fig.add_trace(\n",
    "            go.Scatter(\n",
    "                x = national_df[national_df.Year == yr].sort_values(by = ['Month'])['Period'],\n",
    "                y = national_df[national_df.Year == yr].sort_values(by = ['Month'])['Milk Production (Lbs)'],\n",
    "                mode = 'lines+markers',\n",
    "                name = str(yr),\n",
    "            )\n",
    "        )\n",
    "    # add the rest of the traces toggled off\n",
    "    else:\n",
    "        fig.add_trace(\n",
    "            go.Scatter(\n",
    "                x = national_df[national_df.Year == yr].sort_values(by = ['Month'])['Period'],\n",
    "                y = national_df[national_df.Year == yr].sort_values(by = ['Month'])['Milk Production (Lbs)'],\n",
    "                mode = 'lines+markers',\n",
    "                name = str(yr),\n",
    "                visible='legendonly'\n",
    "            )\n",
    "        )\n",
    "# Add title\n",
    "fig.update_layout(\n",
    "    title = 'Monthly Milk Production, National',\n",
    "    yaxis_title = 'Milk Production (Lbs)',\n",
    ")\n",
    "# display the figure\n",
    "fig"
   ]
  },
  {
   "cell_type": "markdown",
   "metadata": {},
   "source": [
    "**Display the table that feeds this visualization**"
   ]
  },
  {
   "cell_type": "code",
   "execution_count": 36,
   "metadata": {},
   "outputs": [
    {
     "data": {
      "text/html": [
       "<div>\n",
       "<style scoped>\n",
       "    .dataframe tbody tr th:only-of-type {\n",
       "        vertical-align: middle;\n",
       "    }\n",
       "\n",
       "    .dataframe tbody tr th {\n",
       "        vertical-align: top;\n",
       "    }\n",
       "\n",
       "    .dataframe thead th {\n",
       "        text-align: right;\n",
       "    }\n",
       "</style>\n",
       "<table border=\"1\" class=\"dataframe\">\n",
       "  <thead>\n",
       "    <tr style=\"text-align: right;\">\n",
       "      <th></th>\n",
       "      <th>Year</th>\n",
       "      <th>Period</th>\n",
       "      <th>Milk Production (Lbs)</th>\n",
       "      <th>Month</th>\n",
       "    </tr>\n",
       "  </thead>\n",
       "  <tbody>\n",
       "    <tr>\n",
       "      <th>0</th>\n",
       "      <td>2020</td>\n",
       "      <td>JUL</td>\n",
       "      <td>17800000000</td>\n",
       "      <td>7</td>\n",
       "    </tr>\n",
       "    <tr>\n",
       "      <th>1</th>\n",
       "      <td>2020</td>\n",
       "      <td>JUN</td>\n",
       "      <td>17486000000</td>\n",
       "      <td>6</td>\n",
       "    </tr>\n",
       "    <tr>\n",
       "      <th>2</th>\n",
       "      <td>2020</td>\n",
       "      <td>MAY</td>\n",
       "      <td>18049000000</td>\n",
       "      <td>5</td>\n",
       "    </tr>\n",
       "    <tr>\n",
       "      <th>3</th>\n",
       "      <td>2020</td>\n",
       "      <td>APR</td>\n",
       "      <td>17778000000</td>\n",
       "      <td>4</td>\n",
       "    </tr>\n",
       "    <tr>\n",
       "      <th>4</th>\n",
       "      <td>2020</td>\n",
       "      <td>MAR</td>\n",
       "      <td>18455000000</td>\n",
       "      <td>3</td>\n",
       "    </tr>\n",
       "    <tr>\n",
       "      <th>5</th>\n",
       "      <td>2020</td>\n",
       "      <td>FEB</td>\n",
       "      <td>17031000000</td>\n",
       "      <td>2</td>\n",
       "    </tr>\n",
       "    <tr>\n",
       "      <th>6</th>\n",
       "      <td>2020</td>\n",
       "      <td>JAN</td>\n",
       "      <td>17956000000</td>\n",
       "      <td>1</td>\n",
       "    </tr>\n",
       "    <tr>\n",
       "      <th>7</th>\n",
       "      <td>2019</td>\n",
       "      <td>DEC</td>\n",
       "      <td>17517000000</td>\n",
       "      <td>12</td>\n",
       "    </tr>\n",
       "    <tr>\n",
       "      <th>8</th>\n",
       "      <td>2019</td>\n",
       "      <td>NOV</td>\n",
       "      <td>16699000000</td>\n",
       "      <td>11</td>\n",
       "    </tr>\n",
       "    <tr>\n",
       "      <th>9</th>\n",
       "      <td>2019</td>\n",
       "      <td>OCT</td>\n",
       "      <td>17299000000</td>\n",
       "      <td>10</td>\n",
       "    </tr>\n",
       "    <tr>\n",
       "      <th>10</th>\n",
       "      <td>2019</td>\n",
       "      <td>SEP</td>\n",
       "      <td>16796000000</td>\n",
       "      <td>9</td>\n",
       "    </tr>\n",
       "    <tr>\n",
       "      <th>11</th>\n",
       "      <td>2019</td>\n",
       "      <td>AUG</td>\n",
       "      <td>17439000000</td>\n",
       "      <td>8</td>\n",
       "    </tr>\n",
       "  </tbody>\n",
       "</table>\n",
       "</div>"
      ],
      "text/plain": [
       "    Year Period  Milk Production (Lbs)  Month\n",
       "0   2020    JUL            17800000000      7\n",
       "1   2020    JUN            17486000000      6\n",
       "2   2020    MAY            18049000000      5\n",
       "3   2020    APR            17778000000      4\n",
       "4   2020    MAR            18455000000      3\n",
       "5   2020    FEB            17031000000      2\n",
       "6   2020    JAN            17956000000      1\n",
       "7   2019    DEC            17517000000     12\n",
       "8   2019    NOV            16699000000     11\n",
       "9   2019    OCT            17299000000     10\n",
       "10  2019    SEP            16796000000      9\n",
       "11  2019    AUG            17439000000      8"
      ]
     },
     "execution_count": 36,
     "metadata": {},
     "output_type": "execute_result"
    }
   ],
   "source": [
    "national_df.head(12)"
   ]
  },
  {
   "cell_type": "markdown",
   "metadata": {},
   "source": [
    "# Experiment with the visualizations a bit more\n",
    "## Let's try that again with a stacked area chart \n",
    "**to better illustrate \"how the states stack up\"**"
   ]
  },
  {
   "cell_type": "markdown",
   "metadata": {},
   "source": [
    "## This vis is good, but slows down the browser"
   ]
  },
  {
   "cell_type": "code",
   "execution_count": 37,
   "metadata": {},
   "outputs": [
    {
     "data": {
      "text/plain": [
       "\"# init the figure\\nfig = go.FigureWidget()\\nfor yr in monthly_df.Year.unique():\\n    # add some traces\\n    for st in monthly_df.State.unique():\\n        if yr in [2020, 2019]:\\n            fig.add_trace(\\n                go.Scatter(\\n                    x = monthly_df['Period'][monthly_df.Year == yr][monthly_df.State == st],\\n                    y = monthly_df['Milk Production (Lbs)'][monthly_df.Year == yr][monthly_df.State == st],\\n                    mode = 'lines',\\n                    fillcolor='lightgrey',\\n                    name = st + ' ' + str(yr),\\n                    stackgroup= str(yr),\\n                    legendgroup = str(yr),\\n                )\\n            )\\n        # add the rest of the traces toggled off\\n        else:\\n            fig.add_trace(\\n                go.Scatter(\\n                    x = monthly_df['Period'][monthly_df.Year == yr][monthly_df.State == st],\\n                    y = monthly_df['Milk Production (Lbs)'][monthly_df.Year == yr][monthly_df.State == st],\\n                    mode = 'lines',\\n                    name = st + ' ' + str(yr),\\n                    stackgroup = str(yr),\\n                    visible='legendonly',\\n                    legendgroup = str(yr),\\n                )\\n            )\\n# Add title\\nfig.update_layout(\\n    title = 'Monthly Milk Production',\\n    yaxis_title = 'Milk Production (Lbs)',\\n)\\n# display the figure\\nfig\""
      ]
     },
     "execution_count": 37,
     "metadata": {},
     "output_type": "execute_result"
    }
   ],
   "source": [
    "'''# init the figure\n",
    "fig = go.FigureWidget()\n",
    "for yr in monthly_df.Year.unique():\n",
    "    # add some traces\n",
    "    for st in monthly_df.State.unique():\n",
    "        if yr in [2020, 2019]:\n",
    "            fig.add_trace(\n",
    "                go.Scatter(\n",
    "                    x = monthly_df['Period'][monthly_df.Year == yr][monthly_df.State == st],\n",
    "                    y = monthly_df['Milk Production (Lbs)'][monthly_df.Year == yr][monthly_df.State == st],\n",
    "                    mode = 'lines',\n",
    "                    fillcolor='lightgrey',\n",
    "                    name = st + ' ' + str(yr),\n",
    "                    stackgroup= str(yr),\n",
    "                    legendgroup = str(yr),\n",
    "                )\n",
    "            )\n",
    "        # add the rest of the traces toggled off\n",
    "        else:\n",
    "            fig.add_trace(\n",
    "                go.Scatter(\n",
    "                    x = monthly_df['Period'][monthly_df.Year == yr][monthly_df.State == st],\n",
    "                    y = monthly_df['Milk Production (Lbs)'][monthly_df.Year == yr][monthly_df.State == st],\n",
    "                    mode = 'lines',\n",
    "                    name = st + ' ' + str(yr),\n",
    "                    stackgroup = str(yr),\n",
    "                    visible='legendonly',\n",
    "                    legendgroup = str(yr),\n",
    "                )\n",
    "            )\n",
    "# Add title\n",
    "fig.update_layout(\n",
    "    title = 'Monthly Milk Production',\n",
    "    yaxis_title = 'Milk Production (Lbs)',\n",
    ")\n",
    "# display the figure\n",
    "fig'''"
   ]
  },
  {
   "cell_type": "markdown",
   "metadata": {},
   "source": [
    "## Previous drafts of stacked area charts"
   ]
  },
  {
   "cell_type": "code",
   "execution_count": 38,
   "metadata": {},
   "outputs": [
    {
     "data": {
      "text/plain": [
       "\"# init the figure\\nfig = go.FigureWidget()\\nfor st in monthly_df.State.unique():\\n    # add some traces\\n    for yr in monthly_df.Year.unique():\\n        if yr in [2020, 2019]:\\n            fig.add_trace(\\n                go.Scatter(\\n                    x = monthly_df['Period'][monthly_df.Year == yr][monthly_df.State == st],\\n                    y = monthly_df['Milk Production (Lbs)'][monthly_df.Year == yr][monthly_df.State == st],\\n                    mode = 'lines+markers',\\n                    name = st + str(yr),\\n                    stackgroup= str(yr)\\n                )\\n            )\\n        # add the rest of the traces toggled off\\n        else:\\n            fig.add_trace(\\n                go.Scatter(\\n                    x = monthly_df['Period'][monthly_df.Year == yr][monthly_df.State == st],\\n                    y = monthly_df['Milk Production (Lbs)'][monthly_df.Year == yr][monthly_df.State == st],\\n                    mode = 'lines+markers',\\n                    name = st + str(yr),\\n                    stackgroup = str(yr),\\n                    visible='legendonly'\\n                )\\n            )\\n# Add title\\nfig.update_layout(\\n    title = 'Monthly Milk Production, Virginia',\\n    yaxis_title = 'Milk Production (Lbs)',\\n)\\n# display the figure\\nfig\""
      ]
     },
     "execution_count": 38,
     "metadata": {},
     "output_type": "execute_result"
    }
   ],
   "source": [
    "'''# init the figure\n",
    "fig = go.FigureWidget()\n",
    "for st in monthly_df.State.unique():\n",
    "    # add some traces\n",
    "    for yr in monthly_df.Year.unique():\n",
    "        if yr in [2020, 2019]:\n",
    "            fig.add_trace(\n",
    "                go.Scatter(\n",
    "                    x = monthly_df['Period'][monthly_df.Year == yr][monthly_df.State == st],\n",
    "                    y = monthly_df['Milk Production (Lbs)'][monthly_df.Year == yr][monthly_df.State == st],\n",
    "                    mode = 'lines+markers',\n",
    "                    name = st + str(yr),\n",
    "                    stackgroup= str(yr)\n",
    "                )\n",
    "            )\n",
    "        # add the rest of the traces toggled off\n",
    "        else:\n",
    "            fig.add_trace(\n",
    "                go.Scatter(\n",
    "                    x = monthly_df['Period'][monthly_df.Year == yr][monthly_df.State == st],\n",
    "                    y = monthly_df['Milk Production (Lbs)'][monthly_df.Year == yr][monthly_df.State == st],\n",
    "                    mode = 'lines+markers',\n",
    "                    name = st + str(yr),\n",
    "                    stackgroup = str(yr),\n",
    "                    visible='legendonly'\n",
    "                )\n",
    "            )\n",
    "# Add title\n",
    "fig.update_layout(\n",
    "    title = 'Monthly Milk Production, Virginia',\n",
    "    yaxis_title = 'Milk Production (Lbs)',\n",
    ")\n",
    "# display the figure\n",
    "fig'''"
   ]
  },
  {
   "cell_type": "code",
   "execution_count": 39,
   "metadata": {},
   "outputs": [
    {
     "data": {
      "text/plain": [
       "\"# init the figure\\nfig = go.FigureWidget()\\n#for yr in monthly_df.Year.unique():\\nfor yr in [2019]:\\n    # add some traces\\n    for st in monthly_df.State.unique():\\n        if yr in [2020, 2019]:\\n            fig.add_trace(\\n                go.Scatter(\\n                    x = monthly_df['Period'][monthly_df.Year == yr][monthly_df.State == st],\\n                    y = monthly_df['Milk Production (Lbs)'][monthly_df.Year == yr][monthly_df.State == st],\\n                    mode = 'lines',\\n                    fillcolor='lightgrey',\\n                    name = st + ' ' + str(yr),\\n                    stackgroup= str(yr),\\n                    legendgroup = str(yr)\\n                )\\n            )\\n        # add the rest of the traces toggled off\\n        else:\\n            fig.add_trace(\\n                go.Scatter(\\n                    x = monthly_df['Period'][monthly_df.Year == yr][monthly_df.State == st],\\n                    y = monthly_df['Milk Production (Lbs)'][monthly_df.Year == yr][monthly_df.State == st],\\n                    mode = 'lines',\\n                    name = st + ' ' + str(yr),\\n                    stackgroup = str(yr),\\n                    visible='legendonly',\\n                    legendgroup = str(yr)\\n                )\\n            )\\n# Add title\\nfig.update_layout(\\n    title = 'Monthly Milk Production',\\n    yaxis_title = 'Milk Production (Lbs)',\\n)\\n# display the figure\\nfig\""
      ]
     },
     "execution_count": 39,
     "metadata": {},
     "output_type": "execute_result"
    }
   ],
   "source": [
    "'''# init the figure\n",
    "fig = go.FigureWidget()\n",
    "#for yr in monthly_df.Year.unique():\n",
    "for yr in [2019]:\n",
    "    # add some traces\n",
    "    for st in monthly_df.State.unique():\n",
    "        if yr in [2020, 2019]:\n",
    "            fig.add_trace(\n",
    "                go.Scatter(\n",
    "                    x = monthly_df['Period'][monthly_df.Year == yr][monthly_df.State == st],\n",
    "                    y = monthly_df['Milk Production (Lbs)'][monthly_df.Year == yr][monthly_df.State == st],\n",
    "                    mode = 'lines',\n",
    "                    fillcolor='lightgrey',\n",
    "                    name = st + ' ' + str(yr),\n",
    "                    stackgroup= str(yr),\n",
    "                    legendgroup = str(yr)\n",
    "                )\n",
    "            )\n",
    "        # add the rest of the traces toggled off\n",
    "        else:\n",
    "            fig.add_trace(\n",
    "                go.Scatter(\n",
    "                    x = monthly_df['Period'][monthly_df.Year == yr][monthly_df.State == st],\n",
    "                    y = monthly_df['Milk Production (Lbs)'][monthly_df.Year == yr][monthly_df.State == st],\n",
    "                    mode = 'lines',\n",
    "                    name = st + ' ' + str(yr),\n",
    "                    stackgroup = str(yr),\n",
    "                    visible='legendonly',\n",
    "                    legendgroup = str(yr)\n",
    "                )\n",
    "            )\n",
    "# Add title\n",
    "fig.update_layout(\n",
    "    title = 'Monthly Milk Production',\n",
    "    yaxis_title = 'Milk Production (Lbs)',\n",
    ")\n",
    "# display the figure\n",
    "fig'''"
   ]
  },
  {
   "cell_type": "code",
   "execution_count": 40,
   "metadata": {},
   "outputs": [
    {
     "data": {
      "text/plain": [
       "\"# init the figure\\nfig = go.FigureWidget()\\nfor yr in monthly_df.Year.unique():\\n    # add some traces\\n    for st in monthly_df.State.unique():\\n        if yr in [2020, 2019]:\\n            fig.add_trace(\\n                go.Scatter(\\n                    x = monthly_df['Period'][monthly_df.Year == yr][monthly_df.State == st],\\n                    y = monthly_df['Milk Production (Lbs)'][monthly_df.Year == yr][monthly_df.State == st],\\n                    mode = 'lines',\\n                    fillcolor='lightgrey',\\n                    name = st + ' ' + str(yr),\\n                    stackgroup= str(yr),\\n                    legendgroup = str(yr),\\n                    showlegend = False\\n                )\\n            )\\n        # add the rest of the traces toggled off\\n        else:\\n            fig.add_trace(\\n                go.Scatter(\\n                    x = monthly_df['Period'][monthly_df.Year == yr][monthly_df.State == st],\\n                    y = monthly_df['Milk Production (Lbs)'][monthly_df.Year == yr][monthly_df.State == st],\\n                    mode = 'lines',\\n                    name = st + ' ' + str(yr),\\n                    stackgroup = str(yr),\\n                    visible='legendonly',\\n                    legendgroup = str(yr),\\n                    showlegend = False\\n                )\\n            )\\n# Add title\\nfig.update_layout(\\n    title = 'Monthly Milk Production',\\n    yaxis_title = 'Milk Production (Lbs)',\\n)\\n# display the figure\\nfig\""
      ]
     },
     "execution_count": 40,
     "metadata": {},
     "output_type": "execute_result"
    }
   ],
   "source": [
    "'''# init the figure\n",
    "fig = go.FigureWidget()\n",
    "for yr in monthly_df.Year.unique():\n",
    "    # add some traces\n",
    "    for st in monthly_df.State.unique():\n",
    "        if yr in [2020, 2019]:\n",
    "            fig.add_trace(\n",
    "                go.Scatter(\n",
    "                    x = monthly_df['Period'][monthly_df.Year == yr][monthly_df.State == st],\n",
    "                    y = monthly_df['Milk Production (Lbs)'][monthly_df.Year == yr][monthly_df.State == st],\n",
    "                    mode = 'lines',\n",
    "                    fillcolor='lightgrey',\n",
    "                    name = st + ' ' + str(yr),\n",
    "                    stackgroup= str(yr),\n",
    "                    legendgroup = str(yr),\n",
    "                    showlegend = False\n",
    "                )\n",
    "            )\n",
    "        # add the rest of the traces toggled off\n",
    "        else:\n",
    "            fig.add_trace(\n",
    "                go.Scatter(\n",
    "                    x = monthly_df['Period'][monthly_df.Year == yr][monthly_df.State == st],\n",
    "                    y = monthly_df['Milk Production (Lbs)'][monthly_df.Year == yr][monthly_df.State == st],\n",
    "                    mode = 'lines',\n",
    "                    name = st + ' ' + str(yr),\n",
    "                    stackgroup = str(yr),\n",
    "                    visible='legendonly',\n",
    "                    legendgroup = str(yr),\n",
    "                    showlegend = False\n",
    "                )\n",
    "            )\n",
    "# Add title\n",
    "fig.update_layout(\n",
    "    title = 'Monthly Milk Production',\n",
    "    yaxis_title = 'Milk Production (Lbs)',\n",
    ")\n",
    "# display the figure\n",
    "fig'''"
   ]
  },
  {
   "cell_type": "code",
   "execution_count": null,
   "metadata": {},
   "outputs": [],
   "source": []
  },
  {
   "cell_type": "code",
   "execution_count": null,
   "metadata": {},
   "outputs": [],
   "source": []
  },
  {
   "cell_type": "markdown",
   "metadata": {},
   "source": [
    "**plotly (css) compatible colors**"
   ]
  },
  {
   "cell_type": "markdown",
   "metadata": {},
   "source": [
    "aliceblue, antiquewhite, aqua, aquamarine, azure,\n",
    "            beige, bisque, black, blanchedalmond, blue,\n",
    "            blueviolet, brown, burlywood, cadetblue,\n",
    "            chartreuse, chocolate, coral, cornflowerblue,\n",
    "            cornsilk, crimson, cyan, darkblue, darkcyan,\n",
    "            darkgoldenrod, darkgray, darkgrey, darkgreen,\n",
    "            darkkhaki, darkmagenta, darkolivegreen, darkorange,\n",
    "            darkorchid, darkred, darksalmon, darkseagreen,\n",
    "            darkslateblue, darkslategray, darkslategrey,\n",
    "            darkturquoise, darkviolet, deeppink, deepskyblue,\n",
    "            dimgray, dimgrey, dodgerblue, firebrick,\n",
    "            floralwhite, forestgreen, fuchsia, gainsboro,\n",
    "            ghostwhite, gold, goldenrod, gray, grey, green,\n",
    "            greenyellow, honeydew, hotpink, indianred, indigo,\n",
    "            ivory, khaki, lavender, lavenderblush, lawngreen,\n",
    "            lemonchiffon, lightblue, lightcoral, lightcyan,\n",
    "            lightgoldenrodyellow, lightgray, lightgrey,\n",
    "            lightgreen, lightpink, lightsalmon, lightseagreen,\n",
    "            lightskyblue, lightslategray, lightslategrey,\n",
    "            lightsteelblue, lightyellow, lime, limegreen,\n",
    "            linen, magenta, maroon, mediumaquamarine,\n",
    "            mediumblue, mediumorchid, mediumpurple,\n",
    "            mediumseagreen, mediumslateblue, mediumspringgreen,\n",
    "            mediumturquoise, mediumvioletred, midnightblue,\n",
    "            mintcream, mistyrose, moccasin, navajowhite, navy,\n",
    "            oldlace, olive, olivedrab, orange, orangered,\n",
    "            orchid, palegoldenrod, palegreen, paleturquoise,\n",
    "            palevioletred, papayawhip, peachpuff, peru, pink,\n",
    "            plum, powderblue, purple, red, rosybrown,\n",
    "            royalblue, rebeccapurple, saddlebrown, salmon,\n",
    "            sandybrown, seagreen, seashell, sienna, silver,\n",
    "            skyblue, slateblue, slategray, slategrey, snow,\n",
    "            springgreen, steelblue, tan, teal, thistle, tomato,\n",
    "            turquoise, violet, wheat, white, whitesmoke,\n",
    "            yellow, yellowgreen"
   ]
  },
  {
   "cell_type": "code",
   "execution_count": null,
   "metadata": {},
   "outputs": [],
   "source": []
  },
  {
   "cell_type": "code",
   "execution_count": null,
   "metadata": {},
   "outputs": [],
   "source": []
  }
 ],
 "metadata": {
  "kernelspec": {
   "display_name": "Python 3",
   "language": "python",
   "name": "python3"
  },
  "language_info": {
   "codemirror_mode": {
    "name": "ipython",
    "version": 3
   },
   "file_extension": ".py",
   "mimetype": "text/x-python",
   "name": "python",
   "nbconvert_exporter": "python",
   "pygments_lexer": "ipython3",
   "version": "3.8.5"
  }
 },
 "nbformat": 4,
 "nbformat_minor": 4
}
