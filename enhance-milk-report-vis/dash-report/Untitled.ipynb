{
 "cells": [
  {
   "cell_type": "code",
   "execution_count": 1,
   "metadata": {},
   "outputs": [
    {
     "name": "stdout",
     "output_type": "stream",
     "text": [
      "milk-prod-data-mart-reqs-1.4.xlsx\n"
     ]
    }
   ],
   "source": [
    "!ls dummy-data/"
   ]
  },
  {
   "cell_type": "code",
   "execution_count": 51,
   "metadata": {},
   "outputs": [],
   "source": [
    "import pandas as pd"
   ]
  },
  {
   "cell_type": "code",
   "execution_count": 52,
   "metadata": {},
   "outputs": [],
   "source": [
    "# read in the quarterly data in tidy long format\n",
    "quarterly_long_df = pd.read_excel(\n",
    "    io = \"dummy-data/milk-prod-data-mart-reqs-1.4.xlsx\",\n",
    "    sheet_name = \"quarter-wide-nat-2019-2020\"\n",
    ")\n",
    "# rearrange the columns in the order they currently exist in the milk report\n",
    "quarterly_long_df = quarterly_long_df[[\n",
    "    'Quarter', '2019 Milk Cows', '2020 Milk Cows', '2019 Milk Per Cow', '2020 Milk Per Cow', '2019 Milk Production (lbs)', '2020 Milk Production (lbs)', '2020 Milk Production (lbs) Percent Change from 2019'\n",
    "]]"
   ]
  },
  {
   "cell_type": "code",
   "execution_count": 53,
   "metadata": {},
   "outputs": [
    {
     "data": {
      "text/html": [
       "<div>\n",
       "<style scoped>\n",
       "    .dataframe tbody tr th:only-of-type {\n",
       "        vertical-align: middle;\n",
       "    }\n",
       "\n",
       "    .dataframe tbody tr th {\n",
       "        vertical-align: top;\n",
       "    }\n",
       "\n",
       "    .dataframe thead th {\n",
       "        text-align: right;\n",
       "    }\n",
       "</style>\n",
       "<table border=\"1\" class=\"dataframe\">\n",
       "  <thead>\n",
       "    <tr style=\"text-align: right;\">\n",
       "      <th></th>\n",
       "      <th>Quarter</th>\n",
       "      <th>2019 Milk Cows</th>\n",
       "      <th>2020 Milk Cows</th>\n",
       "      <th>2019 Milk Per Cow</th>\n",
       "      <th>2020 Milk Per Cow</th>\n",
       "      <th>2019 Milk Production (lbs)</th>\n",
       "      <th>2020 Milk Production (lbs)</th>\n",
       "      <th>2020 Milk Production (lbs) Percent Change from 2019</th>\n",
       "    </tr>\n",
       "  </thead>\n",
       "  <tbody>\n",
       "    <tr>\n",
       "      <th>0</th>\n",
       "      <td>1</td>\n",
       "      <td>8805000</td>\n",
       "      <td>8834000.0</td>\n",
       "      <td>2010</td>\n",
       "      <td>2033.0</td>\n",
       "      <td>17699000000</td>\n",
       "      <td>17956000000</td>\n",
       "      <td>0.015</td>\n",
       "    </tr>\n",
       "    <tr>\n",
       "      <th>1</th>\n",
       "      <td>2</td>\n",
       "      <td>8803000</td>\n",
       "      <td>8848000.0</td>\n",
       "      <td>1833</td>\n",
       "      <td>1925.0</td>\n",
       "      <td>16132000000</td>\n",
       "      <td>17031000000</td>\n",
       "      <td>0.056</td>\n",
       "    </tr>\n",
       "    <tr>\n",
       "      <th>2</th>\n",
       "      <td>3</td>\n",
       "      <td>8789000</td>\n",
       "      <td>NaN</td>\n",
       "      <td>2038</td>\n",
       "      <td>NaN</td>\n",
       "      <td>17916000000</td>\n",
       "      <td>18455000000</td>\n",
       "      <td>NaN</td>\n",
       "    </tr>\n",
       "    <tr>\n",
       "      <th>3</th>\n",
       "      <td>4</td>\n",
       "      <td>8788000</td>\n",
       "      <td>NaN</td>\n",
       "      <td>1996</td>\n",
       "      <td>NaN</td>\n",
       "      <td>17544000000</td>\n",
       "      <td>17778000000</td>\n",
       "      <td>NaN</td>\n",
       "    </tr>\n",
       "  </tbody>\n",
       "</table>\n",
       "</div>"
      ],
      "text/plain": [
       "   Quarter  2019 Milk Cows  2020 Milk Cows  2019 Milk Per Cow  \\\n",
       "0        1         8805000       8834000.0               2010   \n",
       "1        2         8803000       8848000.0               1833   \n",
       "2        3         8789000             NaN               2038   \n",
       "3        4         8788000             NaN               1996   \n",
       "\n",
       "   2020 Milk Per Cow  2019 Milk Production (lbs)  2020 Milk Production (lbs)  \\\n",
       "0             2033.0                 17699000000                 17956000000   \n",
       "1             1925.0                 16132000000                 17031000000   \n",
       "2                NaN                 17916000000                 18455000000   \n",
       "3                NaN                 17544000000                 17778000000   \n",
       "\n",
       "   2020 Milk Production (lbs) Percent Change from 2019  \n",
       "0                                              0.015    \n",
       "1                                              0.056    \n",
       "2                                                NaN    \n",
       "3                                                NaN    "
      ]
     },
     "execution_count": 53,
     "metadata": {},
     "output_type": "execute_result"
    }
   ],
   "source": [
    "quarterly_long_df.astype(\n",
    "    {col : \"int\" for col in quarterly_long_df.columns if \"perc\" not in col.lower()}, \n",
    "    errors = 'ignore'\n",
    ")"
   ]
  },
  {
   "cell_type": "code",
   "execution_count": 54,
   "metadata": {},
   "outputs": [
    {
     "data": {
      "text/html": [
       "<div>\n",
       "<style scoped>\n",
       "    .dataframe tbody tr th:only-of-type {\n",
       "        vertical-align: middle;\n",
       "    }\n",
       "\n",
       "    .dataframe tbody tr th {\n",
       "        vertical-align: top;\n",
       "    }\n",
       "\n",
       "    .dataframe thead th {\n",
       "        text-align: right;\n",
       "    }\n",
       "</style>\n",
       "<table border=\"1\" class=\"dataframe\">\n",
       "  <thead>\n",
       "    <tr style=\"text-align: right;\">\n",
       "      <th></th>\n",
       "      <th>Quarter</th>\n",
       "      <th>Sum</th>\n",
       "      <th>2020 Milk Cows</th>\n",
       "      <th>Sum</th>\n",
       "      <th>2020 Milk Per Cow</th>\n",
       "      <th>Sum</th>\n",
       "      <th>2020 Milk Production (lbs)</th>\n",
       "      <th>Sum</th>\n",
       "    </tr>\n",
       "  </thead>\n",
       "  <tbody>\n",
       "    <tr>\n",
       "      <th>0</th>\n",
       "      <td>1</td>\n",
       "      <td>8805000</td>\n",
       "      <td>8834000.0</td>\n",
       "      <td>2010</td>\n",
       "      <td>2033.0</td>\n",
       "      <td>17699000000</td>\n",
       "      <td>17956000000</td>\n",
       "      <td>0.015</td>\n",
       "    </tr>\n",
       "    <tr>\n",
       "      <th>1</th>\n",
       "      <td>2</td>\n",
       "      <td>8803000</td>\n",
       "      <td>8848000.0</td>\n",
       "      <td>1833</td>\n",
       "      <td>1925.0</td>\n",
       "      <td>16132000000</td>\n",
       "      <td>17031000000</td>\n",
       "      <td>0.056</td>\n",
       "    </tr>\n",
       "    <tr>\n",
       "      <th>2</th>\n",
       "      <td>3</td>\n",
       "      <td>8789000</td>\n",
       "      <td>NaN</td>\n",
       "      <td>2038</td>\n",
       "      <td>NaN</td>\n",
       "      <td>17916000000</td>\n",
       "      <td>18455000000</td>\n",
       "      <td>NaN</td>\n",
       "    </tr>\n",
       "    <tr>\n",
       "      <th>3</th>\n",
       "      <td>4</td>\n",
       "      <td>8788000</td>\n",
       "      <td>NaN</td>\n",
       "      <td>1996</td>\n",
       "      <td>NaN</td>\n",
       "      <td>17544000000</td>\n",
       "      <td>17778000000</td>\n",
       "      <td>NaN</td>\n",
       "    </tr>\n",
       "  </tbody>\n",
       "</table>\n",
       "</div>"
      ],
      "text/plain": [
       "   Quarter      Sum  2020 Milk Cows   Sum  2020 Milk Per Cow          Sum  \\\n",
       "0        1  8805000       8834000.0  2010             2033.0  17699000000   \n",
       "1        2  8803000       8848000.0  1833             1925.0  16132000000   \n",
       "2        3  8789000             NaN  2038                NaN  17916000000   \n",
       "3        4  8788000             NaN  1996                NaN  17544000000   \n",
       "\n",
       "   2020 Milk Production (lbs)    Sum  \n",
       "0                 17956000000  0.015  \n",
       "1                 17031000000  0.056  \n",
       "2                 18455000000    NaN  \n",
       "3                 17778000000    NaN  "
      ]
     },
     "execution_count": 54,
     "metadata": {},
     "output_type": "execute_result"
    }
   ],
   "source": [
    "quarterly_long_df.rename(columns = {col: 'Sum' for col in quarterly_long_df.columns if '2019' in col})"
   ]
  },
  {
   "cell_type": "code",
   "execution_count": null,
   "metadata": {},
   "outputs": [],
   "source": []
  },
  {
   "cell_type": "code",
   "execution_count": null,
   "metadata": {},
   "outputs": [],
   "source": []
  },
  {
   "cell_type": "code",
   "execution_count": null,
   "metadata": {},
   "outputs": [],
   "source": []
  },
  {
   "cell_type": "code",
   "execution_count": null,
   "metadata": {},
   "outputs": [],
   "source": []
  },
  {
   "cell_type": "code",
   "execution_count": 36,
   "metadata": {},
   "outputs": [
    {
     "data": {
      "text/html": [
       "<div>\n",
       "<style scoped>\n",
       "    .dataframe tbody tr th:only-of-type {\n",
       "        vertical-align: middle;\n",
       "    }\n",
       "\n",
       "    .dataframe tbody tr th {\n",
       "        vertical-align: top;\n",
       "    }\n",
       "\n",
       "    .dataframe thead th {\n",
       "        text-align: right;\n",
       "    }\n",
       "</style>\n",
       "<table border=\"1\" class=\"dataframe\">\n",
       "  <thead>\n",
       "    <tr style=\"text-align: right;\">\n",
       "      <th></th>\n",
       "      <th>2019 Milk Cows</th>\n",
       "      <th>2019 Milk Per Cow</th>\n",
       "    </tr>\n",
       "  </thead>\n",
       "  <tbody>\n",
       "    <tr>\n",
       "      <th>0</th>\n",
       "      <td>35185000</td>\n",
       "      <td>7877</td>\n",
       "    </tr>\n",
       "  </tbody>\n",
       "</table>\n",
       "</div>"
      ],
      "text/plain": [
       "   2019 Milk Cows  2019 Milk Per Cow\n",
       "0        35185000               7877"
      ]
     },
     "execution_count": 36,
     "metadata": {},
     "output_type": "execute_result"
    }
   ],
   "source": [
    "quarterly_long_df[['2019 Milk Cows', '2019 Milk Per Cow']].sum().to_frame().T"
   ]
  },
  {
   "cell_type": "code",
   "execution_count": 50,
   "metadata": {},
   "outputs": [
    {
     "data": {
      "text/html": [
       "<div>\n",
       "<style scoped>\n",
       "    .dataframe tbody tr th:only-of-type {\n",
       "        vertical-align: middle;\n",
       "    }\n",
       "\n",
       "    .dataframe tbody tr th {\n",
       "        vertical-align: top;\n",
       "    }\n",
       "\n",
       "    .dataframe thead th {\n",
       "        text-align: right;\n",
       "    }\n",
       "</style>\n",
       "<table border=\"1\" class=\"dataframe\">\n",
       "  <thead>\n",
       "    <tr style=\"text-align: right;\">\n",
       "      <th></th>\n",
       "      <th>Annual</th>\n",
       "      <th>Sum 2019 Milk Cows</th>\n",
       "      <th>Sum 2020 Milk Cows</th>\n",
       "      <th>Sum 2019 Milk Per Cow</th>\n",
       "      <th>Sum 2020 Milk Per Cow</th>\n",
       "      <th>Sum 2019 Milk Production (lbs)</th>\n",
       "      <th>Sum 2020 Milk Production (lbs)</th>\n",
       "      <th>Avg 2020 Milk Production (lbs) Percent Change from 2019</th>\n",
       "    </tr>\n",
       "  </thead>\n",
       "  <tbody>\n",
       "    <tr>\n",
       "      <th>0</th>\n",
       "      <td>Aggregate</td>\n",
       "      <td>35185000</td>\n",
       "      <td>17682000.0</td>\n",
       "      <td>7877</td>\n",
       "      <td>3958.0</td>\n",
       "      <td>69291000000</td>\n",
       "      <td>71220000000</td>\n",
       "      <td>0.0355</td>\n",
       "    </tr>\n",
       "  </tbody>\n",
       "</table>\n",
       "</div>"
      ],
      "text/plain": [
       "      Annual  Sum 2019 Milk Cows  Sum 2020 Milk Cows  Sum 2019 Milk Per Cow  \\\n",
       "0  Aggregate            35185000          17682000.0                   7877   \n",
       "\n",
       "   Sum 2020 Milk Per Cow  Sum 2019 Milk Production (lbs)  \\\n",
       "0                 3958.0                     69291000000   \n",
       "\n",
       "   Sum 2020 Milk Production (lbs)  \\\n",
       "0                     71220000000   \n",
       "\n",
       "   Avg 2020 Milk Production (lbs) Percent Change from 2019  \n",
       "0                                             0.0355        "
      ]
     },
     "execution_count": 50,
     "metadata": {},
     "output_type": "execute_result"
    }
   ],
   "source": [
    "agg_df = pd.DataFrame()\n",
    "agg_df['Annual'] = ['Aggregate']\n",
    "for col in quarterly_long_df.columns:\n",
    "    if col not in ('Quarter', '2020 Milk Production (lbs) Percent Change from 2019'):\n",
    "        agg_df['Sum ' + col] = [quarterly_long_df[col].sum()]\n",
    "\n",
    "agg_df['Avg 2020 Milk Production (lbs) Percent Change from 2019'] = quarterly_long_df['2020 Milk Production (lbs) Percent Change from 2019'].mean()\n",
    "agg_df"
   ]
  },
  {
   "cell_type": "code",
   "execution_count": null,
   "metadata": {},
   "outputs": [],
   "source": []
  },
  {
   "cell_type": "code",
   "execution_count": null,
   "metadata": {},
   "outputs": [],
   "source": []
  },
  {
   "cell_type": "code",
   "execution_count": 31,
   "metadata": {},
   "outputs": [
    {
     "name": "stdout",
     "output_type": "stream",
     "text": [
      "<class 'pandas.core.frame.DataFrame'>\n",
      "RangeIndex: 935 entries, 0 to 934\n",
      "Data columns (total 6 columns):\n",
      " #   Column               Non-Null Count  Dtype  \n",
      "---  ------               --------------  -----  \n",
      " 0   Year                 935 non-null    object \n",
      " 1   Period               935 non-null    object \n",
      " 2   Milk Cows            931 non-null    float64\n",
      " 3   Milk Production Lbs  935 non-null    int64  \n",
      " 4   Milk Per Cow         931 non-null    float64\n",
      " 5   Month                935 non-null    int64  \n",
      "dtypes: float64(2), int64(2), object(2)\n",
      "memory usage: 44.0+ KB\n"
     ]
    }
   ],
   "source": [
    "\n",
    "\n",
    "# get data\n",
    "tidy_df = pd.read_csv(\"../data-mart-tech-specs/tidy-data.csv\")\n",
    "# cast Year column to string\n",
    "if 'Year' in tidy_df.columns:\n",
    "    tidy_df = tidy_df.astype({'Year': 'str'})\n",
    "    \n",
    "tidy_df.info()"
   ]
  },
  {
   "cell_type": "code",
   "execution_count": 32,
   "metadata": {},
   "outputs": [
    {
     "data": {
      "text/html": [
       "<div>\n",
       "<style scoped>\n",
       "    .dataframe tbody tr th:only-of-type {\n",
       "        vertical-align: middle;\n",
       "    }\n",
       "\n",
       "    .dataframe tbody tr th {\n",
       "        vertical-align: top;\n",
       "    }\n",
       "\n",
       "    .dataframe thead th {\n",
       "        text-align: right;\n",
       "    }\n",
       "</style>\n",
       "<table border=\"1\" class=\"dataframe\">\n",
       "  <thead>\n",
       "    <tr style=\"text-align: right;\">\n",
       "      <th></th>\n",
       "      <th>Year</th>\n",
       "      <th>Period</th>\n",
       "      <th>Milk Cows</th>\n",
       "      <th>Milk Production Lbs</th>\n",
       "      <th>Milk Per Cow</th>\n",
       "      <th>Month</th>\n",
       "    </tr>\n",
       "  </thead>\n",
       "  <tbody>\n",
       "    <tr>\n",
       "      <th>0</th>\n",
       "      <td>2020</td>\n",
       "      <td>JAN</td>\n",
       "      <td>9361000.0</td>\n",
       "      <td>18860000000</td>\n",
       "      <td>2015.0</td>\n",
       "      <td>1</td>\n",
       "    </tr>\n",
       "    <tr>\n",
       "      <th>1</th>\n",
       "      <td>2020</td>\n",
       "      <td>FEB</td>\n",
       "      <td>9375000.0</td>\n",
       "      <td>17890000000</td>\n",
       "      <td>1908.0</td>\n",
       "      <td>2</td>\n",
       "    </tr>\n",
       "    <tr>\n",
       "      <th>2</th>\n",
       "      <td>2020</td>\n",
       "      <td>MAR</td>\n",
       "      <td>9385000.0</td>\n",
       "      <td>19380000000</td>\n",
       "      <td>2065.0</td>\n",
       "      <td>3</td>\n",
       "    </tr>\n",
       "    <tr>\n",
       "      <th>3</th>\n",
       "      <td>2020</td>\n",
       "      <td>APR</td>\n",
       "      <td>9375000.0</td>\n",
       "      <td>18675000000</td>\n",
       "      <td>1992.0</td>\n",
       "      <td>4</td>\n",
       "    </tr>\n",
       "    <tr>\n",
       "      <th>4</th>\n",
       "      <td>2020</td>\n",
       "      <td>MAY</td>\n",
       "      <td>9360000.0</td>\n",
       "      <td>18955000000</td>\n",
       "      <td>2025.0</td>\n",
       "      <td>5</td>\n",
       "    </tr>\n",
       "  </tbody>\n",
       "</table>\n",
       "</div>"
      ],
      "text/plain": [
       "   Year Period  Milk Cows  Milk Production Lbs  Milk Per Cow  Month\n",
       "0  2020    JAN  9361000.0          18860000000        2015.0      1\n",
       "1  2020    FEB  9375000.0          17890000000        1908.0      2\n",
       "2  2020    MAR  9385000.0          19380000000        2065.0      3\n",
       "3  2020    APR  9375000.0          18675000000        1992.0      4\n",
       "4  2020    MAY  9360000.0          18955000000        2025.0      5"
      ]
     },
     "execution_count": 32,
     "metadata": {},
     "output_type": "execute_result"
    }
   ],
   "source": [
    "tidy_df.head()"
   ]
  },
  {
   "cell_type": "code",
   "execution_count": null,
   "metadata": {},
   "outputs": [],
   "source": []
  },
  {
   "cell_type": "code",
   "execution_count": null,
   "metadata": {},
   "outputs": [],
   "source": []
  },
  {
   "cell_type": "code",
   "execution_count": null,
   "metadata": {},
   "outputs": [],
   "source": []
  },
  {
   "cell_type": "code",
   "execution_count": null,
   "metadata": {},
   "outputs": [],
   "source": []
  },
  {
   "cell_type": "code",
   "execution_count": 22,
   "metadata": {},
   "outputs": [
    {
     "data": {
      "text/plain": [
       "True"
      ]
     },
     "execution_count": 22,
     "metadata": {},
     "output_type": "execute_result"
    }
   ],
   "source": [
    "round(3.13) == 3"
   ]
  },
  {
   "cell_type": "code",
   "execution_count": 20,
   "metadata": {},
   "outputs": [
    {
     "data": {
      "text/plain": [
       "False"
      ]
     },
     "execution_count": 20,
     "metadata": {},
     "output_type": "execute_result"
    }
   ],
   "source": [
    "\"3.14\".isnumeric()"
   ]
  },
  {
   "cell_type": "code",
   "execution_count": null,
   "metadata": {},
   "outputs": [],
   "source": []
  },
  {
   "cell_type": "code",
   "execution_count": 4,
   "metadata": {},
   "outputs": [
    {
     "name": "stdout",
     "output_type": "stream",
     "text": [
      "<class 'pandas.core.frame.DataFrame'>\n",
      "RangeIndex: 4 entries, 0 to 3\n",
      "Data columns (total 8 columns):\n",
      " #   Column                                               Non-Null Count  Dtype  \n",
      "---  ------                                               --------------  -----  \n",
      " 0   Quarter                                              4 non-null      int64  \n",
      " 1   2019 Milk Cows                                       4 non-null      int64  \n",
      " 2   2020 Milk Cows                                       2 non-null      float64\n",
      " 3   2019 Milk Per Cow                                    4 non-null      int64  \n",
      " 4   2020 Milk Per Cow                                    2 non-null      float64\n",
      " 5   2019 Milk Production (lbs)                           4 non-null      int64  \n",
      " 6   2020 Milk Production (lbs)                           4 non-null      int64  \n",
      " 7   2020 Milk Production (lbs) Percent Change from 2019  2 non-null      float64\n",
      "dtypes: float64(3), int64(5)\n",
      "memory usage: 384.0 bytes\n"
     ]
    }
   ],
   "source": [
    "quarterly_long_df.info()"
   ]
  },
  {
   "cell_type": "code",
   "execution_count": 6,
   "metadata": {},
   "outputs": [
    {
     "data": {
      "text/html": [
       "<div>\n",
       "<style scoped>\n",
       "    .dataframe tbody tr th:only-of-type {\n",
       "        vertical-align: middle;\n",
       "    }\n",
       "\n",
       "    .dataframe tbody tr th {\n",
       "        vertical-align: top;\n",
       "    }\n",
       "\n",
       "    .dataframe thead th {\n",
       "        text-align: right;\n",
       "    }\n",
       "</style>\n",
       "<table border=\"1\" class=\"dataframe\">\n",
       "  <thead>\n",
       "    <tr style=\"text-align: right;\">\n",
       "      <th></th>\n",
       "      <th>Quarter</th>\n",
       "      <th>2019 Milk Cows</th>\n",
       "      <th>2020 Milk Cows</th>\n",
       "      <th>2019 Milk Per Cow</th>\n",
       "      <th>2020 Milk Per Cow</th>\n",
       "      <th>2019 Milk Production (lbs)</th>\n",
       "      <th>2020 Milk Production (lbs)</th>\n",
       "      <th>2020 Milk Production (lbs) Percent Change from 2019</th>\n",
       "    </tr>\n",
       "  </thead>\n",
       "  <tbody>\n",
       "    <tr>\n",
       "      <th>0</th>\n",
       "      <td>1</td>\n",
       "      <td>8805000</td>\n",
       "      <td>8834000.0</td>\n",
       "      <td>2010</td>\n",
       "      <td>2033.0</td>\n",
       "      <td>17699000000</td>\n",
       "      <td>17956000000</td>\n",
       "      <td>0.015</td>\n",
       "    </tr>\n",
       "    <tr>\n",
       "      <th>1</th>\n",
       "      <td>2</td>\n",
       "      <td>8803000</td>\n",
       "      <td>8848000.0</td>\n",
       "      <td>1833</td>\n",
       "      <td>1925.0</td>\n",
       "      <td>16132000000</td>\n",
       "      <td>17031000000</td>\n",
       "      <td>0.056</td>\n",
       "    </tr>\n",
       "    <tr>\n",
       "      <th>2</th>\n",
       "      <td>3</td>\n",
       "      <td>8789000</td>\n",
       "      <td>NaN</td>\n",
       "      <td>2038</td>\n",
       "      <td>NaN</td>\n",
       "      <td>17916000000</td>\n",
       "      <td>18455000000</td>\n",
       "      <td>NaN</td>\n",
       "    </tr>\n",
       "    <tr>\n",
       "      <th>3</th>\n",
       "      <td>4</td>\n",
       "      <td>8788000</td>\n",
       "      <td>NaN</td>\n",
       "      <td>1996</td>\n",
       "      <td>NaN</td>\n",
       "      <td>17544000000</td>\n",
       "      <td>17778000000</td>\n",
       "      <td>NaN</td>\n",
       "    </tr>\n",
       "  </tbody>\n",
       "</table>\n",
       "</div>"
      ],
      "text/plain": [
       "   Quarter  2019 Milk Cows  2020 Milk Cows  2019 Milk Per Cow  \\\n",
       "0        1         8805000       8834000.0               2010   \n",
       "1        2         8803000       8848000.0               1833   \n",
       "2        3         8789000             NaN               2038   \n",
       "3        4         8788000             NaN               1996   \n",
       "\n",
       "   2020 Milk Per Cow  2019 Milk Production (lbs)  2020 Milk Production (lbs)  \\\n",
       "0             2033.0                 17699000000                 17956000000   \n",
       "1             1925.0                 16132000000                 17031000000   \n",
       "2                NaN                 17916000000                 18455000000   \n",
       "3                NaN                 17544000000                 17778000000   \n",
       "\n",
       "   2020 Milk Production (lbs) Percent Change from 2019  \n",
       "0                                              0.015    \n",
       "1                                              0.056    \n",
       "2                                                NaN    \n",
       "3                                                NaN    "
      ]
     },
     "execution_count": 6,
     "metadata": {},
     "output_type": "execute_result"
    }
   ],
   "source": [
    "quarterly_long_df"
   ]
  },
  {
   "cell_type": "code",
   "execution_count": 8,
   "metadata": {},
   "outputs": [],
   "source": [
    "table = []\n",
    "for index, row in quarterly_long_df.iterrows():\n",
    "        # init an empty html row\n",
    "        html_row = []\n",
    "        for i in range(len(row)):\n",
    "            \n",
    "            # handle non-null numeric values\n",
    "            if type(row[i]) in (float, int):\n",
    "                html_row.append(\n",
    "                    \n",
    "                        # cast numerics to comma separated string expressions for human readability (recall we are casting for HTML copy-pastability into excel which will handle blank strings to null conversion well)\n",
    "                        f'{row[i]:,}'\n",
    "                        \n",
    "                        # decided against the comma business cause it was breaking the copy-past into excel\n",
    "                        #row[i]\n",
    "                    \n",
    "                )\n",
    "            \n",
    "            # handle string values\n",
    "            elif type(row[i]) == str:\n",
    "                html_row.append(row[i])\n",
    "            \n",
    "            # handle nulls (recall we are casting for HTML copy-pastability into excel which will handle blank strings to null conversion well)\n",
    "            elif pd.isna(row[i]):\n",
    "                html_row.append('')\n",
    "            \n",
    "            # else: try appending whatever is in there and let the errors stack-trace where they may\n",
    "            else:\n",
    "                html_row.append(row[i])\n",
    "                \n",
    "        table.append(html_row)"
   ]
  },
  {
   "cell_type": "code",
   "execution_count": 9,
   "metadata": {},
   "outputs": [
    {
     "data": {
      "text/plain": [
       "[[1.0,\n",
       "  8805000.0,\n",
       "  8834000.0,\n",
       "  2010.0,\n",
       "  2033.0,\n",
       "  17699000000.0,\n",
       "  17956000000.0,\n",
       "  0.015],\n",
       " [2.0,\n",
       "  8803000.0,\n",
       "  8848000.0,\n",
       "  1833.0,\n",
       "  1925.0,\n",
       "  16132000000.0,\n",
       "  17031000000.0,\n",
       "  0.056],\n",
       " [3.0, 8789000.0, '', 2038.0, '', 17916000000.0, 18455000000.0, ''],\n",
       " [4.0, 8788000.0, '', 1996.0, '', 17544000000.0, 17778000000.0, '']]"
      ]
     },
     "execution_count": 9,
     "metadata": {},
     "output_type": "execute_result"
    }
   ],
   "source": [
    "table"
   ]
  },
  {
   "cell_type": "code",
   "execution_count": 14,
   "metadata": {},
   "outputs": [
    {
     "ename": "NameError",
     "evalue": "name 'numpy' is not defined",
     "output_type": "error",
     "traceback": [
      "\u001b[0;31m---------------------------------------------------------------------------\u001b[0m",
      "\u001b[0;31mNameError\u001b[0m                                 Traceback (most recent call last)",
      "\u001b[0;32m<ipython-input-14-5af5cc85f727>\u001b[0m in \u001b[0;36m<module>\u001b[0;34m\u001b[0m\n\u001b[0;32m----> 1\u001b[0;31m \u001b[0mnumpy\u001b[0m\u001b[0;34m.\u001b[0m\u001b[0mfloat64\u001b[0m\u001b[0;34m\u001b[0m\u001b[0;34m\u001b[0m\u001b[0m\n\u001b[0m",
      "\u001b[0;31mNameError\u001b[0m: name 'numpy' is not defined"
     ]
    }
   ],
   "source": [
    "numpy.float64"
   ]
  },
  {
   "cell_type": "code",
   "execution_count": 12,
   "metadata": {},
   "outputs": [
    {
     "data": {
      "text/plain": [
       "numpy.float64"
      ]
     },
     "execution_count": 12,
     "metadata": {},
     "output_type": "execute_result"
    }
   ],
   "source": [
    "type(table[0][0])"
   ]
  },
  {
   "cell_type": "code",
   "execution_count": 15,
   "metadata": {},
   "outputs": [
    {
     "data": {
      "text/plain": [
       "\"<class 'numpy.float64'>\""
      ]
     },
     "execution_count": 15,
     "metadata": {},
     "output_type": "execute_result"
    }
   ],
   "source": [
    "str(type(table[0][0]))"
   ]
  },
  {
   "cell_type": "code",
   "execution_count": 17,
   "metadata": {},
   "outputs": [
    {
     "ename": "SyntaxError",
     "evalue": "invalid syntax (<ipython-input-17-65fe5714482e>, line 1)",
     "output_type": "error",
     "traceback": [
      "\u001b[0;36m  File \u001b[0;32m\"<ipython-input-17-65fe5714482e>\"\u001b[0;36m, line \u001b[0;32m1\u001b[0m\n\u001b[0;31m    str(type(1).class)\u001b[0m\n\u001b[0m                ^\u001b[0m\n\u001b[0;31mSyntaxError\u001b[0m\u001b[0;31m:\u001b[0m invalid syntax\n"
     ]
    }
   ],
   "source": [
    "str(type(1).)"
   ]
  },
  {
   "cell_type": "code",
   "execution_count": null,
   "metadata": {},
   "outputs": [],
   "source": []
  },
  {
   "cell_type": "code",
   "execution_count": null,
   "metadata": {},
   "outputs": [],
   "source": [
    "foo_df = pd.DataFrame({'cola':['1', '2', '3'],\n",
    "                      'colb':[2,4,6]})"
   ]
  },
  {
   "cell_type": "code",
   "execution_count": null,
   "metadata": {},
   "outputs": [],
   "source": [
    "foo_df[(foo_df.cola == '1' or foo_df.cola == '2')]"
   ]
  },
  {
   "cell_type": "code",
   "execution_count": null,
   "metadata": {},
   "outputs": [],
   "source": []
  },
  {
   "cell_type": "code",
   "execution_count": null,
   "metadata": {},
   "outputs": [],
   "source": []
  },
  {
   "cell_type": "code",
   "execution_count": null,
   "metadata": {},
   "outputs": [],
   "source": []
  },
  {
   "cell_type": "code",
   "execution_count": null,
   "metadata": {},
   "outputs": [],
   "source": [
    "quarterly_long_df.columns"
   ]
  },
  {
   "cell_type": "code",
   "execution_count": null,
   "metadata": {},
   "outputs": [],
   "source": [
    "for i, row in quarterly_long_df.iterrows():\n",
    "    print(i)\n",
    "    print(row)\n"
   ]
  },
  {
   "cell_type": "code",
   "execution_count": null,
   "metadata": {},
   "outputs": [],
   "source": [
    "row"
   ]
  },
  {
   "cell_type": "code",
   "execution_count": null,
   "metadata": {},
   "outputs": [],
   "source": [
    "f'{1000.0:,}'"
   ]
  },
  {
   "cell_type": "code",
   "execution_count": null,
   "metadata": {},
   "outputs": [],
   "source": [
    "f'{\"foo\":,}'"
   ]
  },
  {
   "cell_type": "code",
   "execution_count": null,
   "metadata": {},
   "outputs": [],
   "source": [
    "pd.DataFrame.apply()"
   ]
  },
  {
   "cell_type": "code",
   "execution_count": null,
   "metadata": {},
   "outputs": [],
   "source": [
    "type(3.14)"
   ]
  },
  {
   "cell_type": "code",
   "execution_count": null,
   "metadata": {},
   "outputs": [],
   "source": [
    "type(2)"
   ]
  },
  {
   "cell_type": "code",
   "execution_count": null,
   "metadata": {},
   "outputs": [],
   "source": [
    "str(\"foo\")"
   ]
  },
  {
   "cell_type": "code",
   "execution_count": null,
   "metadata": {},
   "outputs": [],
   "source": [
    "str(\"3.13\").isnumeric()"
   ]
  },
  {
   "cell_type": "code",
   "execution_count": null,
   "metadata": {},
   "outputs": [],
   "source": [
    "type(3.14) in (float, int)"
   ]
  },
  {
   "cell_type": "code",
   "execution_count": null,
   "metadata": {},
   "outputs": [],
   "source": [
    "type(None)"
   ]
  },
  {
   "cell_type": "code",
   "execution_count": null,
   "metadata": {},
   "outputs": [],
   "source": [
    "type(pd.NaT)"
   ]
  },
  {
   "cell_type": "code",
   "execution_count": null,
   "metadata": {},
   "outputs": [],
   "source": [
    "pd.isna(pd.NaT)"
   ]
  },
  {
   "cell_type": "code",
   "execution_count": null,
   "metadata": {},
   "outputs": [],
   "source": []
  }
 ],
 "metadata": {
  "kernelspec": {
   "display_name": "Python 3",
   "language": "python",
   "name": "python3"
  },
  "language_info": {
   "codemirror_mode": {
    "name": "ipython",
    "version": 3
   },
   "file_extension": ".py",
   "mimetype": "text/x-python",
   "name": "python",
   "nbconvert_exporter": "python",
   "pygments_lexer": "ipython3",
   "version": "3.8.5"
  }
 },
 "nbformat": 4,
 "nbformat_minor": 4
}
