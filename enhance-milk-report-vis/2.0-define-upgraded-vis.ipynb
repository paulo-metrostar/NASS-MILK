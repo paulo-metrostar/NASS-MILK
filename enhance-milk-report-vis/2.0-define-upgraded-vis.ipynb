{
 "cells": [
  {
   "cell_type": "markdown",
   "metadata": {},
   "source": [
    "# 2.0 Define Upgraded Vis\n",
    "Define \n",
    "- data-requirements to reproduce the visualizations\n",
    "- the output formats for the data and the visualization objects\n",
    "\n",
    "_Paulo G. Martinez_ 9/21/2020"
   ]
  },
  {
   "cell_type": "code",
   "execution_count": 1,
   "metadata": {},
   "outputs": [],
   "source": [
    "# import packages\n",
    "# for json loading and dumping\n",
    "import json\n",
    "# for os/platform independent path handling\n",
    "from pathlib import Path\n",
    "# for table manipulations\n",
    "import pandas as pd\n",
    "# for html friendly interactive visualizations\n",
    "import plotly.graph_objects as go\n",
    "# for pretty printing\n",
    "import pprint\n",
    "# for string manipulations\n",
    "import re"
   ]
  },
  {
   "cell_type": "markdown",
   "metadata": {},
   "source": [
    "## Target Visualizations to Enhance:\n",
    "![Monthly Milk Production 24 Selected States](pictures/national-milk-cows-prod-2019-2020.png)"
   ]
  },
  {
   "cell_type": "markdown",
   "metadata": {},
   "source": [
    "## Get data from QS UI like so\n",
    "Commodity: MILK, CATTLE\n",
    "\n",
    "Data Item: \n",
    "- CATTLE, COWS, MILK - INVENTORY, AVG, MEASURED IN HEAD\n",
    "- MILK - PRODUCTION, MEASURED IN LB\n",
    "- MILK - PRODUCTION, MEASURED IN LB / HEAD\n",
    "\n",
    "Geographic Level: National\n",
    "\n",
    "Year: (All)\n",
    "\n",
    "Period Type: MONTHLY\n",
    "\n",
    "Period: JAN, FEB, MAR, APR, MAY, JUN, JUL, AUG, SEP, OCT, NOV, DEC\n",
    "![QS National Monthly Milk Prod in Lbs, Milk Prod in Lbs per Head, Milk Cows](pictures/qs-nat-mo-mlkLbs-mlkLbsPerHead-mlkHead-allYears.png)\n",
    "**QS UI Bug** If you select \"Commodity: CATTLE\" before command+selecting \"Commodity: MILK\" then the \"Data Item:\" Menu seems to \"truncate\" or filter out some of the \"Commodity: MILK\" \"Data Item:\"s. \n",
    "- I was able to \"get around\" this bug by selecting \"Commodity: MILK\" before command+selecting \"Commodity: CATTLE\""
   ]
  },
  {
   "cell_type": "markdown",
   "metadata": {},
   "source": [
    "## Read csv into data frame"
   ]
  },
  {
   "cell_type": "code",
   "execution_count": 2,
   "metadata": {},
   "outputs": [
    {
     "data": {
      "text/html": [
       "<div>\n",
       "<style scoped>\n",
       "    .dataframe tbody tr th:only-of-type {\n",
       "        vertical-align: middle;\n",
       "    }\n",
       "\n",
       "    .dataframe tbody tr th {\n",
       "        vertical-align: top;\n",
       "    }\n",
       "\n",
       "    .dataframe thead th {\n",
       "        text-align: right;\n",
       "    }\n",
       "</style>\n",
       "<table border=\"1\" class=\"dataframe\">\n",
       "  <thead>\n",
       "    <tr style=\"text-align: right;\">\n",
       "      <th></th>\n",
       "      <th>Program</th>\n",
       "      <th>Year</th>\n",
       "      <th>Period</th>\n",
       "      <th>Week Ending</th>\n",
       "      <th>Geo Level</th>\n",
       "      <th>State</th>\n",
       "      <th>State ANSI</th>\n",
       "      <th>Ag District</th>\n",
       "      <th>Ag District Code</th>\n",
       "      <th>County</th>\n",
       "      <th>...</th>\n",
       "      <th>Zip Code</th>\n",
       "      <th>Region</th>\n",
       "      <th>watershed_code</th>\n",
       "      <th>Watershed</th>\n",
       "      <th>Commodity</th>\n",
       "      <th>Data Item</th>\n",
       "      <th>Domain</th>\n",
       "      <th>Domain Category</th>\n",
       "      <th>Value</th>\n",
       "      <th>CV (%)</th>\n",
       "    </tr>\n",
       "  </thead>\n",
       "  <tbody>\n",
       "    <tr>\n",
       "      <th>0</th>\n",
       "      <td>SURVEY</td>\n",
       "      <td>2020</td>\n",
       "      <td>JAN</td>\n",
       "      <td>NaN</td>\n",
       "      <td>NATIONAL</td>\n",
       "      <td>US TOTAL</td>\n",
       "      <td>NaN</td>\n",
       "      <td>NaN</td>\n",
       "      <td>NaN</td>\n",
       "      <td>NaN</td>\n",
       "      <td>...</td>\n",
       "      <td>NaN</td>\n",
       "      <td>NaN</td>\n",
       "      <td>0</td>\n",
       "      <td>NaN</td>\n",
       "      <td>CATTLE</td>\n",
       "      <td>CATTLE, COWS, MILK - INVENTORY, AVG, MEASURED ...</td>\n",
       "      <td>TOTAL</td>\n",
       "      <td>NOT SPECIFIED</td>\n",
       "      <td>9,361,000</td>\n",
       "      <td>NaN</td>\n",
       "    </tr>\n",
       "    <tr>\n",
       "      <th>1</th>\n",
       "      <td>SURVEY</td>\n",
       "      <td>2020</td>\n",
       "      <td>JAN</td>\n",
       "      <td>NaN</td>\n",
       "      <td>NATIONAL</td>\n",
       "      <td>US TOTAL</td>\n",
       "      <td>NaN</td>\n",
       "      <td>NaN</td>\n",
       "      <td>NaN</td>\n",
       "      <td>NaN</td>\n",
       "      <td>...</td>\n",
       "      <td>NaN</td>\n",
       "      <td>NaN</td>\n",
       "      <td>0</td>\n",
       "      <td>NaN</td>\n",
       "      <td>MILK</td>\n",
       "      <td>MILK - PRODUCTION, MEASURED IN LB</td>\n",
       "      <td>TOTAL</td>\n",
       "      <td>NOT SPECIFIED</td>\n",
       "      <td>18,860,000,000</td>\n",
       "      <td>NaN</td>\n",
       "    </tr>\n",
       "    <tr>\n",
       "      <th>2</th>\n",
       "      <td>SURVEY</td>\n",
       "      <td>2020</td>\n",
       "      <td>JAN</td>\n",
       "      <td>NaN</td>\n",
       "      <td>NATIONAL</td>\n",
       "      <td>US TOTAL</td>\n",
       "      <td>NaN</td>\n",
       "      <td>NaN</td>\n",
       "      <td>NaN</td>\n",
       "      <td>NaN</td>\n",
       "      <td>...</td>\n",
       "      <td>NaN</td>\n",
       "      <td>NaN</td>\n",
       "      <td>0</td>\n",
       "      <td>NaN</td>\n",
       "      <td>MILK</td>\n",
       "      <td>MILK - PRODUCTION, MEASURED IN LB / HEAD</td>\n",
       "      <td>TOTAL</td>\n",
       "      <td>NOT SPECIFIED</td>\n",
       "      <td>2,015</td>\n",
       "      <td>NaN</td>\n",
       "    </tr>\n",
       "  </tbody>\n",
       "</table>\n",
       "<p>3 rows × 21 columns</p>\n",
       "</div>"
      ],
      "text/plain": [
       "  Program  Year Period  Week Ending Geo Level     State  State ANSI  \\\n",
       "0  SURVEY  2020    JAN          NaN  NATIONAL  US TOTAL         NaN   \n",
       "1  SURVEY  2020    JAN          NaN  NATIONAL  US TOTAL         NaN   \n",
       "2  SURVEY  2020    JAN          NaN  NATIONAL  US TOTAL         NaN   \n",
       "\n",
       "   Ag District  Ag District Code  County  ...  Zip Code  Region  \\\n",
       "0          NaN               NaN     NaN  ...       NaN     NaN   \n",
       "1          NaN               NaN     NaN  ...       NaN     NaN   \n",
       "2          NaN               NaN     NaN  ...       NaN     NaN   \n",
       "\n",
       "   watershed_code  Watershed  Commodity  \\\n",
       "0               0        NaN     CATTLE   \n",
       "1               0        NaN       MILK   \n",
       "2               0        NaN       MILK   \n",
       "\n",
       "                                           Data Item Domain Domain Category  \\\n",
       "0  CATTLE, COWS, MILK - INVENTORY, AVG, MEASURED ...  TOTAL   NOT SPECIFIED   \n",
       "1                  MILK - PRODUCTION, MEASURED IN LB  TOTAL   NOT SPECIFIED   \n",
       "2           MILK - PRODUCTION, MEASURED IN LB / HEAD  TOTAL   NOT SPECIFIED   \n",
       "\n",
       "            Value CV (%)  \n",
       "0       9,361,000    NaN  \n",
       "1  18,860,000,000    NaN  \n",
       "2           2,015    NaN  \n",
       "\n",
       "[3 rows x 21 columns]"
      ]
     },
     "execution_count": 2,
     "metadata": {},
     "output_type": "execute_result"
    }
   ],
   "source": [
    "# declare and handle path to data for local os\n",
    "path_to_data = Path('data/nat-mo-mlkLbs-mlkLbsPerHead-mlkHead-allYears-F0ACA575-6D37-3687-AD58-E3B7F165E3A3.csv')\n",
    "# read raw QS table into pandas\n",
    "qs_df = pd.read_csv(path_to_data)\n",
    "# show first rows\n",
    "qs_df.head(3)"
   ]
  },
  {
   "cell_type": "markdown",
   "metadata": {},
   "source": [
    "# NOTE: _TECHNICALLY_ THIS IS THE MINIMUM AMMOUNT OF \"PREPROCESSING\" THAT DATA-MART REQUIRES DATA-BASE TO SERVE\n",
    "# ----------------------------------------------\n",
    "## PROVIDED THAT DATA-MART HAS ITS OWN COMPUTE RESOURCES FOR THE REMAINING ETL"
   ]
  },
  {
   "cell_type": "code",
   "execution_count": 3,
   "metadata": {},
   "outputs": [
    {
     "name": "stdout",
     "output_type": "stream",
     "text": [
      "<class 'pandas.core.frame.DataFrame'>\n",
      "RangeIndex: 2797 entries, 0 to 2796\n",
      "Data columns (total 21 columns):\n",
      " #   Column            Non-Null Count  Dtype  \n",
      "---  ------            --------------  -----  \n",
      " 0   Program           2797 non-null   object \n",
      " 1   Year              2797 non-null   int64  \n",
      " 2   Period            2797 non-null   object \n",
      " 3   Week Ending       0 non-null      float64\n",
      " 4   Geo Level         2797 non-null   object \n",
      " 5   State             2797 non-null   object \n",
      " 6   State ANSI        0 non-null      float64\n",
      " 7   Ag District       0 non-null      float64\n",
      " 8   Ag District Code  0 non-null      float64\n",
      " 9   County            0 non-null      float64\n",
      " 10  County ANSI       0 non-null      float64\n",
      " 11  Zip Code          0 non-null      float64\n",
      " 12  Region            0 non-null      float64\n",
      " 13  watershed_code    2797 non-null   int64  \n",
      " 14  Watershed         0 non-null      float64\n",
      " 15  Commodity         2797 non-null   object \n",
      " 16  Data Item         2797 non-null   object \n",
      " 17  Domain            2797 non-null   object \n",
      " 18  Domain Category   2797 non-null   object \n",
      " 19  Value             2797 non-null   object \n",
      " 20  CV (%)            0 non-null      float64\n",
      "dtypes: float64(10), int64(2), object(9)\n",
      "memory usage: 459.0+ KB\n"
     ]
    }
   ],
   "source": [
    "# show basic info\n",
    "qs_df.info()"
   ]
  },
  {
   "cell_type": "markdown",
   "metadata": {},
   "source": [
    "### correct the datatype for the 'Value' column from strings to numeric"
   ]
  },
  {
   "cell_type": "code",
   "execution_count": 4,
   "metadata": {},
   "outputs": [
    {
     "data": {
      "text/plain": [
       "array(['9,361,000', '18,860,000,000', '2,015', '9,375,000',\n",
       "       '17,890,000,000'], dtype=object)"
      ]
     },
     "execution_count": 4,
     "metadata": {},
     "output_type": "execute_result"
    }
   ],
   "source": [
    "# see what the values look like\n",
    "qs_df.Value.head().values"
   ]
  },
  {
   "cell_type": "code",
   "execution_count": 5,
   "metadata": {},
   "outputs": [
    {
     "data": {
      "text/plain": [
       "'9361000'"
      ]
     },
     "execution_count": 5,
     "metadata": {},
     "output_type": "execute_result"
    }
   ],
   "source": [
    "# test out comma substitution\n",
    "re.sub(',', '', qs_df.Value[0])"
   ]
  },
  {
   "cell_type": "code",
   "execution_count": 6,
   "metadata": {},
   "outputs": [
    {
     "data": {
      "text/plain": [
       "0           9361000\n",
       "1       18860000000\n",
       "2              2015\n",
       "3           9375000\n",
       "4       17890000000\n",
       "           ...     \n",
       "2792     7091000000\n",
       "2793            315\n",
       "2794       22562000\n",
       "2795     7391000000\n",
       "2796            328\n",
       "Name: Value, Length: 2797, dtype: object"
      ]
     },
     "execution_count": 6,
     "metadata": {},
     "output_type": "execute_result"
    }
   ],
   "source": [
    "# apply the comma stripping to the whole column\n",
    "qs_df.Value.apply(\n",
    "    lambda s: re.sub(',', '', s)\n",
    ")"
   ]
  },
  {
   "cell_type": "markdown",
   "metadata": {},
   "source": [
    "**Check if there are any non-numeric values that need to be handled**"
   ]
  },
  {
   "cell_type": "code",
   "execution_count": 7,
   "metadata": {},
   "outputs": [
    {
     "name": "stdout",
     "output_type": "stream",
     "text": [
      "Checking for non-numeric values in \"Value\" column...\n",
      "Good to go! Casting \"Value\" column to int64\n"
     ]
    }
   ],
   "source": [
    "# set comprehension to collect all the strings that aren't numeric\n",
    "print('Checking for non-numeric values in \"Value\" column...')\n",
    "non_numerics = {s for s in qs_df.Value if not re.sub(',', '', s).isnumeric()}\n",
    "if len(non_numerics) == 0:\n",
    "    print('Good to go! Casting \"Value\" column to int64')\n",
    "    qs_df['Value'] = pd.to_numeric(\n",
    "        qs_df.Value.apply(\n",
    "            lambda s: re.sub(',', '', s)\n",
    "        ))\n",
    "else:\n",
    "    print('Need to handle:')\n",
    "    print(non_numerics)"
   ]
  },
  {
   "cell_type": "markdown",
   "metadata": {},
   "source": [
    "# Declutter the Pivotted Data\n",
    "### Drop empty columns"
   ]
  },
  {
   "cell_type": "code",
   "execution_count": 8,
   "metadata": {},
   "outputs": [],
   "source": [
    "# drop columns where all cells are empty (not a number, nan)\n",
    "qs_df = qs_df.dropna(\n",
    "    axis = 'columns', \n",
    "    how = 'all',\n",
    ")"
   ]
  },
  {
   "cell_type": "markdown",
   "metadata": {},
   "source": [
    "### Split non-varying columns into a metadata object"
   ]
  },
  {
   "cell_type": "code",
   "execution_count": 9,
   "metadata": {},
   "outputs": [
    {
     "name": "stdout",
     "output_type": "stream",
     "text": [
      "Program : SURVEY\n",
      "Geo Level : NATIONAL\n",
      "State : US TOTAL\n",
      "watershed_code : 0\n",
      "Domain : TOTAL\n",
      "Domain Category : NOT SPECIFIED\n"
     ]
    }
   ],
   "source": [
    "# init a metadata object\n",
    "metadata_dct = {}\n",
    "\n",
    "# find columns where there is only one unique value\n",
    "for col in qs_df:\n",
    "    if len(qs_df[col].unique()) == 1:\n",
    "        # print column header and unique value counts\n",
    "        print(col, \":\", qs_df[col].unique()[0])\n",
    "        # add the column header and its unique value to the metadata\n",
    "        metadata_dct[col] = qs_df[col].unique()[0]\n",
    "        \n",
    "        # drop it from the data frame\n",
    "        qs_df = qs_df.drop(columns = [col])"
   ]
  },
  {
   "cell_type": "markdown",
   "metadata": {},
   "source": [
    "#### drop null-metadata\n",
    "\n",
    "**get dictionary of known null-sentinel-values**"
   ]
  },
  {
   "cell_type": "code",
   "execution_count": 10,
   "metadata": {},
   "outputs": [
    {
     "name": "stdout",
     "output_type": "stream",
     "text": [
      "Found sentinel-nulls.json in active directory. Reading file...\n",
      "Adding undocumented sentinel-null value entries, if any...\n",
      "Writing sentinel-nulls.json to active directory...\n",
      "Done.\n"
     ]
    }
   ],
   "source": [
    "# check for the existence of null-sentinel-dictionary\n",
    "path_to_sentinel_nulls_dct = Path('sentinel-nulls.json')\n",
    "# if the file is in existence\n",
    "if path_to_sentinel_nulls_dct.is_file():\n",
    "    print('Found', path_to_sentinel_nulls_dct, 'in active directory. Reading file...')\n",
    "    # read it into a dict\n",
    "    with open(path_to_sentinel_nulls_dct, 'r') as file_path:\n",
    "        sentinel_nulls_dct = json.load(file_path)\n",
    "    assert type(sentinel_nulls_dct) == dict\n",
    "# else, initialize the dict\n",
    "else:\n",
    "    print('Did not find', path_to_sentinel_nulls_dct, 'in active directory. Initializing file...')\n",
    "    sentinel_nulls_dct = {}\n",
    "\n",
    "# document the known sentinel values\n",
    "print('Adding undocumented sentinel-null value entries, if any...')\n",
    "if 'watershed_code' not in sentinel_nulls_dct:\n",
    "    sentinel_nulls_dct['watershed_code'] = 0\n",
    "if 'Domain Category' not in sentinel_nulls_dct:\n",
    "    sentinel_nulls_dct['Domain Category'] = 'NOT SPECIFIED'\n",
    "if 'State' not in sentinel_nulls_dct:\n",
    "    sentinel_nulls_dct['State'] = 'US TOTAL'\n",
    "\n",
    "# save the additions to the null-sentinel-dictionary\n",
    "print('Writing', path_to_sentinel_nulls_dct, 'to active directory...')\n",
    "with open(path_to_sentinel_nulls_dct, 'w') as file_path:\n",
    "    json.dump(sentinel_nulls_dct, file_path)\n",
    "print('Done.')"
   ]
  },
  {
   "cell_type": "markdown",
   "metadata": {},
   "source": [
    "**drop values known to be sentinels for NULL from the metadata**"
   ]
  },
  {
   "cell_type": "code",
   "execution_count": 11,
   "metadata": {},
   "outputs": [],
   "source": [
    "for attribute in sentinel_nulls_dct:\n",
    "    if attribute in metadata_dct:\n",
    "        if sentinel_nulls_dct[attribute] == metadata_dct[attribute]:\n",
    "            del metadata_dct[attribute]"
   ]
  },
  {
   "cell_type": "markdown",
   "metadata": {},
   "source": [
    "**display the metadata as dictionary (json)**"
   ]
  },
  {
   "cell_type": "code",
   "execution_count": 12,
   "metadata": {},
   "outputs": [
    {
     "name": "stdout",
     "output_type": "stream",
     "text": [
      "Auto-detected Meta-Data: (formatted as JSON)\n",
      "---------------------------------------------\n",
      "\n",
      "{'Domain': 'TOTAL', 'Geo Level': 'NATIONAL', 'Program': 'SURVEY'}\n"
     ]
    }
   ],
   "source": [
    "# display the metadata\n",
    "feedback = 'Auto-detected Meta-Data: (formatted as JSON)\\n'\n",
    "feedback = feedback + '-'*len(feedback) + '\\n'\n",
    "print(feedback)\n",
    "pp = pprint.PrettyPrinter()\n",
    "pp.pprint(metadata_dct)"
   ]
  },
  {
   "cell_type": "markdown",
   "metadata": {},
   "source": [
    "**Display the metadata as a table**"
   ]
  },
  {
   "cell_type": "code",
   "execution_count": 13,
   "metadata": {},
   "outputs": [
    {
     "name": "stdout",
     "output_type": "stream",
     "text": [
      "Auto-detected Meta-Data: (formatted as table)\n",
      "----------------------------------------------\n",
      "\n"
     ]
    },
    {
     "data": {
      "text/html": [
       "<div>\n",
       "<style scoped>\n",
       "    .dataframe tbody tr th:only-of-type {\n",
       "        vertical-align: middle;\n",
       "    }\n",
       "\n",
       "    .dataframe tbody tr th {\n",
       "        vertical-align: top;\n",
       "    }\n",
       "\n",
       "    .dataframe thead th {\n",
       "        text-align: right;\n",
       "    }\n",
       "</style>\n",
       "<table border=\"1\" class=\"dataframe\">\n",
       "  <thead>\n",
       "    <tr style=\"text-align: right;\">\n",
       "      <th></th>\n",
       "      <th>Program</th>\n",
       "      <th>Geo Level</th>\n",
       "      <th>Domain</th>\n",
       "    </tr>\n",
       "  </thead>\n",
       "  <tbody>\n",
       "    <tr>\n",
       "      <th>0</th>\n",
       "      <td>SURVEY</td>\n",
       "      <td>NATIONAL</td>\n",
       "      <td>TOTAL</td>\n",
       "    </tr>\n",
       "  </tbody>\n",
       "</table>\n",
       "</div>"
      ],
      "text/plain": [
       "  Program Geo Level Domain\n",
       "0  SURVEY  NATIONAL  TOTAL"
      ]
     },
     "execution_count": 13,
     "metadata": {},
     "output_type": "execute_result"
    }
   ],
   "source": [
    "feedback = 'Auto-detected Meta-Data: (formatted as table)\\n'\n",
    "feedback = feedback + '-'*len(feedback) + '\\n'\n",
    "print(feedback)\n",
    "metadata_df = pd.DataFrame({k: [metadata_dct[k]] for k in metadata_dct})\n",
    "metadata_df"
   ]
  },
  {
   "cell_type": "markdown",
   "metadata": {},
   "source": [
    "**Display the first few rows of the pivotted data**"
   ]
  },
  {
   "cell_type": "code",
   "execution_count": 14,
   "metadata": {},
   "outputs": [
    {
     "data": {
      "text/html": [
       "<div>\n",
       "<style scoped>\n",
       "    .dataframe tbody tr th:only-of-type {\n",
       "        vertical-align: middle;\n",
       "    }\n",
       "\n",
       "    .dataframe tbody tr th {\n",
       "        vertical-align: top;\n",
       "    }\n",
       "\n",
       "    .dataframe thead th {\n",
       "        text-align: right;\n",
       "    }\n",
       "</style>\n",
       "<table border=\"1\" class=\"dataframe\">\n",
       "  <thead>\n",
       "    <tr style=\"text-align: right;\">\n",
       "      <th></th>\n",
       "      <th>Year</th>\n",
       "      <th>Period</th>\n",
       "      <th>Commodity</th>\n",
       "      <th>Data Item</th>\n",
       "      <th>Value</th>\n",
       "    </tr>\n",
       "  </thead>\n",
       "  <tbody>\n",
       "    <tr>\n",
       "      <th>0</th>\n",
       "      <td>2020</td>\n",
       "      <td>JAN</td>\n",
       "      <td>CATTLE</td>\n",
       "      <td>CATTLE, COWS, MILK - INVENTORY, AVG, MEASURED ...</td>\n",
       "      <td>9361000</td>\n",
       "    </tr>\n",
       "    <tr>\n",
       "      <th>1</th>\n",
       "      <td>2020</td>\n",
       "      <td>JAN</td>\n",
       "      <td>MILK</td>\n",
       "      <td>MILK - PRODUCTION, MEASURED IN LB</td>\n",
       "      <td>18860000000</td>\n",
       "    </tr>\n",
       "    <tr>\n",
       "      <th>2</th>\n",
       "      <td>2020</td>\n",
       "      <td>JAN</td>\n",
       "      <td>MILK</td>\n",
       "      <td>MILK - PRODUCTION, MEASURED IN LB / HEAD</td>\n",
       "      <td>2015</td>\n",
       "    </tr>\n",
       "    <tr>\n",
       "      <th>3</th>\n",
       "      <td>2020</td>\n",
       "      <td>FEB</td>\n",
       "      <td>CATTLE</td>\n",
       "      <td>CATTLE, COWS, MILK - INVENTORY, AVG, MEASURED ...</td>\n",
       "      <td>9375000</td>\n",
       "    </tr>\n",
       "    <tr>\n",
       "      <th>4</th>\n",
       "      <td>2020</td>\n",
       "      <td>FEB</td>\n",
       "      <td>MILK</td>\n",
       "      <td>MILK - PRODUCTION, MEASURED IN LB</td>\n",
       "      <td>17890000000</td>\n",
       "    </tr>\n",
       "  </tbody>\n",
       "</table>\n",
       "</div>"
      ],
      "text/plain": [
       "   Year Period Commodity                                          Data Item  \\\n",
       "0  2020    JAN    CATTLE  CATTLE, COWS, MILK - INVENTORY, AVG, MEASURED ...   \n",
       "1  2020    JAN      MILK                  MILK - PRODUCTION, MEASURED IN LB   \n",
       "2  2020    JAN      MILK           MILK - PRODUCTION, MEASURED IN LB / HEAD   \n",
       "3  2020    FEB    CATTLE  CATTLE, COWS, MILK - INVENTORY, AVG, MEASURED ...   \n",
       "4  2020    FEB      MILK                  MILK - PRODUCTION, MEASURED IN LB   \n",
       "\n",
       "         Value  \n",
       "0      9361000  \n",
       "1  18860000000  \n",
       "2         2015  \n",
       "3      9375000  \n",
       "4  17890000000  "
      ]
     },
     "execution_count": 14,
     "metadata": {},
     "output_type": "execute_result"
    }
   ],
   "source": [
    "qs_df.head()"
   ]
  },
  {
   "cell_type": "markdown",
   "metadata": {},
   "source": [
    "**Drop \"Commodity\" column, if redundant**\n",
    "- notice it's value is the first component of 'Data Item'\n",
    "- notice it is not an attribute of an observation, but rather an attribute of the 'Data Item' (i.e. of the variable), thus it belongs in a data dictionary (which appropriately describes the variables and not the observations.)"
   ]
  },
  {
   "cell_type": "code",
   "execution_count": 15,
   "metadata": {},
   "outputs": [
    {
     "name": "stdout",
     "output_type": "stream",
     "text": [
      "Checking \"Commodity\" column for redundancy and droppability...\n",
      "column is redundant, dropped from data\n"
     ]
    }
   ],
   "source": [
    "print('Checking \"Commodity\" column for redundancy and droppability...')\n",
    "# check if any value in the 'Commodity' column is not redundant by generating a boolean index of rows to check\n",
    "non_rendundants = [\n",
    "    commodity != data_item[:len(commodity)] for commodity, data_item in qs_df[['Commodity', 'Data Item']].values\n",
    "]\n",
    "if sum(non_rendundants):\n",
    "    print('Found', sum(non_rendundants), 'non-redundant rows that need to be handled.')\n",
    "else:\n",
    "    print('column is redundant, dropped from data')\n",
    "    qs_df = qs_df.drop(columns = ['Commodity'])"
   ]
  },
  {
   "cell_type": "markdown",
   "metadata": {},
   "source": [
    "**Display Declutterd Data**"
   ]
  },
  {
   "cell_type": "code",
   "execution_count": 16,
   "metadata": {},
   "outputs": [
    {
     "data": {
      "text/html": [
       "<div>\n",
       "<style scoped>\n",
       "    .dataframe tbody tr th:only-of-type {\n",
       "        vertical-align: middle;\n",
       "    }\n",
       "\n",
       "    .dataframe tbody tr th {\n",
       "        vertical-align: top;\n",
       "    }\n",
       "\n",
       "    .dataframe thead th {\n",
       "        text-align: right;\n",
       "    }\n",
       "</style>\n",
       "<table border=\"1\" class=\"dataframe\">\n",
       "  <thead>\n",
       "    <tr style=\"text-align: right;\">\n",
       "      <th></th>\n",
       "      <th>Year</th>\n",
       "      <th>Period</th>\n",
       "      <th>Data Item</th>\n",
       "      <th>Value</th>\n",
       "    </tr>\n",
       "  </thead>\n",
       "  <tbody>\n",
       "    <tr>\n",
       "      <th>0</th>\n",
       "      <td>2020</td>\n",
       "      <td>JAN</td>\n",
       "      <td>CATTLE, COWS, MILK - INVENTORY, AVG, MEASURED ...</td>\n",
       "      <td>9361000</td>\n",
       "    </tr>\n",
       "    <tr>\n",
       "      <th>1</th>\n",
       "      <td>2020</td>\n",
       "      <td>JAN</td>\n",
       "      <td>MILK - PRODUCTION, MEASURED IN LB</td>\n",
       "      <td>18860000000</td>\n",
       "    </tr>\n",
       "    <tr>\n",
       "      <th>2</th>\n",
       "      <td>2020</td>\n",
       "      <td>JAN</td>\n",
       "      <td>MILK - PRODUCTION, MEASURED IN LB / HEAD</td>\n",
       "      <td>2015</td>\n",
       "    </tr>\n",
       "    <tr>\n",
       "      <th>3</th>\n",
       "      <td>2020</td>\n",
       "      <td>FEB</td>\n",
       "      <td>CATTLE, COWS, MILK - INVENTORY, AVG, MEASURED ...</td>\n",
       "      <td>9375000</td>\n",
       "    </tr>\n",
       "    <tr>\n",
       "      <th>4</th>\n",
       "      <td>2020</td>\n",
       "      <td>FEB</td>\n",
       "      <td>MILK - PRODUCTION, MEASURED IN LB</td>\n",
       "      <td>17890000000</td>\n",
       "    </tr>\n",
       "  </tbody>\n",
       "</table>\n",
       "</div>"
      ],
      "text/plain": [
       "   Year Period                                          Data Item        Value\n",
       "0  2020    JAN  CATTLE, COWS, MILK - INVENTORY, AVG, MEASURED ...      9361000\n",
       "1  2020    JAN                  MILK - PRODUCTION, MEASURED IN LB  18860000000\n",
       "2  2020    JAN           MILK - PRODUCTION, MEASURED IN LB / HEAD         2015\n",
       "3  2020    FEB  CATTLE, COWS, MILK - INVENTORY, AVG, MEASURED ...      9375000\n",
       "4  2020    FEB                  MILK - PRODUCTION, MEASURED IN LB  17890000000"
      ]
     },
     "execution_count": 16,
     "metadata": {},
     "output_type": "execute_result"
    }
   ],
   "source": [
    "qs_df.head()"
   ]
  },
  {
   "cell_type": "markdown",
   "metadata": {},
   "source": [
    "## \"Practice example\" of how I'll reshape the data into \"tidy data format.\""
   ]
  },
  {
   "cell_type": "code",
   "execution_count": 17,
   "metadata": {},
   "outputs": [
    {
     "data": {
      "text/html": [
       "<div>\n",
       "<style scoped>\n",
       "    .dataframe tbody tr th:only-of-type {\n",
       "        vertical-align: middle;\n",
       "    }\n",
       "\n",
       "    .dataframe tbody tr th {\n",
       "        vertical-align: top;\n",
       "    }\n",
       "\n",
       "    .dataframe thead th {\n",
       "        text-align: right;\n",
       "    }\n",
       "</style>\n",
       "<table border=\"1\" class=\"dataframe\">\n",
       "  <thead>\n",
       "    <tr style=\"text-align: right;\">\n",
       "      <th></th>\n",
       "      <th>yr</th>\n",
       "      <th>mo</th>\n",
       "      <th>var</th>\n",
       "      <th>val</th>\n",
       "    </tr>\n",
       "  </thead>\n",
       "  <tbody>\n",
       "    <tr>\n",
       "      <th>0</th>\n",
       "      <td>2019</td>\n",
       "      <td>J</td>\n",
       "      <td>twos</td>\n",
       "      <td>2</td>\n",
       "    </tr>\n",
       "    <tr>\n",
       "      <th>1</th>\n",
       "      <td>2020</td>\n",
       "      <td>J</td>\n",
       "      <td>twos</td>\n",
       "      <td>4</td>\n",
       "    </tr>\n",
       "    <tr>\n",
       "      <th>2</th>\n",
       "      <td>2019</td>\n",
       "      <td>J</td>\n",
       "      <td>threes</td>\n",
       "      <td>3</td>\n",
       "    </tr>\n",
       "    <tr>\n",
       "      <th>3</th>\n",
       "      <td>2020</td>\n",
       "      <td>J</td>\n",
       "      <td>threes</td>\n",
       "      <td>6</td>\n",
       "    </tr>\n",
       "    <tr>\n",
       "      <th>4</th>\n",
       "      <td>2019</td>\n",
       "      <td>J</td>\n",
       "      <td>fives</td>\n",
       "      <td>5</td>\n",
       "    </tr>\n",
       "    <tr>\n",
       "      <th>5</th>\n",
       "      <td>2020</td>\n",
       "      <td>J</td>\n",
       "      <td>fives</td>\n",
       "      <td>10</td>\n",
       "    </tr>\n",
       "  </tbody>\n",
       "</table>\n",
       "</div>"
      ],
      "text/plain": [
       "     yr mo     var  val\n",
       "0  2019  J    twos    2\n",
       "1  2020  J    twos    4\n",
       "2  2019  J  threes    3\n",
       "3  2020  J  threes    6\n",
       "4  2019  J   fives    5\n",
       "5  2020  J   fives   10"
      ]
     },
     "execution_count": 17,
     "metadata": {},
     "output_type": "execute_result"
    }
   ],
   "source": [
    "# define and display a df\n",
    "foo_df = pd.DataFrame(\n",
    "    {'yr':['2019', '2020', '2019', '2020', '2019', '2020'],\n",
    "     'mo': ['J', 'J', 'J', 'J', 'J', 'J'],\n",
    "     'var': ['twos', 'twos', 'threes', 'threes', 'fives', 'fives'],\n",
    "     'val':[2,4,3,6,5,10]}\n",
    ")\n",
    "foo_df"
   ]
  },
  {
   "cell_type": "markdown",
   "metadata": {},
   "source": [
    "**practice splitting the df by variable and joining them back into tidy data format**"
   ]
  },
  {
   "cell_type": "code",
   "execution_count": 18,
   "metadata": {},
   "outputs": [
    {
     "data": {
      "text/html": [
       "<div>\n",
       "<style scoped>\n",
       "    .dataframe tbody tr th:only-of-type {\n",
       "        vertical-align: middle;\n",
       "    }\n",
       "\n",
       "    .dataframe tbody tr th {\n",
       "        vertical-align: top;\n",
       "    }\n",
       "\n",
       "    .dataframe thead th {\n",
       "        text-align: right;\n",
       "    }\n",
       "</style>\n",
       "<table border=\"1\" class=\"dataframe\">\n",
       "  <thead>\n",
       "    <tr style=\"text-align: right;\">\n",
       "      <th></th>\n",
       "      <th>yr</th>\n",
       "      <th>mo</th>\n",
       "      <th>twos</th>\n",
       "      <th>threes</th>\n",
       "      <th>fives</th>\n",
       "    </tr>\n",
       "  </thead>\n",
       "  <tbody>\n",
       "    <tr>\n",
       "      <th>0</th>\n",
       "      <td>2019</td>\n",
       "      <td>J</td>\n",
       "      <td>2</td>\n",
       "      <td>3</td>\n",
       "      <td>5</td>\n",
       "    </tr>\n",
       "    <tr>\n",
       "      <th>1</th>\n",
       "      <td>2020</td>\n",
       "      <td>J</td>\n",
       "      <td>4</td>\n",
       "      <td>6</td>\n",
       "      <td>10</td>\n",
       "    </tr>\n",
       "  </tbody>\n",
       "</table>\n",
       "</div>"
      ],
      "text/plain": [
       "     yr mo  twos  threes  fives\n",
       "0  2019  J     2       3      5\n",
       "1  2020  J     4       6     10"
      ]
     },
     "execution_count": 18,
     "metadata": {},
     "output_type": "execute_result"
    }
   ],
   "source": [
    "# set a flag\n",
    "first = True\n",
    "# for each unique variable in the variable column\n",
    "for v in foo_df['var'].unique():\n",
    "    if first:\n",
    "        # filter down to rows corresponding to each unique variable\n",
    "        buzz_df = foo_df[foo_df['var'] == v].rename(\n",
    "            # rename the column holding the values with the variable they describe\n",
    "            columns = {'val': v}\n",
    "        ).drop(\n",
    "            # drop the now redundant column describing the variable name\n",
    "            columns = ['var']\n",
    "        )\n",
    "        \n",
    "        # mark the flag\n",
    "        first = False\n",
    "        \n",
    "    if not first:\n",
    "        # do a full outer join\n",
    "        buzz_df = pd.merge(\n",
    "            # of the accumulated tidy data so far\n",
    "            left = buzz_df, \n",
    "            # and of the tidied up data rows for the variable we're working on \n",
    "            right = foo_df[foo_df['var'] == v].rename(columns = {'val': v}).drop(columns = ['var']),\n",
    "            how = 'outer'\n",
    "        )\n",
    "buzz_df"
   ]
  },
  {
   "cell_type": "markdown",
   "metadata": {},
   "source": [
    "**alternative way to tidy the data**"
   ]
  },
  {
   "cell_type": "code",
   "execution_count": 19,
   "metadata": {},
   "outputs": [
    {
     "data": {
      "text/html": [
       "<div>\n",
       "<style scoped>\n",
       "    .dataframe tbody tr th:only-of-type {\n",
       "        vertical-align: middle;\n",
       "    }\n",
       "\n",
       "    .dataframe tbody tr th {\n",
       "        vertical-align: top;\n",
       "    }\n",
       "\n",
       "    .dataframe thead th {\n",
       "        text-align: right;\n",
       "    }\n",
       "</style>\n",
       "<table border=\"1\" class=\"dataframe\">\n",
       "  <thead>\n",
       "    <tr style=\"text-align: right;\">\n",
       "      <th></th>\n",
       "      <th>yr</th>\n",
       "      <th>mo</th>\n",
       "      <th>fives</th>\n",
       "      <th>threes</th>\n",
       "      <th>twos</th>\n",
       "    </tr>\n",
       "  </thead>\n",
       "  <tbody>\n",
       "    <tr>\n",
       "      <th>0</th>\n",
       "      <td>2019</td>\n",
       "      <td>J</td>\n",
       "      <td>5</td>\n",
       "      <td>3</td>\n",
       "      <td>2</td>\n",
       "    </tr>\n",
       "    <tr>\n",
       "      <th>1</th>\n",
       "      <td>2020</td>\n",
       "      <td>J</td>\n",
       "      <td>10</td>\n",
       "      <td>6</td>\n",
       "      <td>4</td>\n",
       "    </tr>\n",
       "  </tbody>\n",
       "</table>\n",
       "</div>"
      ],
      "text/plain": [
       "     yr mo  fives  threes  twos\n",
       "0  2019  J      5       3     2\n",
       "1  2020  J     10       6     4"
      ]
     },
     "execution_count": 19,
     "metadata": {},
     "output_type": "execute_result"
    }
   ],
   "source": [
    "# convert the pivotted index back into propper columns\n",
    "baz_df = foo_df.pivot(index = ['yr', 'mo'], columns=['var'], values = ['val'])['val'].reset_index()\n",
    "# drop the value column name from the resulting index\n",
    "baz_df.columns.name = None\n",
    "baz_df"
   ]
  },
  {
   "cell_type": "markdown",
   "metadata": {},
   "source": [
    "## Reshape the table into \"Tidy Data Format\"\n",
    "Note: There are many ways to do this, I picked an approach I thought most easy to interpret. There may be more efficient but less transparent ways to accomplish this with pivottting."
   ]
  },
  {
   "cell_type": "code",
   "execution_count": 20,
   "metadata": {},
   "outputs": [
    {
     "data": {
      "text/html": [
       "<div>\n",
       "<style scoped>\n",
       "    .dataframe tbody tr th:only-of-type {\n",
       "        vertical-align: middle;\n",
       "    }\n",
       "\n",
       "    .dataframe tbody tr th {\n",
       "        vertical-align: top;\n",
       "    }\n",
       "\n",
       "    .dataframe thead th {\n",
       "        text-align: right;\n",
       "    }\n",
       "</style>\n",
       "<table border=\"1\" class=\"dataframe\">\n",
       "  <thead>\n",
       "    <tr style=\"text-align: right;\">\n",
       "      <th></th>\n",
       "      <th>Year</th>\n",
       "      <th>Period</th>\n",
       "      <th>CATTLE, COWS, MILK - INVENTORY, AVG, MEASURED IN HEAD</th>\n",
       "      <th>MILK - PRODUCTION, MEASURED IN LB</th>\n",
       "      <th>MILK - PRODUCTION, MEASURED IN LB / HEAD</th>\n",
       "    </tr>\n",
       "  </thead>\n",
       "  <tbody>\n",
       "    <tr>\n",
       "      <th>0</th>\n",
       "      <td>2020</td>\n",
       "      <td>JAN</td>\n",
       "      <td>9361000.0</td>\n",
       "      <td>18860000000</td>\n",
       "      <td>2015.0</td>\n",
       "    </tr>\n",
       "    <tr>\n",
       "      <th>1</th>\n",
       "      <td>2020</td>\n",
       "      <td>FEB</td>\n",
       "      <td>9375000.0</td>\n",
       "      <td>17890000000</td>\n",
       "      <td>1908.0</td>\n",
       "    </tr>\n",
       "    <tr>\n",
       "      <th>2</th>\n",
       "      <td>2020</td>\n",
       "      <td>MAR</td>\n",
       "      <td>9385000.0</td>\n",
       "      <td>19380000000</td>\n",
       "      <td>2065.0</td>\n",
       "    </tr>\n",
       "    <tr>\n",
       "      <th>3</th>\n",
       "      <td>2020</td>\n",
       "      <td>APR</td>\n",
       "      <td>9375000.0</td>\n",
       "      <td>18675000000</td>\n",
       "      <td>1992.0</td>\n",
       "    </tr>\n",
       "    <tr>\n",
       "      <th>4</th>\n",
       "      <td>2020</td>\n",
       "      <td>MAY</td>\n",
       "      <td>9360000.0</td>\n",
       "      <td>18955000000</td>\n",
       "      <td>2025.0</td>\n",
       "    </tr>\n",
       "    <tr>\n",
       "      <th>5</th>\n",
       "      <td>2020</td>\n",
       "      <td>JUN</td>\n",
       "      <td>9350000.0</td>\n",
       "      <td>18367000000</td>\n",
       "      <td>1964.0</td>\n",
       "    </tr>\n",
       "    <tr>\n",
       "      <th>6</th>\n",
       "      <td>2020</td>\n",
       "      <td>JUL</td>\n",
       "      <td>9360000.0</td>\n",
       "      <td>18735000000</td>\n",
       "      <td>2002.0</td>\n",
       "    </tr>\n",
       "    <tr>\n",
       "      <th>7</th>\n",
       "      <td>2020</td>\n",
       "      <td>AUG</td>\n",
       "      <td>9360000.0</td>\n",
       "      <td>18600000000</td>\n",
       "      <td>1987.0</td>\n",
       "    </tr>\n",
       "    <tr>\n",
       "      <th>8</th>\n",
       "      <td>2019</td>\n",
       "      <td>JAN</td>\n",
       "      <td>9354000.0</td>\n",
       "      <td>18612000000</td>\n",
       "      <td>1990.0</td>\n",
       "    </tr>\n",
       "    <tr>\n",
       "      <th>9</th>\n",
       "      <td>2019</td>\n",
       "      <td>FEB</td>\n",
       "      <td>9352000.0</td>\n",
       "      <td>16966000000</td>\n",
       "      <td>1814.0</td>\n",
       "    </tr>\n",
       "    <tr>\n",
       "      <th>10</th>\n",
       "      <td>2019</td>\n",
       "      <td>MAR</td>\n",
       "      <td>9333000.0</td>\n",
       "      <td>18845000000</td>\n",
       "      <td>2019.0</td>\n",
       "    </tr>\n",
       "    <tr>\n",
       "      <th>11</th>\n",
       "      <td>2019</td>\n",
       "      <td>APR</td>\n",
       "      <td>9332000.0</td>\n",
       "      <td>18433000000</td>\n",
       "      <td>1975.0</td>\n",
       "    </tr>\n",
       "    <tr>\n",
       "      <th>12</th>\n",
       "      <td>2019</td>\n",
       "      <td>MAY</td>\n",
       "      <td>9333000.0</td>\n",
       "      <td>19058000000</td>\n",
       "      <td>2042.0</td>\n",
       "    </tr>\n",
       "    <tr>\n",
       "      <th>13</th>\n",
       "      <td>2019</td>\n",
       "      <td>JUN</td>\n",
       "      <td>9327000.0</td>\n",
       "      <td>18225000000</td>\n",
       "      <td>1954.0</td>\n",
       "    </tr>\n",
       "    <tr>\n",
       "      <th>14</th>\n",
       "      <td>2019</td>\n",
       "      <td>JUL</td>\n",
       "      <td>9315000.0</td>\n",
       "      <td>18375000000</td>\n",
       "      <td>1973.0</td>\n",
       "    </tr>\n",
       "    <tr>\n",
       "      <th>15</th>\n",
       "      <td>2019</td>\n",
       "      <td>AUG</td>\n",
       "      <td>9318000.0</td>\n",
       "      <td>18267000000</td>\n",
       "      <td>1960.0</td>\n",
       "    </tr>\n",
       "    <tr>\n",
       "      <th>16</th>\n",
       "      <td>2019</td>\n",
       "      <td>SEP</td>\n",
       "      <td>9333000.0</td>\n",
       "      <td>17595000000</td>\n",
       "      <td>1885.0</td>\n",
       "    </tr>\n",
       "    <tr>\n",
       "      <th>17</th>\n",
       "      <td>2019</td>\n",
       "      <td>OCT</td>\n",
       "      <td>9347000.0</td>\n",
       "      <td>18135000000</td>\n",
       "      <td>1940.0</td>\n",
       "    </tr>\n",
       "    <tr>\n",
       "      <th>18</th>\n",
       "      <td>2019</td>\n",
       "      <td>NOV</td>\n",
       "      <td>9345000.0</td>\n",
       "      <td>17506000000</td>\n",
       "      <td>1873.0</td>\n",
       "    </tr>\n",
       "    <tr>\n",
       "      <th>19</th>\n",
       "      <td>2019</td>\n",
       "      <td>DEC</td>\n",
       "      <td>9343000.0</td>\n",
       "      <td>18365000000</td>\n",
       "      <td>1966.0</td>\n",
       "    </tr>\n",
       "  </tbody>\n",
       "</table>\n",
       "</div>"
      ],
      "text/plain": [
       "    Year Period  CATTLE, COWS, MILK - INVENTORY, AVG, MEASURED IN HEAD  \\\n",
       "0   2020    JAN                                          9361000.0       \n",
       "1   2020    FEB                                          9375000.0       \n",
       "2   2020    MAR                                          9385000.0       \n",
       "3   2020    APR                                          9375000.0       \n",
       "4   2020    MAY                                          9360000.0       \n",
       "5   2020    JUN                                          9350000.0       \n",
       "6   2020    JUL                                          9360000.0       \n",
       "7   2020    AUG                                          9360000.0       \n",
       "8   2019    JAN                                          9354000.0       \n",
       "9   2019    FEB                                          9352000.0       \n",
       "10  2019    MAR                                          9333000.0       \n",
       "11  2019    APR                                          9332000.0       \n",
       "12  2019    MAY                                          9333000.0       \n",
       "13  2019    JUN                                          9327000.0       \n",
       "14  2019    JUL                                          9315000.0       \n",
       "15  2019    AUG                                          9318000.0       \n",
       "16  2019    SEP                                          9333000.0       \n",
       "17  2019    OCT                                          9347000.0       \n",
       "18  2019    NOV                                          9345000.0       \n",
       "19  2019    DEC                                          9343000.0       \n",
       "\n",
       "    MILK - PRODUCTION, MEASURED IN LB  \\\n",
       "0                         18860000000   \n",
       "1                         17890000000   \n",
       "2                         19380000000   \n",
       "3                         18675000000   \n",
       "4                         18955000000   \n",
       "5                         18367000000   \n",
       "6                         18735000000   \n",
       "7                         18600000000   \n",
       "8                         18612000000   \n",
       "9                         16966000000   \n",
       "10                        18845000000   \n",
       "11                        18433000000   \n",
       "12                        19058000000   \n",
       "13                        18225000000   \n",
       "14                        18375000000   \n",
       "15                        18267000000   \n",
       "16                        17595000000   \n",
       "17                        18135000000   \n",
       "18                        17506000000   \n",
       "19                        18365000000   \n",
       "\n",
       "    MILK - PRODUCTION, MEASURED IN LB / HEAD  \n",
       "0                                     2015.0  \n",
       "1                                     1908.0  \n",
       "2                                     2065.0  \n",
       "3                                     1992.0  \n",
       "4                                     2025.0  \n",
       "5                                     1964.0  \n",
       "6                                     2002.0  \n",
       "7                                     1987.0  \n",
       "8                                     1990.0  \n",
       "9                                     1814.0  \n",
       "10                                    2019.0  \n",
       "11                                    1975.0  \n",
       "12                                    2042.0  \n",
       "13                                    1954.0  \n",
       "14                                    1973.0  \n",
       "15                                    1960.0  \n",
       "16                                    1885.0  \n",
       "17                                    1940.0  \n",
       "18                                    1873.0  \n",
       "19                                    1966.0  "
      ]
     },
     "execution_count": 20,
     "metadata": {},
     "output_type": "execute_result"
    }
   ],
   "source": [
    "# set a flag\n",
    "first = True\n",
    "# for each unique variable in the variable column\n",
    "for v in qs_df['Data Item'].unique():\n",
    "    if first:\n",
    "        # filter down to rows corresponding to each unique variable\n",
    "            tidy_df = qs_df[qs_df['Data Item'] == v].rename(\n",
    "            # rename the column holding the values with the variable they describe\n",
    "            columns = {'Value': v}\n",
    "            ).drop(\n",
    "                # drop the now redundant column describing the variable name\n",
    "                columns = ['Data Item']\n",
    "            )\n",
    "\n",
    "            # mark the flag\n",
    "            first = False\n",
    "        \n",
    "    if not first:\n",
    "        # do a full outer join\n",
    "        tidy_df = pd.merge(\n",
    "            # of the accumulated tidy data so far\n",
    "            left = tidy_df, \n",
    "            # and of the tidied up data rows for the variable we're working on \n",
    "            right = qs_df[qs_df['Data Item'] == v].rename(columns = {'Value': v}).drop(columns = ['Data Item']),\n",
    "            how = 'outer'\n",
    "        )\n",
    "tidy_df.head(20)"
   ]
  },
  {
   "cell_type": "markdown",
   "metadata": {},
   "source": [
    "alternative tidying applied to qs_df (output looses the chronological order implicit in original qs_df)"
   ]
  },
  {
   "cell_type": "code",
   "execution_count": 21,
   "metadata": {},
   "outputs": [
    {
     "data": {
      "text/plain": [
       "\"# reshape the qs data frame into tidy data format\\ntidy_df = qs_df.pivot(\\n    # preserve the tidy columns by storing them into the index\\n    index = ['Year', 'Period'],\\n    # pivot on the 'Data Item' column\\n    columns = ['Data Item'],\\n    # declare the values to pivot into the 'Data Item' column\\n    values = ['Value']\\n)[\\n    # drop down a level in the resulting columns index by selecting the Value column\\n    'Value'\\n].reset_index(\\n    # convert the pivotted index back into propper columns\\n    drop = False\\n)\\n# drop the Value column name from the resulting index\\ntidy_df.columns.name = None\\n# sort the resulting tidy_df by Year descending and reset the index to avoid confusion\\ntidy_df = tidy_df.sort_values('Year', ascending = False).reset_index(drop = True)\\n# display the results\\ntidy_df.head(12)\""
      ]
     },
     "execution_count": 21,
     "metadata": {},
     "output_type": "execute_result"
    }
   ],
   "source": [
    "'''# reshape the qs data frame into tidy data format\n",
    "tidy_df = qs_df.pivot(\n",
    "    # preserve the tidy columns by storing them into the index\n",
    "    index = ['Year', 'Period'],\n",
    "    # pivot on the 'Data Item' column\n",
    "    columns = ['Data Item'],\n",
    "    # declare the values to pivot into the 'Data Item' column\n",
    "    values = ['Value']\n",
    ")[\n",
    "    # drop down a level in the resulting columns index by selecting the Value column\n",
    "    'Value'\n",
    "].reset_index(\n",
    "    # convert the pivotted index back into propper columns\n",
    "    drop = False\n",
    ")\n",
    "# drop the Value column name from the resulting index\n",
    "tidy_df.columns.name = None\n",
    "# sort the resulting tidy_df by Year descending and reset the index to avoid confusion\n",
    "tidy_df = tidy_df.sort_values('Year', ascending = False).reset_index(drop = True)\n",
    "# display the results\n",
    "tidy_df.head(12)'''"
   ]
  },
  {
   "cell_type": "markdown",
   "metadata": {},
   "source": [
    "### add a numeric month column"
   ]
  },
  {
   "cell_type": "code",
   "execution_count": 22,
   "metadata": {},
   "outputs": [
    {
     "data": {
      "text/html": [
       "<div>\n",
       "<style scoped>\n",
       "    .dataframe tbody tr th:only-of-type {\n",
       "        vertical-align: middle;\n",
       "    }\n",
       "\n",
       "    .dataframe tbody tr th {\n",
       "        vertical-align: top;\n",
       "    }\n",
       "\n",
       "    .dataframe thead th {\n",
       "        text-align: right;\n",
       "    }\n",
       "</style>\n",
       "<table border=\"1\" class=\"dataframe\">\n",
       "  <thead>\n",
       "    <tr style=\"text-align: right;\">\n",
       "      <th></th>\n",
       "      <th>Year</th>\n",
       "      <th>Period</th>\n",
       "      <th>CATTLE, COWS, MILK - INVENTORY, AVG, MEASURED IN HEAD</th>\n",
       "      <th>MILK - PRODUCTION, MEASURED IN LB</th>\n",
       "      <th>MILK - PRODUCTION, MEASURED IN LB / HEAD</th>\n",
       "      <th>Month</th>\n",
       "    </tr>\n",
       "  </thead>\n",
       "  <tbody>\n",
       "    <tr>\n",
       "      <th>0</th>\n",
       "      <td>2020</td>\n",
       "      <td>JAN</td>\n",
       "      <td>9361000.0</td>\n",
       "      <td>18860000000</td>\n",
       "      <td>2015.0</td>\n",
       "      <td>1</td>\n",
       "    </tr>\n",
       "    <tr>\n",
       "      <th>1</th>\n",
       "      <td>2020</td>\n",
       "      <td>FEB</td>\n",
       "      <td>9375000.0</td>\n",
       "      <td>17890000000</td>\n",
       "      <td>1908.0</td>\n",
       "      <td>2</td>\n",
       "    </tr>\n",
       "    <tr>\n",
       "      <th>2</th>\n",
       "      <td>2020</td>\n",
       "      <td>MAR</td>\n",
       "      <td>9385000.0</td>\n",
       "      <td>19380000000</td>\n",
       "      <td>2065.0</td>\n",
       "      <td>3</td>\n",
       "    </tr>\n",
       "    <tr>\n",
       "      <th>3</th>\n",
       "      <td>2020</td>\n",
       "      <td>APR</td>\n",
       "      <td>9375000.0</td>\n",
       "      <td>18675000000</td>\n",
       "      <td>1992.0</td>\n",
       "      <td>4</td>\n",
       "    </tr>\n",
       "    <tr>\n",
       "      <th>4</th>\n",
       "      <td>2020</td>\n",
       "      <td>MAY</td>\n",
       "      <td>9360000.0</td>\n",
       "      <td>18955000000</td>\n",
       "      <td>2025.0</td>\n",
       "      <td>5</td>\n",
       "    </tr>\n",
       "  </tbody>\n",
       "</table>\n",
       "</div>"
      ],
      "text/plain": [
       "   Year Period  CATTLE, COWS, MILK - INVENTORY, AVG, MEASURED IN HEAD  \\\n",
       "0  2020    JAN                                          9361000.0       \n",
       "1  2020    FEB                                          9375000.0       \n",
       "2  2020    MAR                                          9385000.0       \n",
       "3  2020    APR                                          9375000.0       \n",
       "4  2020    MAY                                          9360000.0       \n",
       "\n",
       "   MILK - PRODUCTION, MEASURED IN LB  \\\n",
       "0                        18860000000   \n",
       "1                        17890000000   \n",
       "2                        19380000000   \n",
       "3                        18675000000   \n",
       "4                        18955000000   \n",
       "\n",
       "   MILK - PRODUCTION, MEASURED IN LB / HEAD  Month  \n",
       "0                                    2015.0      1  \n",
       "1                                    1908.0      2  \n",
       "2                                    2065.0      3  \n",
       "3                                    1992.0      4  \n",
       "4                                    2025.0      5  "
      ]
     },
     "execution_count": 22,
     "metadata": {},
     "output_type": "execute_result"
    }
   ],
   "source": [
    "# create a map from month string to int\n",
    "month_to_int_dct = {\n",
    "    mo:i+1 for i,mo in enumerate([\n",
    "        'JAN', 'FEB', 'MAR', 'APR', 'MAY', 'JUN',\n",
    "        'JUL', 'AUG', 'SEP', 'OCT', 'NOV', 'DEC',])\n",
    "}\n",
    "# add the column of months as ints\n",
    "tidy_df['Month'] = tidy_df.Period.map(month_to_int_dct)\n",
    "tidy_df.head()"
   ]
  },
  {
   "cell_type": "markdown",
   "metadata": {},
   "source": [
    "## Init data dictionary"
   ]
  },
  {
   "cell_type": "code",
   "execution_count": 23,
   "metadata": {},
   "outputs": [
    {
     "name": "stdout",
     "output_type": "stream",
     "text": [
      "<class 'pandas.core.frame.DataFrame'>\n",
      "Int64Index: 935 entries, 0 to 934\n",
      "Data columns (total 6 columns):\n",
      " #   Column                                                 Non-Null Count  Dtype  \n",
      "---  ------                                                 --------------  -----  \n",
      " 0   Year                                                   935 non-null    int64  \n",
      " 1   Period                                                 935 non-null    object \n",
      " 2   CATTLE, COWS, MILK - INVENTORY, AVG, MEASURED IN HEAD  931 non-null    float64\n",
      " 3   MILK - PRODUCTION, MEASURED IN LB                      935 non-null    int64  \n",
      " 4   MILK - PRODUCTION, MEASURED IN LB / HEAD               931 non-null    float64\n",
      " 5   Month                                                  935 non-null    int64  \n",
      "dtypes: float64(2), int64(3), object(1)\n",
      "memory usage: 51.1+ KB\n"
     ]
    }
   ],
   "source": [
    "tidy_df.info()"
   ]
  },
  {
   "cell_type": "code",
   "execution_count": 24,
   "metadata": {},
   "outputs": [
    {
     "data": {
      "text/html": [
       "<div>\n",
       "<style scoped>\n",
       "    .dataframe tbody tr th:only-of-type {\n",
       "        vertical-align: middle;\n",
       "    }\n",
       "\n",
       "    .dataframe tbody tr th {\n",
       "        vertical-align: top;\n",
       "    }\n",
       "\n",
       "    .dataframe thead th {\n",
       "        text-align: right;\n",
       "    }\n",
       "</style>\n",
       "<table border=\"1\" class=\"dataframe\">\n",
       "  <thead>\n",
       "    <tr style=\"text-align: right;\">\n",
       "      <th></th>\n",
       "      <th>Estimate</th>\n",
       "      <th>Description</th>\n",
       "      <th>Units</th>\n",
       "      <th>Aggregation</th>\n",
       "      <th>Data Item</th>\n",
       "      <th>Commodity</th>\n",
       "    </tr>\n",
       "  </thead>\n",
       "  <tbody>\n",
       "    <tr>\n",
       "      <th>0</th>\n",
       "      <td>Year</td>\n",
       "      <td>Calendar year of survey estimate</td>\n",
       "      <td>Calendar year</td>\n",
       "      <td>None</td>\n",
       "      <td>Year</td>\n",
       "      <td>None</td>\n",
       "    </tr>\n",
       "    <tr>\n",
       "      <th>1</th>\n",
       "      <td>Period</td>\n",
       "      <td>Calendar month of survey estimate</td>\n",
       "      <td>Calendar month</td>\n",
       "      <td>None</td>\n",
       "      <td>Period</td>\n",
       "      <td>None</td>\n",
       "    </tr>\n",
       "    <tr>\n",
       "      <th>2</th>\n",
       "      <td>Milk Cows</td>\n",
       "      <td>Heads of milk-producing cattle. It is unclear ...</td>\n",
       "      <td>Heads of cattle</td>\n",
       "      <td>Unclear, presumably sum of state counts but th...</td>\n",
       "      <td>CATTLE, COWS, MILK - INVENTORY, AVG, MEASURED ...</td>\n",
       "      <td>CATTLE</td>\n",
       "    </tr>\n",
       "    <tr>\n",
       "      <th>3</th>\n",
       "      <td>Milk Production Lbs</td>\n",
       "      <td>Total pounds of milk produced</td>\n",
       "      <td>Lbs</td>\n",
       "      <td>Total</td>\n",
       "      <td>MILK - PRODUCTION, MEASURED IN LB</td>\n",
       "      <td>MILK</td>\n",
       "    </tr>\n",
       "    <tr>\n",
       "      <th>4</th>\n",
       "      <td>Milk Per Cow</td>\n",
       "      <td>Total pounds of milk produced divided by numbe...</td>\n",
       "      <td>Lbs per cattle-head</td>\n",
       "      <td>Average</td>\n",
       "      <td>MILK - PRODUCTION, MEASURED IN LB / HEAD</td>\n",
       "      <td>MILK</td>\n",
       "    </tr>\n",
       "    <tr>\n",
       "      <th>5</th>\n",
       "      <td>Month</td>\n",
       "      <td>Calendar month as integer</td>\n",
       "      <td>Calendar month</td>\n",
       "      <td>None</td>\n",
       "      <td>Month</td>\n",
       "      <td>None</td>\n",
       "    </tr>\n",
       "  </tbody>\n",
       "</table>\n",
       "</div>"
      ],
      "text/plain": [
       "              Estimate                                        Description  \\\n",
       "0                 Year                   Calendar year of survey estimate   \n",
       "1               Period                  Calendar month of survey estimate   \n",
       "2            Milk Cows  Heads of milk-producing cattle. It is unclear ...   \n",
       "3  Milk Production Lbs                      Total pounds of milk produced   \n",
       "4         Milk Per Cow  Total pounds of milk produced divided by numbe...   \n",
       "5                Month                          Calendar month as integer   \n",
       "\n",
       "                 Units                                        Aggregation  \\\n",
       "0        Calendar year                                               None   \n",
       "1       Calendar month                                               None   \n",
       "2      Heads of cattle  Unclear, presumably sum of state counts but th...   \n",
       "3                  Lbs                                              Total   \n",
       "4  Lbs per cattle-head                                            Average   \n",
       "5       Calendar month                                               None   \n",
       "\n",
       "                                           Data Item Commodity  \n",
       "0                                               Year      None  \n",
       "1                                             Period      None  \n",
       "2  CATTLE, COWS, MILK - INVENTORY, AVG, MEASURED ...    CATTLE  \n",
       "3                  MILK - PRODUCTION, MEASURED IN LB      MILK  \n",
       "4           MILK - PRODUCTION, MEASURED IN LB / HEAD      MILK  \n",
       "5                                              Month      None  "
      ]
     },
     "execution_count": 24,
     "metadata": {},
     "output_type": "execute_result"
    }
   ],
   "source": [
    "# manually define data dict\n",
    "tidy_data_dict = pd.DataFrame({\n",
    "    'Estimate' : ['Year', 'Period', 'Milk Cows', 'Milk Production Lbs', 'Milk Per Cow', 'Month'],\n",
    "    'Description':['Calendar year of survey estimate', 'Calendar month of survey estimate', 'Heads of milk-producing cattle. It is unclear why the \"Data Item\" includes the aggregation \"AVG\"', \"Total pounds of milk produced\", \"Total pounds of milk produced divided by number of milk producing cows\", \"Calendar month as integer\"],\n",
    "    'Units': ['Calendar year', 'Calendar month', 'Heads of cattle', 'Lbs', 'Lbs per cattle-head', 'Calendar month'],\n",
    "    'Aggregation': [None, None, 'Unclear, presumably sum of state counts but the \"Data Item\" name icludes \"AVG\" which is confusing', 'Total', 'Average', None],\n",
    "    'Data Item': ['Year', 'Period', 'CATTLE, COWS, MILK - INVENTORY, AVG, MEASURED IN HEAD', 'MILK - PRODUCTION, MEASURED IN LB', 'MILK - PRODUCTION, MEASURED IN LB / HEAD', 'Month'],\n",
    "    'Commodity': [None, None, 'CATTLE', 'MILK', 'MILK', None]\n",
    "})\n",
    "tidy_data_dict"
   ]
  },
  {
   "cell_type": "markdown",
   "metadata": {},
   "source": [
    "## Rename columns to be more user-friendly\n"
   ]
  },
  {
   "cell_type": "code",
   "execution_count": 25,
   "metadata": {},
   "outputs": [
    {
     "data": {
      "text/html": [
       "<div>\n",
       "<style scoped>\n",
       "    .dataframe tbody tr th:only-of-type {\n",
       "        vertical-align: middle;\n",
       "    }\n",
       "\n",
       "    .dataframe tbody tr th {\n",
       "        vertical-align: top;\n",
       "    }\n",
       "\n",
       "    .dataframe thead th {\n",
       "        text-align: right;\n",
       "    }\n",
       "</style>\n",
       "<table border=\"1\" class=\"dataframe\">\n",
       "  <thead>\n",
       "    <tr style=\"text-align: right;\">\n",
       "      <th></th>\n",
       "      <th>Year</th>\n",
       "      <th>Period</th>\n",
       "      <th>Milk Cows</th>\n",
       "      <th>Milk Production Lbs</th>\n",
       "      <th>Milk Per Cow</th>\n",
       "      <th>Month</th>\n",
       "    </tr>\n",
       "  </thead>\n",
       "  <tbody>\n",
       "    <tr>\n",
       "      <th>0</th>\n",
       "      <td>2020</td>\n",
       "      <td>JAN</td>\n",
       "      <td>9361000.0</td>\n",
       "      <td>18860000000</td>\n",
       "      <td>2015.0</td>\n",
       "      <td>1</td>\n",
       "    </tr>\n",
       "    <tr>\n",
       "      <th>1</th>\n",
       "      <td>2020</td>\n",
       "      <td>FEB</td>\n",
       "      <td>9375000.0</td>\n",
       "      <td>17890000000</td>\n",
       "      <td>1908.0</td>\n",
       "      <td>2</td>\n",
       "    </tr>\n",
       "    <tr>\n",
       "      <th>2</th>\n",
       "      <td>2020</td>\n",
       "      <td>MAR</td>\n",
       "      <td>9385000.0</td>\n",
       "      <td>19380000000</td>\n",
       "      <td>2065.0</td>\n",
       "      <td>3</td>\n",
       "    </tr>\n",
       "    <tr>\n",
       "      <th>3</th>\n",
       "      <td>2020</td>\n",
       "      <td>APR</td>\n",
       "      <td>9375000.0</td>\n",
       "      <td>18675000000</td>\n",
       "      <td>1992.0</td>\n",
       "      <td>4</td>\n",
       "    </tr>\n",
       "    <tr>\n",
       "      <th>4</th>\n",
       "      <td>2020</td>\n",
       "      <td>MAY</td>\n",
       "      <td>9360000.0</td>\n",
       "      <td>18955000000</td>\n",
       "      <td>2025.0</td>\n",
       "      <td>5</td>\n",
       "    </tr>\n",
       "  </tbody>\n",
       "</table>\n",
       "</div>"
      ],
      "text/plain": [
       "   Year Period  Milk Cows  Milk Production Lbs  Milk Per Cow  Month\n",
       "0  2020    JAN  9361000.0          18860000000        2015.0      1\n",
       "1  2020    FEB  9375000.0          17890000000        1908.0      2\n",
       "2  2020    MAR  9385000.0          19380000000        2065.0      3\n",
       "3  2020    APR  9375000.0          18675000000        1992.0      4\n",
       "4  2020    MAY  9360000.0          18955000000        2025.0      5"
      ]
     },
     "execution_count": 25,
     "metadata": {},
     "output_type": "execute_result"
    }
   ],
   "source": [
    "tidy_df = tidy_df.rename(columns = {\n",
    "    col : tidy_data_dict[tidy_data_dict['Data Item'] == col].Estimate.values[0] for col in tidy_data_dict['Data Item']\n",
    "})\n",
    "tidy_df.head()"
   ]
  },
  {
   "cell_type": "markdown",
   "metadata": {},
   "source": [
    "# NOTE: IDEALLY DB WOULD SERVE DATA-MART THE FOLLOWING THREE OBJECTS:\n",
    "# -------------------------------\n",
    "- ## DATA DICTIOANRY (see above)\n",
    "- ## TIDY DATA (see above)\n",
    "- ## META DATA (see below)\n",
    "\n",
    "This is only the first instance of what is likely to be a more genralizable workflow, but if the data mart is defined by containing the data necessary to replicate the three time series plots in this milk-report then it needs to contain the tidy data (and should contain the meta-data and data dictionary to provide helpful context to its clients). \n",
    "\n",
    "# -------------------------------"
   ]
  },
  {
   "cell_type": "code",
   "execution_count": 26,
   "metadata": {},
   "outputs": [
    {
     "data": {
      "text/html": [
       "<div>\n",
       "<style scoped>\n",
       "    .dataframe tbody tr th:only-of-type {\n",
       "        vertical-align: middle;\n",
       "    }\n",
       "\n",
       "    .dataframe tbody tr th {\n",
       "        vertical-align: top;\n",
       "    }\n",
       "\n",
       "    .dataframe thead th {\n",
       "        text-align: right;\n",
       "    }\n",
       "</style>\n",
       "<table border=\"1\" class=\"dataframe\">\n",
       "  <thead>\n",
       "    <tr style=\"text-align: right;\">\n",
       "      <th></th>\n",
       "      <th>Program</th>\n",
       "      <th>Geo Level</th>\n",
       "      <th>Domain</th>\n",
       "    </tr>\n",
       "  </thead>\n",
       "  <tbody>\n",
       "    <tr>\n",
       "      <th>0</th>\n",
       "      <td>SURVEY</td>\n",
       "      <td>NATIONAL</td>\n",
       "      <td>TOTAL</td>\n",
       "    </tr>\n",
       "  </tbody>\n",
       "</table>\n",
       "</div>"
      ],
      "text/plain": [
       "  Program Geo Level Domain\n",
       "0  SURVEY  NATIONAL  TOTAL"
      ]
     },
     "execution_count": 26,
     "metadata": {},
     "output_type": "execute_result"
    }
   ],
   "source": [
    "metadata_df"
   ]
  },
  {
   "cell_type": "code",
   "execution_count": 27,
   "metadata": {},
   "outputs": [],
   "source": [
    "# save the three tables defining data-marts data-requiremets\n",
    "metadata_df.to_csv(Path('data-mart-tech-specs/meta-data.csv'), index = False)\n",
    "tidy_data_dict.to_csv(Path('data-mart-tech-specs/data-dict.csv'), index = False)\n",
    "tidy_df.to_csv(Path('data-mart-tech-specs/tidy-data.csv'), index = False)"
   ]
  },
  {
   "cell_type": "markdown",
   "metadata": {},
   "source": [
    "# DEFINE PLOT OBJECTS FOR DATA MART TO SERVE TO API\n",
    "# ------------------------------------------------"
   ]
  },
  {
   "cell_type": "markdown",
   "metadata": {},
   "source": [
    "## Replicate the plots"
   ]
  },
  {
   "cell_type": "markdown",
   "metadata": {},
   "source": [
    "**Milk Production Lbs**"
   ]
  },
  {
   "cell_type": "code",
   "execution_count": 28,
   "metadata": {},
   "outputs": [],
   "source": [
    "col = 'Milk Production Lbs'"
   ]
  },
  {
   "cell_type": "code",
   "execution_count": 29,
   "metadata": {},
   "outputs": [
    {
     "data": {
      "application/vnd.jupyter.widget-view+json": {
       "model_id": "2b3c4ec507c84fae8ae31a61b43fe3f6",
       "version_major": 2,
       "version_minor": 0
      },
      "text/plain": [
       "FigureWidget({\n",
       "    'data': [{'mode': 'lines+markers',\n",
       "              'name': '2020',\n",
       "              'type': 'sca…"
      ]
     },
     "metadata": {},
     "output_type": "display_data"
    }
   ],
   "source": [
    "# init the figure\n",
    "fig = go.FigureWidget()\n",
    "# add some traces\n",
    "for yr in tidy_df.Year.unique():\n",
    "    if yr in {2020, 2019}:\n",
    "        fig.add_trace(\n",
    "            go.Scatter(\n",
    "                x = tidy_df[tidy_df.Year == yr].sort_values(by = ['Month'])['Period'],\n",
    "                y = tidy_df[tidy_df.Year == yr].sort_values(by = ['Month'])[col],\n",
    "                mode = 'lines+markers',\n",
    "                name = str(yr),\n",
    "            )\n",
    "        )\n",
    "    # add the rest of the traces toggled off\n",
    "    else:\n",
    "        fig.add_trace(\n",
    "            go.Scatter(\n",
    "                x = tidy_df[tidy_df.Year == yr].sort_values(by = ['Month'])['Period'],\n",
    "                y = tidy_df[tidy_df.Year == yr].sort_values(by = ['Month'])[col],\n",
    "                mode = 'lines+markers',\n",
    "                name = str(yr),\n",
    "                visible='legendonly'\n",
    "            )\n",
    "        )\n",
    "# Add title\n",
    "fig.update_layout(\n",
    "    title = 'Monthly ' + col + ', National',\n",
    "    yaxis_title = col,\n",
    ")\n",
    "# display the figure\n",
    "fig"
   ]
  },
  {
   "cell_type": "markdown",
   "metadata": {},
   "source": [
    "**save vis objects**"
   ]
  },
  {
   "cell_type": "code",
   "execution_count": 30,
   "metadata": {},
   "outputs": [
    {
     "name": "stdout",
     "output_type": "stream",
     "text": [
      "data-mart-tech-specs/milk-production-lbs\n"
     ]
    }
   ],
   "source": [
    "# init extensionless file path\n",
    "fp = 'data-mart-tech-specs/' + re.sub(' ', '-', col.lower())\n",
    "print(fp)\n",
    "# save to html\n",
    "with open(Path(fp + '.html'), 'w') as file_path:\n",
    "    file_path.write(fig.to_html())\n",
    "# save to json\n",
    "with open(Path(fp + '.json'), 'w') as file_path:\n",
    "    file_path.write(fig.to_json())\n",
    "# save to png\n",
    "with open(Path(fp + '.png'), 'wb') as file_path:\n",
    "    file_path.write(fig.to_image('png'))"
   ]
  },
  {
   "cell_type": "code",
   "execution_count": 31,
   "metadata": {},
   "outputs": [
    {
     "data": {
      "text/plain": [
       "'data-mart-tech-specs/milk-production-lbs.png'"
      ]
     },
     "execution_count": 31,
     "metadata": {},
     "output_type": "execute_result"
    }
   ],
   "source": [
    "file_path.name"
   ]
  },
  {
   "cell_type": "markdown",
   "metadata": {},
   "source": [
    "**Milk Cows**"
   ]
  },
  {
   "cell_type": "code",
   "execution_count": 32,
   "metadata": {},
   "outputs": [],
   "source": [
    "col = 'Milk Cows'"
   ]
  },
  {
   "cell_type": "code",
   "execution_count": 33,
   "metadata": {},
   "outputs": [
    {
     "data": {
      "application/vnd.jupyter.widget-view+json": {
       "model_id": "8817c45c14ff413395584205109b89c8",
       "version_major": 2,
       "version_minor": 0
      },
      "text/plain": [
       "FigureWidget({\n",
       "    'data': [{'mode': 'lines+markers',\n",
       "              'name': '2020',\n",
       "              'type': 'sca…"
      ]
     },
     "metadata": {},
     "output_type": "display_data"
    }
   ],
   "source": [
    "# init the figure\n",
    "fig = go.FigureWidget()\n",
    "# add some traces\n",
    "for yr in tidy_df.Year.unique():\n",
    "    if yr in {2020, 2019}:\n",
    "        fig.add_trace(\n",
    "            go.Scatter(\n",
    "                x = tidy_df[tidy_df.Year == yr].sort_values(by = ['Month'])['Period'],\n",
    "                y = tidy_df[tidy_df.Year == yr].sort_values(by = ['Month'])[col],\n",
    "                mode = 'lines+markers',\n",
    "                name = str(yr),\n",
    "            )\n",
    "        )\n",
    "    # add the rest of the traces toggled off\n",
    "    else:\n",
    "        fig.add_trace(\n",
    "            go.Scatter(\n",
    "                x = tidy_df[tidy_df.Year == yr].sort_values(by = ['Month'])['Period'],\n",
    "                y = tidy_df[tidy_df.Year == yr].sort_values(by = ['Month'])[col],\n",
    "                mode = 'lines+markers',\n",
    "                name = str(yr),\n",
    "                visible='legendonly'\n",
    "            )\n",
    "        )\n",
    "# Add title\n",
    "fig.update_layout(\n",
    "    title = 'Monthly ' + col + ', National',\n",
    "    yaxis_title = col,\n",
    ")\n",
    "# display the figure\n",
    "fig"
   ]
  },
  {
   "cell_type": "markdown",
   "metadata": {},
   "source": [
    "**save the vis objects**"
   ]
  },
  {
   "cell_type": "code",
   "execution_count": 34,
   "metadata": {},
   "outputs": [
    {
     "name": "stdout",
     "output_type": "stream",
     "text": [
      "data-mart-tech-specs/milk-cows\n"
     ]
    }
   ],
   "source": [
    "# init extensionless file path\n",
    "fp = 'data-mart-tech-specs/' + re.sub(' ', '-', col.lower())\n",
    "print(fp)\n",
    "# save to html\n",
    "with open(Path(fp + '.html'), 'w') as file_path:\n",
    "    file_path.write(fig.to_html())\n",
    "# save to json\n",
    "with open(Path(fp + '.json'), 'w') as file_path:\n",
    "    file_path.write(fig.to_json())\n",
    "# save to png\n",
    "with open(Path(fp + '.png'), 'wb') as file_path:\n",
    "    file_path.write(fig.to_image('png'))"
   ]
  },
  {
   "cell_type": "markdown",
   "metadata": {},
   "source": [
    "**Milk Per Cow**"
   ]
  },
  {
   "cell_type": "code",
   "execution_count": 35,
   "metadata": {},
   "outputs": [],
   "source": [
    "col = 'Milk Per Cow'"
   ]
  },
  {
   "cell_type": "code",
   "execution_count": 36,
   "metadata": {},
   "outputs": [
    {
     "data": {
      "application/vnd.jupyter.widget-view+json": {
       "model_id": "274b13f2410242fba29ec2ce2f844172",
       "version_major": 2,
       "version_minor": 0
      },
      "text/plain": [
       "FigureWidget({\n",
       "    'data': [{'mode': 'lines+markers',\n",
       "              'name': '2020',\n",
       "              'type': 'sca…"
      ]
     },
     "metadata": {},
     "output_type": "display_data"
    }
   ],
   "source": [
    "# init the figure\n",
    "fig = go.FigureWidget()\n",
    "# add some traces\n",
    "for yr in tidy_df.Year.unique():\n",
    "    if yr in {2020, 2019}:\n",
    "        fig.add_trace(\n",
    "            go.Scatter(\n",
    "                x = tidy_df[tidy_df.Year == yr].sort_values(by = ['Month'])['Period'],\n",
    "                y = tidy_df[tidy_df.Year == yr].sort_values(by = ['Month'])[col],\n",
    "                mode = 'lines+markers',\n",
    "                name = str(yr),\n",
    "            )\n",
    "        )\n",
    "    # add the rest of the traces toggled off\n",
    "    else:\n",
    "        fig.add_trace(\n",
    "            go.Scatter(\n",
    "                x = tidy_df[tidy_df.Year == yr].sort_values(by = ['Month'])['Period'],\n",
    "                y = tidy_df[tidy_df.Year == yr].sort_values(by = ['Month'])[col],\n",
    "                mode = 'lines+markers',\n",
    "                name = str(yr),\n",
    "                visible='legendonly'\n",
    "            )\n",
    "        )\n",
    "# Add title\n",
    "fig.update_layout(\n",
    "    title = 'Monthly ' + col + ', National',\n",
    "    yaxis_title = col,\n",
    ")\n",
    "# display the figure\n",
    "fig"
   ]
  },
  {
   "cell_type": "markdown",
   "metadata": {},
   "source": [
    "**save vis objects**"
   ]
  },
  {
   "cell_type": "code",
   "execution_count": 37,
   "metadata": {},
   "outputs": [
    {
     "name": "stdout",
     "output_type": "stream",
     "text": [
      "data-mart-tech-specs/milk-per-cow\n"
     ]
    }
   ],
   "source": [
    "# init extensionless file path\n",
    "fp = 'data-mart-tech-specs/' + re.sub(' ', '-', col.lower())\n",
    "print(fp)\n",
    "# save to html\n",
    "with open(Path(fp + '.html'), 'w') as file_path:\n",
    "    file_path.write(fig.to_html())\n",
    "# save to json\n",
    "with open(Path(fp + '.json'), 'w') as file_path:\n",
    "    file_path.write(fig.to_json())\n",
    "# save to png\n",
    "with open(Path(fp + '.png'), 'wb') as file_path:\n",
    "    file_path.write(fig.to_image('png'))"
   ]
  }
 ],
 "metadata": {
  "kernelspec": {
   "display_name": "Python 3",
   "language": "python",
   "name": "python3"
  },
  "language_info": {
   "codemirror_mode": {
    "name": "ipython",
    "version": 3
   },
   "file_extension": ".py",
   "mimetype": "text/x-python",
   "name": "python",
   "nbconvert_exporter": "python",
   "pygments_lexer": "ipython3",
   "version": "3.8.5"
  }
 },
 "nbformat": 4,
 "nbformat_minor": 4
}
