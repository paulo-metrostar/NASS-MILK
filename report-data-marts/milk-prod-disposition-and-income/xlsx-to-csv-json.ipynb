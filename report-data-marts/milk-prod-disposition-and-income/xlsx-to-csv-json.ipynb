{
 "cells": [
  {
   "cell_type": "markdown",
   "metadata": {},
   "source": [
    "10/29/2020, _Paulo G. Martinez_\n",
    "- let's clean up my snippets from the scratchpad into something more like a callable function or script\n",
    "\n",
    "# export a \"tidy\" data-mart xlsx file to CSVs, JSONs, ZIPs"
   ]
  },
  {
   "cell_type": "code",
   "execution_count": null,
   "metadata": {},
   "outputs": [],
   "source": [
    "# declare/get some global variables\n",
    "# -----------------------------\n",
    "path_to_xlsx = 'data/data-mart-reqs.xlsx'\n",
    "path_for_outputs = 'data/'\n",
    "# declare excel sheets to ignore\n",
    "ignore_sheets = {'DEV-README'}"
   ]
  },
  {
   "cell_type": "code",
   "execution_count": 44,
   "metadata": {},
   "outputs": [],
   "source": [
    "# imports\n",
    "# -------\n",
    "# for os agnostic path resolving\n",
    "import os\n",
    "# for table manipulations\n",
    "import pandas as pd\n",
    "# for zipping\n",
    "import shutil\n",
    "\n",
    "# export to csv and json\n",
    "# -----------------------\n",
    "# read the excel file\n",
    "xl = pd.ExcelFile(os.path.relpath(path_to_xlsx))\n",
    "# get each sheet\n",
    "for sheet in xl.sheet_names:\n",
    "    if sheet not in ignore_sheets:\n",
    "        \n",
    "        # read the sheet into a df  \n",
    "        df = xl.parse(sheet)\n",
    "        \n",
    "        # prep the target directories\n",
    "        if not os.path.exists(os.path.join(path_for_outputs, 'csvs')):\n",
    "            os.mkdir(os.path.join(path_for_outputs, 'csvs'))\n",
    "        if not os.path.exists(os.path.join(path_for_outputs, 'jsons')):\n",
    "            os.mkdir(os.path.join(path_for_outputs, 'jsons'))\n",
    "\n",
    "        # prep the target paths and write files\n",
    "        out_path = os.path.join(path_for_outputs, 'csvs', sheet+'.csv')\n",
    "        df.to_csv(out_path, index = False)\n",
    "        \n",
    "        out_path = os.path.join(path_for_outputs, 'jsons', sheet+'.json')\n",
    "        df.to_json(out_path)\n",
    "\n",
    "# zip the csv and json directories\n",
    "# --------------------------------\n",
    "for my_folder in ['csvs', 'jsons']:\n",
    "    # prep out path\n",
    "    read_path = os.path.relpath(os.path.join(path_for_outputs, my_folder))\n",
    "    out_path = os.path.join(path_for_outputs, my_folder)\n",
    "    shutil.make_archive(out_path, 'zip', read_path)"
   ]
  }
 ],
 "metadata": {
  "kernelspec": {
   "display_name": "Python 3",
   "language": "python",
   "name": "python3"
  },
  "language_info": {
   "codemirror_mode": {
    "name": "ipython",
    "version": 3
   },
   "file_extension": ".py",
   "mimetype": "text/x-python",
   "name": "python",
   "nbconvert_exporter": "python",
   "pygments_lexer": "ipython3",
   "version": "3.8.5"
  }
 },
 "nbformat": 4,
 "nbformat_minor": 4
}
